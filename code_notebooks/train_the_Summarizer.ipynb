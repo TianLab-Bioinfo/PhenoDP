{
 "cells": [
  {
   "cell_type": "code",
   "execution_count": 4,
   "metadata": {},
   "outputs": [],
   "source": [
    "import os\n",
    "import torch\n",
    "from transformers import AutoTokenizer, T5ForConditionalGeneration\n",
    "from torch.utils.data import DataLoader, Dataset\n",
    "import pandas as pd\n",
    "import numpy as np"
   ]
  },
  {
   "cell_type": "code",
   "execution_count": 5,
   "metadata": {},
   "outputs": [],
   "source": [
    "class CustomDataset(Dataset):\n",
    "    def __init__(self, data, tokenizer, max_length):\n",
    "        self.data = data\n",
    "        self.tokenizer = tokenizer\n",
    "        self.max_length = max_length\n",
    "\n",
    "    def __len__(self):\n",
    "        return len(self.data)\n",
    "\n",
    "    def __getitem__(self, idx):\n",
    "        item = self.data.iloc[idx]\n",
    "        input_text = item['hpo_def']\n",
    "        target_text = item['def']\n",
    "\n",
    "        input_encoding = self.tokenizer(input_text, padding='max_length', truncation=True, max_length=self.max_length, return_tensors=\"pt\")\n",
    "        target_encoding = self.tokenizer(target_text, padding='max_length', truncation=True, max_length=self.max_length, return_tensors=\"pt\")\n",
    "\n",
    "        return input_encoding, target_encoding\n",
    "\n",
    "train_data = pd.read_csv('./source_data/orphadef_hpodef_db.csv')\n",
    "tokenizer = AutoTokenizer.from_pretrained(\"../flanT5/\")\n",
    "model = T5ForConditionalGeneration.from_pretrained(\"../flanT5/\")\n",
    "\n",
    "train_dataset = CustomDataset(train_data, tokenizer, max_length=1024)\n",
    "device = torch.device(\"cuda:3\" if torch.cuda.is_available() else \"cpu\")\n",
    "batch_size = 2\n",
    "train_loader = DataLoader(train_dataset, batch_size=batch_size, shuffle=True)\n",
    "model = model.to(device)\n",
    "optimizer = torch.optim.AdamW(model.parameters(), lr=0.001)\n"
   ]
  },
  {
   "cell_type": "code",
   "execution_count": null,
   "metadata": {},
   "outputs": [],
   "source": [
    "epochs = 50\n",
    "for epoch in range(epochs):\n",
    "    total_loss = 0.0\n",
    "    model.train()\n",
    "    count = 0\n",
    "    for input_sequences, target_sequences in train_loader:\n",
    "        count += 1\n",
    "        input_ids = input_sequences['input_ids'].squeeze(1).to(device)\n",
    "        attention_mask = input_sequences['attention_mask'].squeeze(1).to(device)\n",
    "        target_ids = target_sequences['input_ids'].squeeze(1).to(device)\n",
    "        optimizer.zero_grad()\n",
    "        output = model(input_ids=input_ids, attention_mask=attention_mask, labels=target_ids)\n",
    "        loss = output.loss\n",
    "        loss = torch.mean(loss) \n",
    "        loss.backward()\n",
    "        optimizer.step()\n",
    "        total_loss += loss.item()\n",
    "        average_loss = total_loss / count\n",
    "        print('epochs:', epoch, 'batch:', count, \"Average Loss:\", average_loss)\n",
    "    state_dict = model.module.state_dict() if isinstance(model, torch.nn.DataParallel) else model.state_dict()\n",
    "    \n",
    "    # torch.save(state_dict, './flan-model.pth')\n",
    "  "
   ]
  },
  {
   "cell_type": "code",
   "execution_count": null,
   "metadata": {},
   "outputs": [],
   "source": []
  }
 ],
 "metadata": {
  "kernelspec": {
   "display_name": "Python 3",
   "language": "python",
   "name": "python3"
  },
  "language_info": {
   "codemirror_mode": {
    "name": "ipython",
    "version": 3
   },
   "file_extension": ".py",
   "mimetype": "text/x-python",
   "name": "python",
   "nbconvert_exporter": "python",
   "pygments_lexer": "ipython3",
   "version": "3.7.3"
  }
 },
 "nbformat": 4,
 "nbformat_minor": 2
}
