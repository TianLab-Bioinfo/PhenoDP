{
 "cells": [
  {
   "cell_type": "code",
   "execution_count": 2,
   "metadata": {},
   "outputs": [],
   "source": [
    "# Basic Libraries\n",
    "import numpy as np\n",
    "import pandas as pd\n",
    "import random\n",
    "import pickle\n",
    "\n",
    "# PyTorch Libraries\n",
    "import torch\n",
    "import torch.nn as nn\n",
    "import torch.nn.functional as F\n",
    "from torch.utils.data import DataLoader\n",
    "\n",
    "# Transformers Libraries\n",
    "from transformers import AutoTokenizer, T5ForConditionalGeneration\n",
    "\n",
    "# Graph Neural Network Libraries\n",
    "import dgl\n",
    "import obonet\n",
    "import networkx as nx\n",
    "\n",
    "# Phenotype Libraries\n",
    "from pyhpo.ontology import Ontology\n",
    "from PhenoDP import *\n",
    "from PhenoDP_Preprocess import *\n",
    "from PSD_HPOEncoder import *"
   ]
  },
  {
   "cell_type": "code",
   "execution_count": 3,
   "metadata": {},
   "outputs": [
    {
     "name": "stdout",
     "output_type": "stream",
     "text": [
      "generate disease dict...\n",
      "generate disease dict...\n",
      "related hpo num: 8950\n",
      "generate disease ic dict... \n",
      "calculating hp weights\n",
      "related hpo num: 8950\n",
      "generate disease ic dict... \n",
      "calculating hp weights\n"
     ]
    }
   ],
   "source": [
    "Ontology()\n",
    "pre_model = PhenoDP_Initial(Ontology)"
   ]
  },
  {
   "cell_type": "markdown",
   "metadata": {},
   "source": [
    "# Loading the Pre-trained Summarizer"
   ]
  },
  {
   "cell_type": "code",
   "execution_count": 4,
   "metadata": {},
   "outputs": [
    {
     "data": {
      "text/plain": [
       "<All keys matched successfully>"
      ]
     },
     "execution_count": 4,
     "metadata": {},
     "output_type": "execute_result"
    },
    {
     "data": {
      "text/plain": [
       "<All keys matched successfully>"
      ]
     },
     "execution_count": 4,
     "metadata": {},
     "output_type": "execute_result"
    }
   ],
   "source": [
    "tokenizer = AutoTokenizer.from_pretrained(\"../flanT5/\")\n",
    "T5model = T5ForConditionalGeneration.from_pretrained(\"../flanT5/\")  \n",
    "state_dict = torch.load('../HPO2SUM/flan-model.pth')\n",
    "T5model.load_state_dict(state_dict)"
   ]
  },
  {
   "cell_type": "markdown",
   "metadata": {},
   "source": [
    "# Loading the HPO DAG "
   ]
  },
  {
   "cell_type": "code",
   "execution_count": 5,
   "metadata": {},
   "outputs": [
    {
     "name": "stderr",
     "output_type": "stream",
     "text": [
      "Processing nodes: 100%|██████████| 18281/18281 [09:18<00:00, 32.75it/s]\n",
      "\n"
     ]
    }
   ],
   "source": [
    "\n",
    "url = '../HPO2SUM/hp.obo'  \n",
    "graph = obonet.read_obo(url)\n",
    "feature_dimension = 768\n",
    "for node in tqdm(graph.nodes(), desc=\"Processing nodes\"):\n",
    "    graph.nodes[node]['feature'] = get_vec(node, tokenizer, T5model)"
   ]
  },
  {
   "cell_type": "code",
   "execution_count": 7,
   "metadata": {},
   "outputs": [
    {
     "name": "stdout",
     "output_type": "stream",
     "text": [
      "Name: hp.obo\n",
      "Type: MultiDiGraph\n",
      "Number of nodes: 18281\n",
      "Number of edges: 22671\n",
      "Average in degree:   1.2401\n",
      "Average out degree:   1.2401\n",
      "Name: hp.obo\n",
      "Type: MultiDiGraph\n",
      "Number of nodes: 18281\n",
      "Number of edges: 22671\n",
      "Average in degree:   1.2401\n",
      "Average out degree:   1.2401\n"
     ]
    }
   ],
   "source": [
    "print(nx.info(graph))"
   ]
  },
  {
   "cell_type": "markdown",
   "metadata": {},
   "source": [
    "# Training the PSD-HPOEncoder "
   ]
  },
  {
   "cell_type": "code",
   "execution_count": 8,
   "metadata": {},
   "outputs": [
    {
     "name": "stdout",
     "output_type": "stream",
     "text": [
      "Epoch 0, Loss: 4.0047609218163416e-05\n",
      "Epoch 0, Loss: 4.0047609218163416e-05\n",
      "Epoch 10, Loss: 1.798968696675729e-05\n",
      "Epoch 10, Loss: 1.798968696675729e-05\n",
      "Epoch 20, Loss: 9.810275514610112e-06\n",
      "Epoch 20, Loss: 9.810275514610112e-06\n",
      "Epoch 30, Loss: 7.659506991331e-06\n",
      "Epoch 30, Loss: 7.659506991331e-06\n",
      "Epoch 40, Loss: 6.901744200149551e-06\n",
      "Epoch 40, Loss: 6.901744200149551e-06\n"
     ]
    }
   ],
   "source": [
    "dgl_graph = nx_to_dgl(graph)\n",
    "feature_dimension = 768\n",
    "in_feats = feature_dimension\n",
    "h_feats = 256\n",
    "out_feats = feature_dimension\n",
    "\n",
    "# DGL graph does not implement the API for GPU, so we use CPU for computation\n",
    "device = torch.device(\"cpu\")\n",
    "model = GCN(in_feats, h_feats, out_feats).to(device)\n",
    "\n",
    "# train_model(model, dgl_graph, epochs=50, lr=0.001, node_mask_percentage=0.2, edge_mask_percentage=0.2)\n",
    "\n",
    "train_model(model, dgl_graph, epochs=2000, lr=0.001, node_mask_percentage=0.2, edge_mask_percentage=0.2)\n",
    "model.eval()\n",
    "with torch.no_grad():\n",
    "    reconstructed_features, reconstructed_latent = model(dgl_graph, dgl_graph.ndata['feat'])\n"
   ]
  },
  {
   "cell_type": "code",
   "execution_count": 9,
   "metadata": {},
   "outputs": [],
   "source": [
    "model.eval()\n",
    "with torch.no_grad():\n",
    "    outputs, latent = model(dgl_graph, dgl_graph.ndata['feat'])\n",
    "node_embedding_dict = {node_id: latent[idx].numpy() for idx, node_id in enumerate(list(graph.nodes))}"
   ]
  },
  {
   "cell_type": "code",
   "execution_count": null,
   "metadata": {},
   "outputs": [],
   "source": [
    "with open('./node_embedding_dict_T5_gcn.pkl', 'wb') as f:\n",
    "    pickle.dump(node_embedding_dict, f)"
   ]
  }
 ],
 "metadata": {
  "kernelspec": {
   "display_name": "Python 3",
   "language": "python",
   "name": "python3"
  },
  "language_info": {
   "codemirror_mode": {
    "name": "ipython",
    "version": 3
   },
   "file_extension": ".py",
   "mimetype": "text/x-python",
   "name": "python",
   "nbconvert_exporter": "python",
   "pygments_lexer": "ipython3",
   "version": "3.7.3"
  }
 },
 "nbformat": 4,
 "nbformat_minor": 2
}
