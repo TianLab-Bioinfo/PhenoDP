{
 "cells": [
  {
   "cell_type": "code",
   "execution_count": 1,
   "metadata": {},
   "outputs": [],
   "source": [
    "import pandas as pd\n",
    "import numpy as np\n",
    "import pickle\n",
    "from pyhpo import Ontology\n",
    "from PCL_HPOEncoder import *\n",
    "import torch\n",
    "import torch.nn.functional as F\n",
    "from torch import optim\n",
    "import random\n",
    "\n"
   ]
  },
  {
   "cell_type": "code",
   "execution_count": 2,
   "metadata": {},
   "outputs": [
    {
     "data": {
      "text/plain": [
       "<pyhpo.ontology.OntologyClass at 0x7f1697240400>"
      ]
     },
     "execution_count": 2,
     "metadata": {},
     "output_type": "execute_result"
    }
   ],
   "source": [
    "Ontology()"
   ]
  },
  {
   "cell_type": "code",
   "execution_count": 3,
   "metadata": {},
   "outputs": [],
   "source": [
    "with open('../HPO2SUM/github_project/node_embedding_dict_T5_gcn.pkl', 'rb') as f:\n",
    "    node_embedding = pickle.load(f)\n"
   ]
  },
  {
   "cell_type": "code",
   "execution_count": 4,
   "metadata": {},
   "outputs": [],
   "source": [
    "disease_dict = dict()\n",
    "disease_list = list(Ontology.omim_diseases)\n",
    "for d in disease_list:\n",
    "    disease_dict[d.id] = [Ontology.get_hpo_object(t).id for t in list(d.hpo)]\n",
    "\n",
    "d_count = []\n",
    "disease_db = []\n",
    "for i in list(disease_dict.keys()):\n",
    "    if len(disease_dict[i]) >= 5:\n",
    "        disease_db.append(i)\n"
   ]
  },
  {
   "cell_type": "code",
   "execution_count": 8,
   "metadata": {},
   "outputs": [],
   "source": [
    "input_dim = 256\n",
    "num_heads = 8\n",
    "num_layers = 3\n",
    "hidden_dim = 512\n",
    "output_dim = 1\n",
    "max_seq_length = 128\n",
    "\n",
    "model = PCL_HPOEncoder(input_dim, num_heads, num_layers, hidden_dim, output_dim, max_seq_length)\n",
    "optimizer = optim.Adam(model.parameters(), lr=1e-3)"
   ]
  },
  {
   "cell_type": "code",
   "execution_count": null,
   "metadata": {},
   "outputs": [],
   "source": []
  },
  {
   "cell_type": "code",
   "execution_count": 10,
   "metadata": {},
   "outputs": [
    {
     "name": "stdout",
     "output_type": "stream",
     "text": [
      "Epoch 1, Loss: 5.1400044679641725\n",
      "Epoch 2, Loss: 5.075931429862976\n",
      "Epoch 3, Loss: 5.1044677734375\n",
      "Epoch 4, Loss: 5.087262034416199\n",
      "Epoch 5, Loss: 5.056925201416016\n",
      "Epoch 6, Loss: 5.038917374610901\n",
      "Epoch 7, Loss: 5.007943749427795\n",
      "Epoch 8, Loss: 4.988239336013794\n",
      "Epoch 9, Loss: 4.974637484550476\n",
      "Epoch 10, Loss: 4.9491067886352536\n"
     ]
    }
   ],
   "source": [
    "n_s = 2000\n",
    "max_seq_length = 128\n",
    "# num_epochs = 10\n",
    "num_epochs = 2000\n",
    "batch_size = 100\n",
    "device = 'cuda:3'\n",
    "model.to(device)\n",
    "model.train()\n",
    "inputs_list, mask_list = get_training_sample(disease_db, disease_dict, node_embedding, n_s)\n",
    "inputs1 = inputs_list[0].to(device)\n",
    "inputs2 = inputs_list[1].to(device)\n",
    "masks1 = mask_list[0].to(device)\n",
    "masks2 = mask_list[0].to(device)\n",
    "\n",
    "\n",
    "num_batches = n_s // batch_size + (1 if n_s % batch_size != 0 else 0)\n",
    "\n",
    "for epoch in range(num_epochs):\n",
    "    model.train()\n",
    "    total_loss = 0.0\n",
    "    total_steps = 0\n",
    "    \n",
    "    for batch_idx in range(num_batches):\n",
    "        start_idx = batch_idx * batch_size\n",
    "        end_idx = min(start_idx + batch_size, n_s)\n",
    "        \n",
    "        inputs1_batch = inputs1[start_idx:end_idx]\n",
    "        inputs2_batch = inputs2[start_idx:end_idx]\n",
    "        mask1_batch = masks1[start_idx:end_idx]\n",
    "        mask2_batch = masks2[start_idx:end_idx]\n",
    "        cls_embedding1, emb1 = model(inputs1_batch, mask1_batch)\n",
    "        cls_embedding2, emb2 = model(inputs2_batch, mask2_batch)\n",
    "        \n",
    "        labels = torch.tensor([1.0 if i == j else 0.0 for i in range(len(inputs1_batch)) for j in range(len(inputs2_batch))]).to(device).view(inputs1_batch.size(0), inputs2_batch.size(0))\n",
    "        \n",
    "        loss = info_nce_loss(cls_embedding1, cls_embedding2)\n",
    "        \n",
    "        optimizer.zero_grad()\n",
    "        loss.backward()\n",
    "        optimizer.step()\n",
    "        \n",
    "        total_loss += loss.item()\n",
    "        total_steps += 1\n",
    "    \n",
    "    print(f'Epoch {epoch + 1}, Loss: {total_loss / total_steps}')\n"
   ]
  },
  {
   "cell_type": "code",
   "execution_count": 11,
   "metadata": {},
   "outputs": [],
   "source": [
    "model.to('cpu')\n",
    "torch.save(model.state_dict(), './transformer_encoder_infonce_norm.pth')"
   ]
  },
  {
   "cell_type": "code",
   "execution_count": null,
   "metadata": {},
   "outputs": [],
   "source": []
  }
 ],
 "metadata": {
  "kernelspec": {
   "display_name": "Python 3",
   "language": "python",
   "name": "python3"
  }
 },
 "nbformat": 4,
 "nbformat_minor": 2
}
