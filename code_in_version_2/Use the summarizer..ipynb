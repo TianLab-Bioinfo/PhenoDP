{
 "cells": [
  {
   "cell_type": "markdown",
   "id": "c1410b0c",
   "metadata": {},
   "source": [
    "\n",
    "# 📢 Code Showcase: How to Use the Latest Version of the Summarizer\n",
    "\n",
    "In this sharing on GitHub, we will demonstrate how to use the latest version of our summarizer. This new version of the summarizer employs the output of DeepSeek-R1-671B as the target for distillation. Specifically, we use the disease entries from OMIM or Orphanet, along with their HPO annotation definitions, and input them into DeepSeek-R1-671B to generate synthetic simulated cases. For the detailed process, please refer to our manuscript.\n",
    "\n",
    "Next, we will showcase two practical functions of the summarizer:\n",
    "1. **Symptom Summary Generation**: Input the patient's HPO terms, and the summarizer will quickly generate a summary report of the patient's symptoms.\n",
    "2. **Structured Clinical Report Generation**: Demonstrate how the summarizer receives the results from the ranker and the recommender, and then generates a structured clinical report.\n",
    "\n",
    "Please note that the following code runs in an environment based on Pytorch 2.0.1. \n",
    "\n",
    "The creator of this notebook: Baole Wen (2025.03.29)"
   ]
  },
  {
   "cell_type": "code",
   "execution_count": 1,
   "id": "6fd88bee",
   "metadata": {},
   "outputs": [
    {
     "data": {
      "text/plain": [
       "<pyhpo.ontology.OntologyClass at 0x7fa0f8618940>"
      ]
     },
     "execution_count": 1,
     "metadata": {},
     "output_type": "execute_result"
    }
   ],
   "source": [
    "from transformers import AutoModelForCausalLM, AutoTokenizer\n",
    "from transformers import pipeline\n",
    "from tqdm import tqdm\n",
    "import pandas as pd\n",
    "import torch\n",
    "import re\n",
    "from pyhpo import Ontology\n",
    "Ontology()"
   ]
  },
  {
   "cell_type": "code",
   "execution_count": 2,
   "id": "bf3515bd",
   "metadata": {},
   "outputs": [],
   "source": [
    "def Get_Definition(hpo_list):\n",
    "    definition_list = []\n",
    "    for t in hpo_list:\n",
    "        definition = Ontology.get_hpo_object(t).definition\n",
    "        match = re.search(r'\"(.*?)\"', definition)\n",
    "        if match:\n",
    "            definition_list.append(match.group(1))\n",
    "    return ' '.join(definition_list)"
   ]
  },
  {
   "cell_type": "markdown",
   "id": "3a9c5c9a",
   "metadata": {},
   "source": [
    "# HPO Terms Detected in a Patient\n",
    "\n",
    "1. **HP:0000006** - Autosomal dominant inheritance  \n",
    "2. **HP:0003593** - Infantile onset  \n",
    "3. **HP:0025104** - Capillary malformation  \n",
    "4. **HP:0001009** - Telangiectasia  \n",
    "5. **HP:0003829** - Typified by incomplete penetrance  \n",
    "6. **HP:0030713** - Vein of Galen aneurysmal malformation  \n"
   ]
  },
  {
   "cell_type": "code",
   "execution_count": 3,
   "id": "04668fe1",
   "metadata": {},
   "outputs": [],
   "source": [
    "Patient_hps = ([\"HP:0000006\", \"HP:0003593\", \"HP:0025104\", \"HP:0001009\", \"HP:0003829\", \"HP:0030713\"])"
   ]
  },
  {
   "cell_type": "code",
   "execution_count": 4,
   "id": "8a821c6d",
   "metadata": {},
   "outputs": [],
   "source": [
    "Input_text = Get_Definition(Patient_hps)"
   ]
  },
  {
   "cell_type": "code",
   "execution_count": 5,
   "id": "e913902f",
   "metadata": {},
   "outputs": [
    {
     "data": {
      "application/vnd.jupyter.widget-view+json": {
       "model_id": "ead3409e5e2d47b99d41436def34c0b1",
       "version_major": 2,
       "version_minor": 0
      },
      "text/plain": [
       "Loading checkpoint shards:   0%|          | 0/4 [00:00<?, ?it/s]"
      ]
     },
     "metadata": {},
     "output_type": "display_data"
    }
   ],
   "source": [
    "Model_Path = '/remote-home/share/data3/ly/phenoDP/new-checkpoint-finetune-with-4-datasets/'\n",
    "\n",
    "device = \"cuda:1\" # the device to load the model onto\n",
    "\n",
    "\n",
    "model = AutoModelForCausalLM.from_pretrained(\n",
    "    Model_Path,\n",
    "    torch_dtype=torch.float16,\n",
    "    device_map=\"cuda:1\"\n",
    ")\n",
    "tokenizer = AutoTokenizer.from_pretrained(Model_Path)\n"
   ]
  },
  {
   "cell_type": "code",
   "execution_count": 6,
   "id": "7194af82",
   "metadata": {},
   "outputs": [
    {
     "name": "stderr",
     "output_type": "stream",
     "text": [
      "Starting from v4.46, the `logits` model output will have the same type as the model (except at train time, where it will always be FP32)\n"
     ]
    }
   ],
   "source": [
    "\n",
    "summaries = []\n",
    "\n",
    "max_input_tokens = 2048\n",
    "\n",
    "hpo_def = Input_text\n",
    "\n",
    "prompt = f\"\"\"\n",
    "I will provide you with the definitions of some HPO (Human Phenotype Ontology) terms exhibited by a patient. Based on these definitions, please generate a concise, clinically focused summary of the patient's symptoms in one paragraph, approximately 100-300 words in length. Ensure the summary is highly readable, with smooth transitions between ideas, logical coherence, and accurate representation of the clinical features. Emphasize clarity, fluency, and clinical relevance to create a realistic and precise description of the patient's presentation.\\nText:\\n{hpo_def}\n",
    "\"\"\"\n",
    "  \n",
    "tokenized_text = tokenizer(prompt, return_tensors=\"pt\").input_ids[0]\n",
    "truncated_tokenized_text = tokenized_text[:max_input_tokens]\n",
    "    \n",
    "truncated_text = tokenizer.decode(truncated_tokenized_text)  + '<think>:\\n'\n",
    "\n",
    "summarizer = pipeline(\n",
    "    \"text-generation\",  \n",
    "    model=model,  \n",
    "    tokenizer=tokenizer\n",
    ")\n",
    "response = summarizer(\n",
    "    truncated_text,\n",
    "    max_new_tokens= max_input_tokens + 1024,\n",
    "    top_p=0.95,\n",
    "    top_k=50,\n",
    "    do_sample=True\n",
    ")\n",
    "\n",
    "summary = response[0]['generated_text'].split('<think>:')\n",
    "summaries.append(summary)\n",
    "torch.cuda.empty_cache()\n"
   ]
  },
  {
   "cell_type": "markdown",
   "id": "89b31639",
   "metadata": {},
   "source": [
    "## Input prompt"
   ]
  },
  {
   "cell_type": "code",
   "execution_count": 7,
   "id": "33bb1be1",
   "metadata": {},
   "outputs": [
    {
     "name": "stdout",
     "output_type": "stream",
     "text": [
      "\n",
      "I will provide you with the definitions of some HPO (Human Phenotype Ontology) terms exhibited by a patient. Based on these definitions, please generate a concise, clinically focused summary of the patient's symptoms in one paragraph, approximately 100-300 words in length. Ensure the summary is highly readable, with smooth transitions between ideas, logical coherence, and accurate representation of the clinical features. Emphasize clarity, fluency, and clinical relevance to create a realistic and precise description of the patient's presentation.\n",
      "Text:\n",
      "A mode of inheritance that is observed for traits related to a gene encoded on one of the autosomes (i.e., the human chromosomes 1-22) in which a trait manifests in heterozygotes. In the context of medical genetics, an autosomal dominant disorder is caused when a single copy of the mutant allele is present. Males and females are affected equally, and can both transmit the disorder with a risk of 50% for each child of inheriting the mutant allele. Onset of signs or symptoms of disease between 28 days to one year of life. A capillary malformation is a flat, sharply defined vascular stain of the skin. It may cover a large surface area or it may be scattered and appear as little islands of color. In a capillary maformation, the predominant vessels are small, slow-flow vessels (i.e., arterioles and postcapillary venules). Telangiectasias refer to small dilated blood vessels located near the surface of the skin or mucous membranes, measuring between 0.5 and 1 millimeter in diameter. Telangiectasia are located especially on the tongue, lips, palate, fingers, face, conjunctiva, trunk, nail beds, and fingertips. Description of conditions in which not all individuals with a given genotype exhibit the disease. Penetrance is the proportion that develop disease given a lifespan of 80 years. Vein of Galen aneurysmal malformation is a choroidal type of arteriovenous malformation that develops between 6 and 11 weeks of gestation. It results from 1 or more arteriovenous fistulas shunting blood toward the prosencephalic vein of Markowski, the embryonic precursor of the vein of Galen. This abnormal shunt leads to progressive dilation of the vein and prevents its involution and subsequent development into the vein of Galen.\n",
      "\n"
     ]
    }
   ],
   "source": [
    "print(summaries[0][0])"
   ]
  },
  {
   "cell_type": "markdown",
   "id": "6ad75d2c",
   "metadata": {},
   "source": [
    "## Output"
   ]
  },
  {
   "cell_type": "code",
   "execution_count": 9,
   "id": "4195d46f",
   "metadata": {},
   "outputs": [
    {
     "name": "stdout",
     "output_type": "stream",
     "text": [
      "\n",
      "Okay, let me try to process this query step by step. The user has provided several HPO terms and wants a concise clinical summary. First, I need to identify each term and understand their implications.\n",
      "\n",
      "The first term mentions autosomal dominant inheritance. That tells me the condition is likely genetic, passed down with a 50% chance, affecting males and females equally. Then there's the onset between 28 days to a year, so early infancy symptoms. \n",
      "\n",
      "Next, capillary malformations and telangiectasias. These are vascular issues. Capillary malformations are flat vascular stains, maybe visible at birth. Telangiectasias are small blood vessel dilations, noted on various parts like tongue, lips, etc. Both are part of a larger vascular anomaly mentioned later: venous malformation.\n",
      "\n",
      "The venous malformation details: vein of Galen aneurysm. That's a specific type, seen in the first trimester. Causes problems because the vessel doesn't involute properly, leading to a shunt. Symptoms would relate to increased pressure, possible heart failure if severe.\n",
      "\n",
      "Then, the penetrance part—some carriers don't show symptoms. So even if they have the mutation, they might not exhibit the disease. But since the patient has symptoms, penetrance here is incomplete?\n",
      "\n",
      "Putting this together: The patient has a congenital vascular disorder inherited autosomal dominantly. Symptoms started in infancy, including capillary malformations and telangiectasias. There's a significant vascular issue with the vein of Galen malformation, causing hemodynamic problems. The combination suggests a syndrome like familial capillary malformation disorders, but with the additional venous malformation. Need to mention the risk to offspring due to penetrance and age of onset. Also, note the physical findings and the underlying genetic cause.\n",
      "\n",
      "Wait, the venous malformation is specifically the vein of Galen aneurysmal malformation. I should clarify that's a specific type of arteriovenous malformation. Also, link the presence of capillary malformations and telangiectasias to the broader vascular dysplasia. Make sure the summary flows logically: inheritance, early onset, vascular anomalies, clinical manifestations, complications, and genetic aspects.\n",
      "\n",
      "Check if all terms are addressed: autosomal dominant, onset, capillary malformations/telangiectasias, venous malformation (vein of Galen), penetrance. Yes. Ensure smooth transitions between concepts. Avoid jargon where possible, but keep it clinically accurate. Maybe start with the primary diagnosis, then symptoms, complications, genetic factors, and implications.\n",
      "\n",
      "Alright, time to draft the summary concisely, ensuring each element is included and flows well.\n",
      "</think> \n",
      "\n",
      "The patient presents with clinical features consistent with an autosomal dominant vascular dysplasia syndrome, characterized by early-onset congenital capillary malformations and telangiectasias manifesting within the first year of life. Notably, there is evidence of a **venous malformation** involving the vein of Galen, a choroida-type arteriovenous malformation associated with fetal vasculature disruption during the first trimester. This lesion involves arteriovenous shunts that prevent normal vascular maturation, predisposing to progressive hydrocephalus and potential neurological sequelae. Physical examination reveals capillary malformations—a network of flattened, sharply circumscribed vascular stigmata—and multiple telangiectasias (small, dilated superficial blood vessels) localized to the tongue, lips, palatal surfaces, and extremities. The constellation of findings aligns with a syndromic form of vascular dysplasia, where autosomal dominant transmission explains variable expressivity among family members; while some carriers remain asymptomatic, those presenting with overt manifestations demonstrate a 50% risk of transmitting the pathogenic variant to offspring. The early infantile onset, structural derangements of vital vascular pathways, and patchy cutaneous/neurological involvement underscore the complexity of this disorder, necessitating multidisciplinary management to address developmental comorbidities, hematologic risks, and surveillance for evolving complications such as hemorrhage, cardiac compromise, or progressive intracranial hypertension. Genetic counseling is critical given the potential impact on reproductive planning, with penetrance suggesting incomplete expressivity in certain carriers. Overall, the phenotype reflects a severe, genetically driven vascular malformation spectrum with multisystem manifestations.\n"
     ]
    }
   ],
   "source": [
    "print(summaries[0][1])"
   ]
  },
  {
   "cell_type": "markdown",
   "id": "05834bb0",
   "metadata": {},
   "source": [
    "### Case Demonstration\n",
    "In the following case, we first used the prompt text generated in the example tutorials of the **Rank** and **Recommender**. This prompt text integrates the patient's input symptom information as well as the results from the Rank and Recommender. "
   ]
  },
  {
   "cell_type": "code",
   "execution_count": 10,
   "id": "716595a2",
   "metadata": {},
   "outputs": [
    {
     "name": "stdout",
     "output_type": "stream",
     "text": [
      "\n",
      "Assume you are an experienced clinical physician. Below is a patient’s symptom description using HPO (Human Phenotype Ontology) terms, along with three candidate diagnoses. To further differentiate between these diagnoses, the physician has provided potential symptoms that the patient does not currently exhibit but could help clarify or confirm the diagnosis. Your task is to explain why these potential symptoms are critical for distinguishing between the three diseases.  \n",
      "\n",
      "**Patient’s Symptom Description**:  \n",
      "Caries is a multifactorial bacterial infection affecting the structure of the tooth. This term has been used to describe the presence of more than expected dental caries. A height below that which is expected according to age and gender norms. Although there is no universally accepted definition of short stature, many refer to \\ An increased sensitivity of the skin to light. Photosensitivity may result in a rash upon exposure to the sun (which is known as photodermatosis). Photosensitivity can be diagnosed by phototests in which light is shone on small areas of skin. Generalized muscular hypotonia (abnormally low muscle tone). A type of hearing impairment in one or both ears related to an abnormal functionality of the cochlear nerve. Head circumference below 2 standard deviations below the mean for age and gender. An eye that is more deeply recessed into the plane of the face than is typical.  \n",
      "\n",
      "**Three Most Likely Disease Diagnoses**:  \n",
      "1. [OMIM:216400] Cockayne syndrome, type A\n",
      "2. [OMIM:133540] Cockayne syndrome, type B\n",
      "3. [OMIM:278760] Xeroderma pigmentosum, complementation group F\n",
      "4. [OMIM:618342] Intellectual developmental disorder with abnormal behavior, microcephaly, and short stature\n",
      "5. [OMIM:268850] Richieri-Costa/guion-Almeida syndrome  \n",
      "\n",
      "**Potential Symptoms for Further Differentiation**:  \n",
      "1. [OMIM:216400] Cockayne syndrome, type A : Ventriculomegaly, Cataract, Hip contracture\n",
      "2. [OMIM:133540] Cockayne syndrome, type B : Microcornea, Subcortical white matter calcifications, Developmental cataract\n",
      "3. [OMIM:278760] Xeroderma pigmentosum, complementation group F : Seborrheic keratosis, Keratoacanthoma, Squamous cell carcinoma\n",
      "4. [OMIM:618342] Intellectual developmental disorder with abnormal behavior, microcephaly, and short stature : Muscle spasm, Highly arched eyebrow, Retrognathia\n",
      "5. [OMIM:268850] Richieri-Costa/guion-Almeida syndrome : Esotropia, Spina bifida occulta, Cleft upper lip  \n",
      "\n",
      "**Instructions**:  \n",
      "1. **Explain Potential Symptoms**: Provide a clear and concise rationale for why the listed potential symptoms are critical for distinguishing between the three diseases. Focus on how these symptoms are specific to or more prevalent in one disease compared to the others.  \n",
      "2. **Do Not Diagnose**: Do not make any new diagnoses or suggest additional diseases. Your response should focus solely on explaining the potential symptoms for differentiation.  \n",
      "3. **Length and Style**: The report should be approximately 200–300 words in length, written in a professional and authentic tone that mimics a human expert.  \n",
      "4. **No References**: Do not include any references in the report.   \n",
      "\n"
     ]
    }
   ],
   "source": [
    "\n",
    "with open('/root/HPO2SUM/github_project/Git_validation/Case_Report_Prompt.txt', 'r', encoding='utf-8') as file:\n",
    "    content = file.read()\n",
    "    print(content)\n"
   ]
  },
  {
   "cell_type": "code",
   "execution_count": 11,
   "id": "2ffc07a5",
   "metadata": {},
   "outputs": [],
   "source": [
    "\n",
    "summaries = []\n",
    "\n",
    "max_input_tokens = 4096\n",
    "\n",
    "hpo_def = Input_text\n",
    "\n",
    "prompt = content\n",
    "  \n",
    "tokenized_text = tokenizer(prompt, return_tensors=\"pt\").input_ids[0]\n",
    "truncated_tokenized_text = tokenized_text[:max_input_tokens]\n",
    "    \n",
    "truncated_text = tokenizer.decode(truncated_tokenized_text)  + '<think>:\\n'\n",
    "\n",
    "summarizer = pipeline(\n",
    "    \"text-generation\",  \n",
    "    model=model,  \n",
    "    tokenizer=tokenizer\n",
    ")\n",
    "response = summarizer(\n",
    "    truncated_text,\n",
    "    max_new_tokens= max_input_tokens + 4096,\n",
    "    top_p=0.95,\n",
    "    top_k=50,\n",
    "    do_sample=True\n",
    ")\n",
    "\n",
    "summary = response[0]['generated_text'].split('<think>:')\n",
    "summaries.append(summary)\n",
    "torch.cuda.empty_cache()\n"
   ]
  },
  {
   "cell_type": "markdown",
   "id": "f73009da",
   "metadata": {},
   "source": [
    "# Input"
   ]
  },
  {
   "cell_type": "code",
   "execution_count": 12,
   "id": "9ac326af",
   "metadata": {},
   "outputs": [
    {
     "name": "stdout",
     "output_type": "stream",
     "text": [
      "\n",
      "Assume you are an experienced clinical physician. Below is a patient’s symptom description using HPO (Human Phenotype Ontology) terms, along with three candidate diagnoses. To further differentiate between these diagnoses, the physician has provided potential symptoms that the patient does not currently exhibit but could help clarify or confirm the diagnosis. Your task is to explain why these potential symptoms are critical for distinguishing between the three diseases.  \n",
      "\n",
      "**Patient’s Symptom Description**:  \n",
      "Caries is a multifactorial bacterial infection affecting the structure of the tooth. This term has been used to describe the presence of more than expected dental caries. A height below that which is expected according to age and gender norms. Although there is no universally accepted definition of short stature, many refer to \\ An increased sensitivity of the skin to light. Photosensitivity may result in a rash upon exposure to the sun (which is known as photodermatosis). Photosensitivity can be diagnosed by phototests in which light is shone on small areas of skin. Generalized muscular hypotonia (abnormally low muscle tone). A type of hearing impairment in one or both ears related to an abnormal functionality of the cochlear nerve. Head circumference below 2 standard deviations below the mean for age and gender. An eye that is more deeply recessed into the plane of the face than is typical.  \n",
      "\n",
      "**Three Most Likely Disease Diagnoses**:  \n",
      "1. [OMIM:216400] Cockayne syndrome, type A\n",
      "2. [OMIM:133540] Cockayne syndrome, type B\n",
      "3. [OMIM:278760] Xeroderma pigmentosum, complementation group F\n",
      "4. [OMIM:618342] Intellectual developmental disorder with abnormal behavior, microcephaly, and short stature\n",
      "5. [OMIM:268850] Richieri-Costa/guion-Almeida syndrome  \n",
      "\n",
      "**Potential Symptoms for Further Differentiation**:  \n",
      "1. [OMIM:216400] Cockayne syndrome, type A : Ventriculomegaly, Cataract, Hip contracture\n",
      "2. [OMIM:133540] Cockayne syndrome, type B : Microcornea, Subcortical white matter calcifications, Developmental cataract\n",
      "3. [OMIM:278760] Xeroderma pigmentosum, complementation group F : Seborrheic keratosis, Keratoacanthoma, Squamous cell carcinoma\n",
      "4. [OMIM:618342] Intellectual developmental disorder with abnormal behavior, microcephaly, and short stature : Muscle spasm, Highly arched eyebrow, Retrognathia\n",
      "5. [OMIM:268850] Richieri-Costa/guion-Almeida syndrome : Esotropia, Spina bifida occulta, Cleft upper lip  \n",
      "\n",
      "**Instructions**:  \n",
      "1. **Explain Potential Symptoms**: Provide a clear and concise rationale for why the listed potential symptoms are critical for distinguishing between the three diseases. Focus on how these symptoms are specific to or more prevalent in one disease compared to the others.  \n",
      "2. **Do Not Diagnose**: Do not make any new diagnoses or suggest additional diseases. Your response should focus solely on explaining the potential symptoms for differentiation.  \n",
      "3. **Length and Style**: The report should be approximately 200–300 words in length, written in a professional and authentic tone that mimics a human expert.  \n",
      "4. **No References**: Do not include any references in the report.   \n",
      "\n"
     ]
    }
   ],
   "source": [
    "print(summaries[0][0])"
   ]
  },
  {
   "cell_type": "markdown",
   "id": "8d5598c8",
   "metadata": {},
   "source": [
    "# Output"
   ]
  },
  {
   "cell_type": "code",
   "execution_count": 13,
   "id": "57b025af",
   "metadata": {},
   "outputs": [
    {
     "name": "stdout",
     "output_type": "stream",
     "text": [
      "\n",
      "Okay, let's tackle this query. The user wants me to explain why certain potential symptoms are critical for differentiating between three genetic disorders. First, I need to understand each of the three conditions given.\n",
      "\n",
      "The patient has features like short stature, photosensitivity, generalized hypotonia, microcephaly, deep-set eyes, and dental caries. These point towards either Cockayne syndrome types A/B, Xeroderma pigmentosum (XP) group F, or Richieri-Costa/Guion-Almeida syndrome.\n",
      "\n",
      "Starting with Cockayne syndrome types. Both types have severe photosensitivity and growth issues. Type A mentions ventriculomegaly, cataracts, hip contractures. Type B has microcornea, subcortical white matter calcifications, and developmental cataracts. So, if the patient had signs like ventriculomegaly or hip contractures, that would support Cockayne A. On the other hand, microcornea and white matter changes would lean towards B.\n",
      "\n",
      "Xeroderma pigmentosum (XP) F has high risk of skin cancers and seborrheic keratoses. If the patient showed squamous cell carcinomas or keratoacanthomas, that would strongly point to XP F. However, XP is autosomal recessive, so maybe the family history isn't mentioned here.\n",
      "\n",
      "Richieri-Costa/Guion-Almeida syndrome involves esotropia, SBO, and cleft lip. If the patient had those, it fits. But I'm not sure about the connection to the other symptoms. Maybe the facial dysmorphism is key here.\n",
      "\n",
      "Other differentials: Intellectual disability with microcephaly and short stature (6th listed) includes muscle spasms, arched eyebrows, retrognathia. That seems unrelated to the first three. \n",
      "\n",
      "So the critical symptoms for differentiation would depend on the presence of structural anomalies like eye abnormalities (microcornea vs. cataracts), craniofacial features (retrognathia vs. deep-set eyes), and malignancy susceptibility (squamous cell cancer vs. none mentioned here). Also, neurodevelopmental issues might differ. But since the user didn't mention intellectual disability, maybe the last condition is less likely unless they present.\n",
      "\n",
      "Wait, but the patient's main presentation is more congenital. So focusing on the photosensitivity and growth issues. If the patient had cataracts and hip contractures, that's Cockayne A. If microcorneas and white matter changes, B. If skin cancers, F. The esotropia and facial anomalies point to RCGA.\n",
      "\n",
      "Therefore, the key is to see which symptoms are most indicative of each disorder. For example, cataracts versus microcorneas, hip contractures vs. cataracts, squamous cell carcinomas vs. no malignancies mentioned. Also, the family history might help, but since we don't have that info, we rely on physical exam findings.</think> The patient presents with features suggesting multisystem involvement, including photosensitivity, growth retardation, and ocular abnormalities. To differentiate between the proposed diagnoses—Cockayne Syndrome types A/B, Xeroderma Pigmentosum (XP) Group F, and Richieri-Costa/Guion-Almeida Syndrome—we analyze the following critical potential symptoms:\n",
      "\n",
      "1. **Photosensitivity and Growth Failure**:  \n",
      "   - Cockayne Syndrome (types A/B) is characterized by profound photosensitivity (skin rashes, hair loss) and severe growth failure. The absence of malignant neoplasms aligns with XP Group F, where photosensitivity increases tumor risk. Richieri-Costa/Guion-Almeida Syndrome lacks documented photosensitivity but shows craniofacial dysmorphisms like retrognathia and esotropia.\n",
      "\n",
      "2. **Ocular Abnormalities**:  \n",
      "   - **Cockayne A (Ventriculomegaly/Cataracts)** and **Cockayne B (Microcornea/Subcortical White Matter Calcifications)** involve distinct retinal/brainstem pathologies. Cataracts (seen in both) contrast with microcorneas (unique to Cockayne B). Meanwhile, XP Group F does not typically cause cataracts, though it predisposes to squamous cell carcinoma later in life.\n",
      "\n",
      "3. **Musculoskeletal Features**:  \n",
      "   - **Hip Contractures (Cockayne A)** and **Squamous Cell Carcinomas (XP F)** reflect tissue damage from UV exposure. Richieri-Costa/Guion-Almeida Syndrome lacks such malignancies, making it unlikely without additional evidence.\n",
      "\n",
      "4. **Facial Dysmorphism**:  \n",
      "   - **Retrognathia/Muscle Spasms (Richieri-Costa/Guion-Almeida Syndrome)** and **Esotropia (Same)** distinguish this from the other syndromes. While Cockayne Syndromes do not explicitly feature such features, their lack of mention makes them less likely unless additional data emerges.\n",
      "\n",
      "**Conclusion**: The combination of photosensitivity, growth retardation, and cataracts (if present) favors Cockayne Syndrome. Ocular abnormalities like microcorneas or squamous cell carcinomas tip toward XP Group F. Craniofacial dysmorphism (e.g., retrognathia, esotropia) points to Richieri-Costa/Guion-Almeida Syndrome. Additional testing (e.g., pachyomelaninuria, squamous cell carcinoma screening) and family history are essential to refine the diagnosis. Each phenotype provides critical clues when considered alongside systemic features.\n"
     ]
    }
   ],
   "source": [
    "print(summaries[0][1])"
   ]
  },
  {
   "cell_type": "markdown",
   "id": "274288b3",
   "metadata": {},
   "source": [
    "# Chain of thought"
   ]
  },
  {
   "cell_type": "code",
   "execution_count": 14,
   "id": "9b861117",
   "metadata": {},
   "outputs": [
    {
     "name": "stdout",
     "output_type": "stream",
     "text": [
      "\n",
      "Okay, let's tackle this query. The user wants me to explain why certain potential symptoms are critical for differentiating between three genetic disorders. First, I need to understand each of the three conditions given.\n",
      "\n",
      "The patient has features like short stature, photosensitivity, generalized hypotonia, microcephaly, deep-set eyes, and dental caries. These point towards either Cockayne syndrome types A/B, Xeroderma pigmentosum (XP) group F, or Richieri-Costa/Guion-Almeida syndrome.\n",
      "\n",
      "Starting with Cockayne syndrome types. Both types have severe photosensitivity and growth issues. Type A mentions ventriculomegaly, cataracts, hip contractures. Type B has microcornea, subcortical white matter calcifications, and developmental cataracts. So, if the patient had signs like ventriculomegaly or hip contractures, that would support Cockayne A. On the other hand, microcornea and white matter changes would lean towards B.\n",
      "\n",
      "Xeroderma pigmentosum (XP) F has high risk of skin cancers and seborrheic keratoses. If the patient showed squamous cell carcinomas or keratoacanthomas, that would strongly point to XP F. However, XP is autosomal recessive, so maybe the family history isn't mentioned here.\n",
      "\n",
      "Richieri-Costa/Guion-Almeida syndrome involves esotropia, SBO, and cleft lip. If the patient had those, it fits. But I'm not sure about the connection to the other symptoms. Maybe the facial dysmorphism is key here.\n",
      "\n",
      "Other differentials: Intellectual disability with microcephaly and short stature (6th listed) includes muscle spasms, arched eyebrows, retrognathia. That seems unrelated to the first three. \n",
      "\n",
      "So the critical symptoms for differentiation would depend on the presence of structural anomalies like eye abnormalities (microcornea vs. cataracts), craniofacial features (retrognathia vs. deep-set eyes), and malignancy susceptibility (squamous cell cancer vs. none mentioned here). Also, neurodevelopmental issues might differ. But since the user didn't mention intellectual disability, maybe the last condition is less likely unless they present.\n",
      "\n",
      "Wait, but the patient's main presentation is more congenital. So focusing on the photosensitivity and growth issues. If the patient had cataracts and hip contractures, that's Cockayne A. If microcorneas and white matter changes, B. If skin cancers, F. The esotropia and facial anomalies point to RCGA.\n",
      "\n",
      "Therefore, the key is to see which symptoms are most indicative of each disorder. For example, cataracts versus microcorneas, hip contractures vs. cataracts, squamous cell carcinomas vs. no malignancies mentioned. Also, the family history might help, but since we don't have that info, we rely on physical exam findings.\n"
     ]
    }
   ],
   "source": [
    "print(summaries[0][1].split('</think>')[0])"
   ]
  },
  {
   "cell_type": "markdown",
   "id": "eb9e2167",
   "metadata": {},
   "source": [
    "# Case Report"
   ]
  },
  {
   "cell_type": "code",
   "execution_count": 15,
   "id": "cee60f90",
   "metadata": {},
   "outputs": [
    {
     "name": "stdout",
     "output_type": "stream",
     "text": [
      " The patient presents with features suggesting multisystem involvement, including photosensitivity, growth retardation, and ocular abnormalities. To differentiate between the proposed diagnoses—Cockayne Syndrome types A/B, Xeroderma Pigmentosum (XP) Group F, and Richieri-Costa/Guion-Almeida Syndrome—we analyze the following critical potential symptoms:\n",
      "\n",
      "1. **Photosensitivity and Growth Failure**:  \n",
      "   - Cockayne Syndrome (types A/B) is characterized by profound photosensitivity (skin rashes, hair loss) and severe growth failure. The absence of malignant neoplasms aligns with XP Group F, where photosensitivity increases tumor risk. Richieri-Costa/Guion-Almeida Syndrome lacks documented photosensitivity but shows craniofacial dysmorphisms like retrognathia and esotropia.\n",
      "\n",
      "2. **Ocular Abnormalities**:  \n",
      "   - **Cockayne A (Ventriculomegaly/Cataracts)** and **Cockayne B (Microcornea/Subcortical White Matter Calcifications)** involve distinct retinal/brainstem pathologies. Cataracts (seen in both) contrast with microcorneas (unique to Cockayne B). Meanwhile, XP Group F does not typically cause cataracts, though it predisposes to squamous cell carcinoma later in life.\n",
      "\n",
      "3. **Musculoskeletal Features**:  \n",
      "   - **Hip Contractures (Cockayne A)** and **Squamous Cell Carcinomas (XP F)** reflect tissue damage from UV exposure. Richieri-Costa/Guion-Almeida Syndrome lacks such malignancies, making it unlikely without additional evidence.\n",
      "\n",
      "4. **Facial Dysmorphism**:  \n",
      "   - **Retrognathia/Muscle Spasms (Richieri-Costa/Guion-Almeida Syndrome)** and **Esotropia (Same)** distinguish this from the other syndromes. While Cockayne Syndromes do not explicitly feature such features, their lack of mention makes them less likely unless additional data emerges.\n",
      "\n",
      "**Conclusion**: The combination of photosensitivity, growth retardation, and cataracts (if present) favors Cockayne Syndrome. Ocular abnormalities like microcorneas or squamous cell carcinomas tip toward XP Group F. Craniofacial dysmorphism (e.g., retrognathia, esotropia) points to Richieri-Costa/Guion-Almeida Syndrome. Additional testing (e.g., pachyomelaninuria, squamous cell carcinoma screening) and family history are essential to refine the diagnosis. Each phenotype provides critical clues when considered alongside systemic features.\n"
     ]
    }
   ],
   "source": [
    "print(summaries[0][1].split('</think>')[1])"
   ]
  },
  {
   "cell_type": "code",
   "execution_count": null,
   "id": "4f5b8b41",
   "metadata": {},
   "outputs": [],
   "source": []
  }
 ],
 "metadata": {
  "kernelspec": {
   "display_name": "Python HT2VEC",
   "language": "python",
   "name": "ht2vec"
  },
  "language_info": {
   "codemirror_mode": {
    "name": "ipython",
    "version": 3
   },
   "file_extension": ".py",
   "mimetype": "text/x-python",
   "name": "python",
   "nbconvert_exporter": "python",
   "pygments_lexer": "ipython3",
   "version": "3.8.17"
  }
 },
 "nbformat": 4,
 "nbformat_minor": 5
}
