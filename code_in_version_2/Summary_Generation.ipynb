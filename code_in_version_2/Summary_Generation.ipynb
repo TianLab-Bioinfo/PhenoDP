{
 "cells": [
  {
   "cell_type": "code",
   "execution_count": 1,
   "id": "859f9b15",
   "metadata": {},
   "outputs": [
    {
     "data": {
      "text/plain": [
       "<pyhpo.ontology.OntologyClass at 0x7fafcc13bbe0>"
      ]
     },
     "execution_count": 1,
     "metadata": {},
     "output_type": "execute_result"
    }
   ],
   "source": [
    "from transformers import AutoModelForCausalLM, AutoTokenizer\n",
    "from transformers import pipeline\n",
    "from tqdm import tqdm\n",
    "import pandas as pd\n",
    "import torch\n",
    "import re\n",
    "from pyhpo import Ontology\n",
    "Ontology()"
   ]
  },
  {
   "cell_type": "code",
   "execution_count": 2,
   "id": "32f3c14e",
   "metadata": {},
   "outputs": [],
   "source": [
    "def Get_Definition(hpo_list):\n",
    "    definition_list = []\n",
    "    for t in hpo_list:\n",
    "        definition = Ontology.get_hpo_object(t).definition\n",
    "        match = re.search(r'\"(.*?)\"', definition)\n",
    "        if match:\n",
    "            definition_list.append(match.group(1))\n",
    "    return ' '.join(definition_list)"
   ]
  },
  {
   "cell_type": "markdown",
   "id": "577e7d58",
   "metadata": {},
   "source": [
    "# HPO Terms Detected in a Patient\n",
    "\n",
    "1. **HP:0000006** - Autosomal dominant inheritance  \n",
    "2. **HP:0003593** - Infantile onset  \n",
    "3. **HP:0025104** - Capillary malformation  \n",
    "4. **HP:0001009** - Telangiectasia  \n",
    "5. **HP:0003829** - Typified by incomplete penetrance  \n",
    "6. **HP:0030713** - Vein of Galen aneurysmal malformation  \n"
   ]
  },
  {
   "cell_type": "code",
   "execution_count": 3,
   "id": "44e70921",
   "metadata": {},
   "outputs": [],
   "source": [
    "Patient_hps = ([\"HP:0000006\", \"HP:0003593\", \"HP:0025104\", \"HP:0001009\", \"HP:0003829\", \"HP:0030713\"])"
   ]
  },
  {
   "cell_type": "code",
   "execution_count": 4,
   "id": "b6b11a4b",
   "metadata": {},
   "outputs": [],
   "source": [
    "Input_text = Get_Definition(Patient_hps)"
   ]
  },
  {
   "cell_type": "code",
   "execution_count": 5,
   "id": "252ff343",
   "metadata": {},
   "outputs": [
    {
     "data": {
      "application/vnd.jupyter.widget-view+json": {
       "model_id": "b841a3e3f887458a809a8702cf20f568",
       "version_major": 2,
       "version_minor": 0
      },
      "text/plain": [
       "Loading checkpoint shards:   0%|          | 0/4 [00:00<?, ?it/s]"
      ]
     },
     "metadata": {},
     "output_type": "display_data"
    }
   ],
   "source": [
    "Model_Path = './Model_LoRA/checkpoint/'\n",
    "\n",
    "device = \"cuda:3\" # the device to load the model onto\n",
    "model_name_or_path = Model_Path\n",
    "\n",
    "model = AutoModelForCausalLM.from_pretrained(\n",
    "    model_name_or_path,\n",
    "    torch_dtype=torch.float16,\n",
    "    device_map=\"cuda:3\"\n",
    ")\n",
    "tokenizer = AutoTokenizer.from_pretrained(model_name_or_path)\n"
   ]
  },
  {
   "cell_type": "code",
   "execution_count": 6,
   "id": "6566408d",
   "metadata": {},
   "outputs": [
    {
     "name": "stderr",
     "output_type": "stream",
     "text": [
      "Starting from v4.46, the `logits` model output will have the same type as the model (except at train time, where it will always be FP32)\n"
     ]
    }
   ],
   "source": [
    "\n",
    "summaries = []\n",
    "\n",
    "max_input_tokens = 2048\n",
    "\n",
    "hpo_def = Input_text\n",
    "\n",
    "prompt = f\"\"\"\n",
    "I will provide you with the definitions of some HPO (Human Phenotype Ontology) terms exhibited by a patient. Based on these definitions, please generate a concise, clinically focused summary of the patient's symptoms in one paragraph, approximately 100-300 words in length. Ensure the summary is highly readable, with smooth transitions between ideas, logical coherence, and accurate representation of the clinical features. Emphasize clarity, fluency, and clinical relevance to create a realistic and precise description of the patient's presentation.\\nText:\\n{hpo_def}\n",
    "\"\"\"\n",
    "  \n",
    "tokenized_text = tokenizer(prompt, return_tensors=\"pt\").input_ids[0]\n",
    "truncated_tokenized_text = tokenized_text[:max_input_tokens]\n",
    "    \n",
    "truncated_text = tokenizer.decode(truncated_tokenized_text)  + '<think>:\\n'\n",
    "\n",
    "summarizer = pipeline(\n",
    "    \"text-generation\",  \n",
    "    model=model,  \n",
    "    tokenizer=tokenizer\n",
    ")\n",
    "response = summarizer(\n",
    "    truncated_text,\n",
    "    max_new_tokens= max_input_tokens + 1024,\n",
    "    top_p=0.95,\n",
    "    top_k=50,\n",
    "    do_sample=True\n",
    ")\n",
    "\n",
    "summary = response[0]['generated_text'].split('<think>:')\n",
    "summaries.append(summary)\n",
    "torch.cuda.empty_cache()\n"
   ]
  },
  {
   "cell_type": "markdown",
   "id": "b6624be6",
   "metadata": {},
   "source": [
    "## Input prompt"
   ]
  },
  {
   "cell_type": "code",
   "execution_count": 7,
   "id": "2d0828e4",
   "metadata": {},
   "outputs": [
    {
     "name": "stdout",
     "output_type": "stream",
     "text": [
      "\n",
      "I will provide you with the definitions of some HPO (Human Phenotype Ontology) terms exhibited by a patient. Based on these definitions, please generate a concise, clinically focused summary of the patient's symptoms in one paragraph, approximately 100-300 words in length. Ensure the summary is highly readable, with smooth transitions between ideas, logical coherence, and accurate representation of the clinical features. Emphasize clarity, fluency, and clinical relevance to create a realistic and precise description of the patient's presentation.\n",
      "Text:\n",
      "A mode of inheritance that is observed for traits related to a gene encoded on one of the autosomes (i.e., the human chromosomes 1-22) in which a trait manifests in heterozygotes. In the context of medical genetics, an autosomal dominant disorder is caused when a single copy of the mutant allele is present. Males and females are affected equally, and can both transmit the disorder with a risk of 50% for each child of inheriting the mutant allele. Onset of signs or symptoms of disease between 28 days to one year of life. A capillary malformation is a flat, sharply defined vascular stain of the skin. It may cover a large surface area or it may be scattered and appear as little islands of color. In a capillary maformation, the predominant vessels are small, slow-flow vessels (i.e., arterioles and postcapillary venules). Telangiectasias refer to small dilated blood vessels located near the surface of the skin or mucous membranes, measuring between 0.5 and 1 millimeter in diameter. Telangiectasia are located especially on the tongue, lips, palate, fingers, face, conjunctiva, trunk, nail beds, and fingertips. Description of conditions in which not all individuals with a given genotype exhibit the disease. Penetrance is the proportion that develop disease given a lifespan of 80 years. Vein of Galen aneurysmal malformation is a choroidal type of arteriovenous malformation that develops between 6 and 11 weeks of gestation. It results from 1 or more arteriovenous fistulas shunting blood toward the prosencephalic vein of Markowski, the embryonic precursor of the vein of Galen. This abnormal shunt leads to progressive dilation of the vein and prevents its involution and subsequent development into the vein of Galen.\n",
      "\n"
     ]
    }
   ],
   "source": [
    "print(summaries[0][0])"
   ]
  },
  {
   "cell_type": "code",
   "execution_count": 8,
   "id": "03438972",
   "metadata": {},
   "outputs": [],
   "source": [
    "## Output"
   ]
  },
  {
   "cell_type": "code",
   "execution_count": 9,
   "id": "2f30a2fe",
   "metadata": {},
   "outputs": [
    {
     "name": "stdout",
     "output_type": "stream",
     "text": [
      "\n",
      "Okay, let me start by understanding what the user wants. They provided several HPO terms and want a concise clinical summary. The key points here are the autosomal dominant inheritance pattern, early onset (infancy), presence of capillary malformations and telangiectasias, the Vein of Galen aneurysmal malformation, and variable penetrance.\n",
      "\n",
      "First, I need to integrate the genetic aspect: autosomal dominant. That means family history might show similar cases, but not everyone with the mutation gets the disease. Then the onset at infancy—so symptoms started within first year. Capillary malformations and telangiectasias are noted in specific areas like lips, palms, etc. The Vein of Galen issue is a critical part since it's a congenital vascular anomaly leading to possible neurological issues if untreated.\n",
      "\n",
      "I should structure this logically. Start with the likely diagnosis, maybe a hereditary syndrome. Mention the vascular anomalies first, then the specific malformation. Link the onset and penetration to explain variability. Also, note the potential complications like stroke if the Vein of Galen isn't managed. Make sure the terms are explained clearly but succinctly, avoiding jargon where possible. Check for flow and ensure each sentence connects smoothly to the next. Highlight the importance of monitoring and management. Let me make sure I didn't miss any details from the input text. Autosomal dominant, early onset, capillary and telangiectasis, Vein of Galen malformation, variable penetrance. Yes, that's covered. Need to phrase \"variable penetrance\" accurately without using too technical terms. Maybe say \"not all individuals with the genetic mutation develop the condition.\" Alright, time to put it all together coherently.\n",
      "</think> \n",
      "\n",
      "The patient presents with clinical features suggestive of an autosomal dominant vascular dysplasia syndrome, characterized by early-onset capillary malformations (flat, localized vascular stains) and telangiectasias (microscopic vascular dilatations) affecting multiple cutaneous sites, including the lips, oral mucosa, palms, fingers, and trunk. These vascular abnormalities manifest between infancy (onset ≤12 months) and early childhood, consistent with a heterogeneous phenotype influenced by incomplete penetrance, meaning not all individuals with the underlying genetic variant demonstrate overt manifestations. Notably, the patient harbors a severe anatomical defect—the Vein of Galen aneurysmal malformation—a congenital arteriovenous shunt involving aberrant endothelial cell proliferation and inadequate venous remodeling during embryogenesis. This structural anomaly predisposes to progressive venoarterial flow reversal, resulting in stasis, thrombosis, and potential neurological sequelae if uncorrected. The combination of capillary malformations, telangiectasias, and this distinctive vascular malformation raises suspicion for a syndromic etiology, potentially aligning with disorders such as Hereditary Hemorrhagic Telangiectasia-related syndromes or other inherited vascular pathologies. Clinical vigilance is warranted for potential complications, including recurrent bleeding diathesis, ischemic events, or secondary malignancies associated with chronic vascular compromise. Genetic counseling is essential due to the autosomal dominant transmission pattern, with a 50% recurrence risk per offspring, and targeted molecular testing would aid in confirming the specific molecular diagnosis and guiding surveillance strategies. Early multidisciplinary intervention focusing on hemorrhage prevention, vascular imaging follow-up, and neurologic monitoring is critical to optimize long-term outcomes.\n"
     ]
    }
   ],
   "source": [
    "print(summaries[0][1])"
   ]
  },
  {
   "cell_type": "code",
   "execution_count": null,
   "id": "237a4f40",
   "metadata": {},
   "outputs": [],
   "source": []
  },
  {
   "cell_type": "code",
   "execution_count": null,
   "id": "823bd68e",
   "metadata": {},
   "outputs": [],
   "source": []
  }
 ],
 "metadata": {
  "kernelspec": {
   "display_name": "Python HT2VEC",
   "language": "python",
   "name": "ht2vec"
  },
  "language_info": {
   "codemirror_mode": {
    "name": "ipython",
    "version": 3
   },
   "file_extension": ".py",
   "mimetype": "text/x-python",
   "name": "python",
   "nbconvert_exporter": "python",
   "pygments_lexer": "ipython3",
   "version": "3.8.17"
  }
 },
 "nbformat": 4,
 "nbformat_minor": 5
}
