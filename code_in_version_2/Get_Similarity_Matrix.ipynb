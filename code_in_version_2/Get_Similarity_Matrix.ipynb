{
 "cells": [
  {
   "cell_type": "code",
   "execution_count": 1,
   "id": "05110631",
   "metadata": {},
   "outputs": [],
   "source": [
    "from PhenoDP_Preprocess import PhenoDP_Initial\n",
    "from pyhpo import Ontology\n",
    "import pickle\n",
    "import pandas as pd"
   ]
  },
  {
   "cell_type": "markdown",
   "id": "dedc64b5",
   "metadata": {},
   "source": [
    "# Notebook Overview: Term-to-Disease Similarity Matrix\n",
    "\n",
    "In this notebook, we demonstrate how to compute (or update) the term-to-disease similarity matrix. This process involves leveraging the Human Phenotype Ontology (HPO) and its associated data files.\n",
    "\n",
    "## Prerequisites\n",
    "\n",
    "To proceed, you will need to download the following files from the HPO GitHub release page:  \n",
    "[HPO GitHub Releases](https://github.com/obophenotype/human-phenotype-ontology/releases/)\n",
    "\n",
    "1. **`hp.obo`**: The Human Phenotype Ontology file, which contains the hierarchical structure of HPO terms.  \n",
    "2. **`phenotype.hpoa`**: The phenotype annotations file, which maps diseases to HPO terms.  \n",
    "3. **`phenotype_to_genes.txt`**: The phenotype-to-genes file, which links HPO terms to associated genes.\n",
    "\n",
    "These files are essential for constructing the term-to-disease similarity matrix.\n",
    "\n",
    "## Steps Overview\n",
    "\n",
    "1. **Download the Required Files**:  \n",
    "   Ensure you have the latest versions of `hp.obo`, `phenotype.hpoa`, and `phenotype_to_genes.txt` from the HPO GitHub release page.\n",
    "\n",
    "2. **Load the HPO Ontology**:  \n",
    "   Use the `hp.obo` file to load the HPO ontology into a graph structure for further processing.\n",
    "\n",
    "3. **Process Annotations**:  \n",
    "   Parse the `phenotype.hpoa` file to extract disease-to-HPO term mappings.\n",
    "\n",
    "4. **Compute Term Embeddings**:  \n",
    "   Use a pre-trained model to compute embeddings for each HPO term.\n",
    "\n",
    "5. **Construct the Similarity Matrix**:  \n",
    "   Calculate the similarity between HPO terms and diseases based on their embeddings.\n",
    "\n",
    "6. **Update or Save the Matrix**:  \n",
    "   Save the computed similarity matrix for future use or update an existing matrix with new data.\n",
    "\n",
    "## Next Steps\n",
    "\n",
    "Proceed to the code cells to implement the above steps and generate the term-to-disease similarity matrix.\n"
   ]
  },
  {
   "cell_type": "markdown",
   "id": "c3d87c52",
   "metadata": {},
   "source": [
    "## Disease Similarity Can Be Achieved Through Single-threaded or Multi-threaded Implementation, Single-threaded Will Consume Over Ten Hours"
   ]
  },
  {
   "cell_type": "code",
   "execution_count": null,
   "id": "bff7fe9d",
   "metadata": {},
   "outputs": [],
   "source": [
    "# Update Ontology\n",
    "_ = Ontology(\"./HPO_2025_3_3/\")\n",
    "Initial = PhenoDP_Initial(Ontology)\n",
    "hpo_len = len(Ontology.to_dataframe())\n",
    "hp2d_sim_dict, processed_list = Initial.initial_sim_singlecore()"
   ]
  },
  {
   "cell_type": "markdown",
   "id": "cb4b6faf",
   "metadata": {},
   "source": [
    "## ## Multi-threaded Implementation"
   ]
  },
  {
   "cell_type": "code",
   "execution_count": 2,
   "id": "2d50acef",
   "metadata": {},
   "outputs": [
    {
     "name": "stdout",
     "output_type": "stream",
     "text": [
      "generate disease dict...\n",
      "generate disease dict...\n",
      "generate disease dict...\n",
      "generate disease dict...\n",
      "generate disease dict...\n",
      "generate disease dict...\n",
      "generate disease dict...\n",
      "related hpo num: 9211\n",
      "generate disease ic dict... \n",
      "calculating hp weights\n",
      "related hpo num: 9211\n",
      "generate disease ic dict... \n",
      "related hpo num: 9211\n",
      "generate disease ic dict... \n",
      "calculating hp weights\n",
      "total hpo len: 19533\n"
     ]
    },
    {
     "name": "stderr",
     "output_type": "stream",
     "text": [
      "HPO Processing:   0%|          | 0/651 [00:00<?, ?it/s]"
     ]
    },
    {
     "name": "stdout",
     "output_type": "stream",
     "text": [
      "calculating hp weights\n",
      "related hpo num: 9211\n",
      "generate disease ic dict... \n",
      "total hpo len: 19533\n",
      "calculating hp weights\n"
     ]
    },
    {
     "name": "stderr",
     "output_type": "stream",
     "text": [
      "HPO Processing:   0%|          | 0/651 [00:00<?, ?it/s]"
     ]
    },
    {
     "name": "stdout",
     "output_type": "stream",
     "text": [
      "total hpo len: 19533\n"
     ]
    },
    {
     "name": "stderr",
     "output_type": "stream",
     "text": [
      "HPO Processing:   0%|          | 0/651 [00:00<?, ?it/s]"
     ]
    },
    {
     "name": "stdout",
     "output_type": "stream",
     "text": [
      "related hpo num: 9211\n",
      "generate disease ic dict... \n",
      "generate disease dict...\n",
      "total hpo len:calculating hp weights 19533\n",
      "\n"
     ]
    },
    {
     "name": "stderr",
     "output_type": "stream",
     "text": [
      "HPO Processing:   0%|          | 0/651 [00:00<?, ?it/s]"
     ]
    },
    {
     "name": "stdout",
     "output_type": "stream",
     "text": [
      "related hpo num: 9211\n",
      "generate disease ic dict... \n",
      "related hpo num: 9211\n",
      "generate disease ic dict... \n",
      "calculating hp weights\n",
      "calculating hp weights\n",
      "total hpo len: 19533\n"
     ]
    },
    {
     "name": "stderr",
     "output_type": "stream",
     "text": [
      "HPO Processing:   0%|          | 0/651 [00:00<?, ?it/s]"
     ]
    },
    {
     "name": "stdout",
     "output_type": "stream",
     "text": [
      "total hpo len: 19533\n"
     ]
    },
    {
     "name": "stderr",
     "output_type": "stream",
     "text": [
      "HPO Processing:   0%|          | 0/651 [00:00<?, ?it/s]"
     ]
    },
    {
     "name": "stdout",
     "output_type": "stream",
     "text": [
      "total hpo len: 19533\n"
     ]
    },
    {
     "name": "stderr",
     "output_type": "stream",
     "text": [
      "HPO Processing:   0%|          | 0/651 [00:00<?, ?it/s]"
     ]
    },
    {
     "name": "stdout",
     "output_type": "stream",
     "text": [
      "related hpo num: 9211\n",
      "generate disease ic dict... \n",
      "calculating hp weights\n"
     ]
    },
    {
     "name": "stderr",
     "output_type": "stream",
     "text": [
      "HPO Processing:   0%|          | 1/651 [00:05<57:55,  5.35s/it]"
     ]
    },
    {
     "name": "stdout",
     "output_type": "stream",
     "text": [
      "total hpo len: 19533\n"
     ]
    },
    {
     "name": "stderr",
     "output_type": "stream",
     "text": [
      "HPO Processing:   0%|          | 2/651 [00:04<26:47,  2.48s/it]"
     ]
    },
    {
     "name": "stdout",
     "output_type": "stream",
     "text": [
      "generate disease dict...\n",
      "generate disease dict...generate disease dict...generate disease dict...\n",
      "\n",
      "\n",
      "generate disease dict...\n",
      "generate disease dict...\n",
      "generate disease dict...\n",
      "generate disease dict...\n",
      "generate disease dict...\n",
      "generate disease dict...\n",
      "generate disease dict...\n",
      "generate disease dict...\n",
      "generate disease dict...\n",
      "generate disease dict...\n"
     ]
    },
    {
     "name": "stderr",
     "output_type": "stream",
     "text": [
      "HPO Processing:   0%|          | 1/651 [00:05<59:06,  5.46s/it]"
     ]
    },
    {
     "name": "stdout",
     "output_type": "stream",
     "text": [
      "generate disease dict...\n",
      "generate disease dict...\n",
      "generate disease dict...\n"
     ]
    },
    {
     "name": "stderr",
     "output_type": "stream",
     "text": [
      "HPO Processing:   0%|          | 1/651 [00:05<54:18,  5.01s/it]"
     ]
    },
    {
     "name": "stdout",
     "output_type": "stream",
     "text": [
      "generate disease dict...\n",
      "generate disease dict...\n",
      "generate disease dict...\n"
     ]
    },
    {
     "name": "stderr",
     "output_type": "stream",
     "text": [
      "HPO Processing:   0%|          | 1/651 [00:05<57:54,  5.34s/it]"
     ]
    },
    {
     "name": "stdout",
     "output_type": "stream",
     "text": [
      "generate disease dict...\n",
      "generate disease dict...\n",
      "related hpo num: 9211\n",
      "generate disease ic dict... \n",
      "related hpo num: 9211\n",
      "generate disease ic dict... \n",
      "related hpo num: 9211related hpo num:\n",
      " 9211\n",
      "generate disease ic dict... \n",
      "generate disease ic dict... \n",
      "related hpo num: calculating hp weights\n",
      "related hpo num:9211 9211\n",
      "\n",
      "generate disease ic dict... generate disease ic dict... \n",
      "\n",
      "related hpo num: 9211\n",
      "generate disease ic dict... \n",
      "related hpo num: 9211\n",
      "generate disease ic dict... \n",
      "related hpo num: 9211\n",
      "generate disease ic dict... \n",
      "related hpo num:related hpo num: 9211\n",
      "generate disease ic dict... \n",
      " 9211\n",
      "generate disease ic dict... \n",
      "related hpo num: 9211related hpo num:\n",
      "generate disease ic dict...  \n",
      "9211\n",
      "generate disease ic dict... \n",
      "calculating hp weights\n"
     ]
    },
    {
     "name": "stderr",
     "output_type": "stream",
     "text": [
      "HPO Processing:   0%|          | 2/651 [00:10<54:17,  5.02s/it]"
     ]
    },
    {
     "name": "stdout",
     "output_type": "stream",
     "text": [
      "calculating hp weights\n",
      "calculating hp weights\n",
      "related hpo num:calculating hp weights \n",
      "calculating hp weightscalculating hp weights\n",
      "9211\n",
      "generate disease ic dict... \n",
      "\n",
      "calculating hp weights\n",
      "calculating hp weights\n",
      "calculating hp weights\n",
      "calculating hp weights\n",
      "related hpo num: 9211\n",
      "generate disease ic dict... \n",
      "related hpo num: 9211\n",
      "generate disease ic dict... \n",
      "calculating hp weights\n",
      "related hpo num: 9211calculating hp weights\n"
     ]
    },
    {
     "name": "stderr",
     "output_type": "stream",
     "text": [
      "HPO Processing:   0%|          | 3/651 [00:10<38:44,  3.59s/it]"
     ]
    },
    {
     "name": "stdout",
     "output_type": "stream",
     "text": [
      "\n",
      "generate disease ic dict... \n"
     ]
    },
    {
     "name": "stderr",
     "output_type": "stream",
     "text": [
      "HPO Processing:   0%|          | 1/651 [00:05<59:35,  5.50s/it]"
     ]
    },
    {
     "name": "stdout",
     "output_type": "stream",
     "text": [
      "calculating hp weights\n",
      "calculating hp weights\n",
      "total hpo len:calculating hp weights\n",
      " 19533\n",
      "calculating hp weights\n"
     ]
    },
    {
     "name": "stderr",
     "output_type": "stream",
     "text": [
      "HPO Processing:   0%|          | 0/651 [00:00<?, ?it/s]"
     ]
    },
    {
     "name": "stdout",
     "output_type": "stream",
     "text": [
      "related hpo num: 9211\n",
      "generate disease ic dict... \n",
      "total hpo len: 19533\n"
     ]
    },
    {
     "name": "stderr",
     "output_type": "stream",
     "text": [
      "HPO Processing:   0%|          | 0/651 [00:00<?, ?it/s]"
     ]
    },
    {
     "name": "stdout",
     "output_type": "stream",
     "text": [
      "related hpo num:total hpo len: 19533\n",
      " related hpo num:9211 \n",
      "9211\n"
     ]
    },
    {
     "name": "stderr",
     "output_type": "stream",
     "text": [
      "HPO Processing:   0%|          | 0/651 [00:00<?, ?it/s]"
     ]
    },
    {
     "name": "stdout",
     "output_type": "stream",
     "text": [
      "generate disease ic dict... generate disease ic dict... \n",
      "\n",
      "total hpo len: total hpo len: 19533\n",
      "19533\n"
     ]
    },
    {
     "name": "stderr",
     "output_type": "stream",
     "text": [
      "HPO Processing:   0%|          | 0/651 [00:00<?, ?it/s]"
     ]
    },
    {
     "name": "stdout",
     "output_type": "stream",
     "text": [
      "total hpo len: 19533\n"
     ]
    },
    {
     "name": "stderr",
     "output_type": "stream",
     "text": [
      "HPO Processing:   0%|          | 0/651 [00:00<?, ?it/s]"
     ]
    },
    {
     "name": "stdout",
     "output_type": "stream",
     "text": [
      "total hpo len: total hpo len:19533 total hpo len: 19533\n"
     ]
    },
    {
     "name": "stderr",
     "output_type": "stream",
     "text": [
      "HPO Processing:   0%|          | 0/651 [00:00<?, ?it/s]"
     ]
    },
    {
     "name": "stdout",
     "output_type": "stream",
     "text": [
      "related hpo num:19533 \n",
      "9211\n",
      "\n"
     ]
    },
    {
     "name": "stderr",
     "output_type": "stream",
     "text": [
      "HPO Processing:   0%|          | 0/651 [00:00<?, ?it/s]"
     ]
    },
    {
     "name": "stdout",
     "output_type": "stream",
     "text": [
      "generate disease ic dict... \n",
      "total hpo len: 19533\n"
     ]
    },
    {
     "name": "stderr",
     "output_type": "stream",
     "text": [
      "HPO Processing:   0%|          | 0/651 [00:00<?, ?it/s]"
     ]
    },
    {
     "name": "stdout",
     "output_type": "stream",
     "text": [
      "calculating hp weights\n",
      "total hpo len: 19533\n"
     ]
    },
    {
     "name": "stderr",
     "output_type": "stream",
     "text": [
      "HPO Processing:   0%|          | 0/651 [00:00<?, ?it/s]"
     ]
    },
    {
     "name": "stdout",
     "output_type": "stream",
     "text": [
      "related hpo num: 9211\n",
      "generate disease ic dict... \n",
      "total hpo len: 19533"
     ]
    },
    {
     "name": "stderr",
     "output_type": "stream",
     "text": [
      "HPO Processing:   0%|          | 2/651 [00:10<58:43,  5.43s/it]"
     ]
    },
    {
     "name": "stdout",
     "output_type": "stream",
     "text": [
      "\n"
     ]
    },
    {
     "name": "stderr",
     "output_type": "stream",
     "text": [
      "HPO Processing:   0%|          | 0/651 [00:00<?, ?it/s]"
     ]
    },
    {
     "name": "stdout",
     "output_type": "stream",
     "text": [
      "total hpo len: 19533\n"
     ]
    },
    {
     "name": "stderr",
     "output_type": "stream",
     "text": [
      "HPO Processing:   0%|          | 0/651 [00:00<?, ?it/s]"
     ]
    },
    {
     "name": "stdout",
     "output_type": "stream",
     "text": [
      "calculating hp weights\n",
      "calculating hp weights\n",
      "total hpo len: 19533\n"
     ]
    },
    {
     "name": "stderr",
     "output_type": "stream",
     "text": [
      "HPO Processing:   0%|          | 0/651 [00:00<?, ?it/s]"
     ]
    },
    {
     "name": "stdout",
     "output_type": "stream",
     "text": [
      "calculating hp weights\n",
      "total hpo len: 19533\n"
     ]
    },
    {
     "name": "stderr",
     "output_type": "stream",
     "text": [
      "HPO Processing:   0%|          | 0/651 [00:00<?, ?it/s]"
     ]
    },
    {
     "name": "stdout",
     "output_type": "stream",
     "text": [
      "calculating hp weightstotal hpo len:\n",
      " 19533\n"
     ]
    },
    {
     "name": "stderr",
     "output_type": "stream",
     "text": [
      "HPO Processing:   0%|          | 0/651 [00:00<?, ?it/s]"
     ]
    },
    {
     "name": "stdout",
     "output_type": "stream",
     "text": [
      "total hpo len: 19533\n"
     ]
    },
    {
     "name": "stderr",
     "output_type": "stream",
     "text": [
      "HPO Processing:   0%|          | 2/651 [00:10<55:54,  5.17s/it]"
     ]
    },
    {
     "name": "stdout",
     "output_type": "stream",
     "text": [
      "total hpo len: "
     ]
    },
    {
     "name": "stderr",
     "output_type": "stream",
     "text": [
      "HPO Processing:   0%|          | 2/651 [00:10<57:29,  5.32s/it]"
     ]
    },
    {
     "name": "stdout",
     "output_type": "stream",
     "text": [
      "19533\n"
     ]
    },
    {
     "name": "stderr",
     "output_type": "stream",
     "text": [
      "HPO Processing:   0%|          | 0/651 [00:00<?, ?it/s]"
     ]
    },
    {
     "name": "stdout",
     "output_type": "stream",
     "text": [
      "total hpo len: 19533\n"
     ]
    },
    {
     "name": "stderr",
     "output_type": "stream",
     "text": [
      "HPO Processing:   0%|          | 0/651 [00:00<?, ?it/s]"
     ]
    },
    {
     "name": "stdout",
     "output_type": "stream",
     "text": [
      "total hpo len: 19533\n"
     ]
    },
    {
     "name": "stderr",
     "output_type": "stream",
     "text": [
      "HPO Processing:   0%|          | 0/651 [00:00<?, ?it/s]"
     ]
    },
    {
     "name": "stdout",
     "output_type": "stream",
     "text": [
      "total hpo len: 19533\n"
     ]
    },
    {
     "name": "stderr",
     "output_type": "stream",
     "text": [
      "HPO Processing:   0%|          | 0/651 [00:00<?, ?it/s]"
     ]
    },
    {
     "name": "stdout",
     "output_type": "stream",
     "text": [
      "total hpo len: 19533\n"
     ]
    },
    {
     "name": "stderr",
     "output_type": "stream",
     "text": [
      "HPO Processing: 100%|██████████| 651/651 [55:37<00:00,  5.13s/it]  \n"
     ]
    },
    {
     "name": "stdout",
     "output_type": "stream",
     "text": [
      "end\n"
     ]
    },
    {
     "name": "stderr",
     "output_type": "stream",
     "text": [
      "HPO Processing: 100%|██████████| 651/651 [56:01<00:00,  5.16s/it]\n"
     ]
    },
    {
     "name": "stdout",
     "output_type": "stream",
     "text": [
      "end\n"
     ]
    },
    {
     "name": "stderr",
     "output_type": "stream",
     "text": [
      "HPO Processing: 100%|██████████| 651/651 [56:19<00:00,  5.19s/it]\n"
     ]
    },
    {
     "name": "stdout",
     "output_type": "stream",
     "text": [
      "end\n"
     ]
    },
    {
     "name": "stderr",
     "output_type": "stream",
     "text": [
      "HPO Processing: 100%|██████████| 651/651 [56:17<00:00,  5.19s/it]\n"
     ]
    },
    {
     "name": "stdout",
     "output_type": "stream",
     "text": [
      "end\n"
     ]
    },
    {
     "name": "stderr",
     "output_type": "stream",
     "text": [
      "HPO Processing: 100%|██████████| 651/651 [56:25<00:00,  5.20s/it]\n"
     ]
    },
    {
     "name": "stdout",
     "output_type": "stream",
     "text": [
      "end\n"
     ]
    },
    {
     "name": "stderr",
     "output_type": "stream",
     "text": [
      "HPO Processing: 100%|██████████| 651/651 [56:31<00:00,  4.72s/it]\n"
     ]
    },
    {
     "name": "stdout",
     "output_type": "stream",
     "text": [
      "end\n"
     ]
    },
    {
     "name": "stderr",
     "output_type": "stream",
     "text": [
      "HPO Processing: 100%|██████████| 651/651 [56:55<00:00,  5.25s/it]\n"
     ]
    },
    {
     "name": "stdout",
     "output_type": "stream",
     "text": [
      "end\n"
     ]
    },
    {
     "name": "stderr",
     "output_type": "stream",
     "text": [
      "HPO Processing:  78%|███████▊  | 510/651 [57:31<14:27,  6.15s/it]\n"
     ]
    },
    {
     "name": "stdout",
     "output_type": "stream",
     "text": [
      "end\n"
     ]
    },
    {
     "name": "stderr",
     "output_type": "stream",
     "text": [
      "HPO Processing: 100%|██████████| 651/651 [1:06:35<00:00,  6.14s/it]\n"
     ]
    },
    {
     "name": "stdout",
     "output_type": "stream",
     "text": [
      "end\n"
     ]
    },
    {
     "name": "stderr",
     "output_type": "stream",
     "text": [
      "HPO Processing: 100%|██████████| 651/651 [1:07:20<00:00,  6.21s/it]\n"
     ]
    },
    {
     "name": "stdout",
     "output_type": "stream",
     "text": [
      "end\n"
     ]
    },
    {
     "name": "stderr",
     "output_type": "stream",
     "text": [
      "HPO Processing: 100%|██████████| 651/651 [1:07:32<00:00,  6.22s/it]\n"
     ]
    },
    {
     "name": "stdout",
     "output_type": "stream",
     "text": [
      "end\n"
     ]
    },
    {
     "name": "stderr",
     "output_type": "stream",
     "text": [
      "HPO Processing: 100%|██████████| 651/651 [1:10:36<00:00,  6.51s/it]\n"
     ]
    },
    {
     "name": "stdout",
     "output_type": "stream",
     "text": [
      "end\n"
     ]
    },
    {
     "name": "stderr",
     "output_type": "stream",
     "text": [
      "HPO Processing: 100%|██████████| 651/651 [1:10:54<00:00,  6.53s/it]\n"
     ]
    },
    {
     "name": "stdout",
     "output_type": "stream",
     "text": [
      "end\n"
     ]
    },
    {
     "name": "stderr",
     "output_type": "stream",
     "text": [
      "HPO Processing: 100%|██████████| 651/651 [1:10:58<00:00,  6.54s/it]\n"
     ]
    },
    {
     "name": "stdout",
     "output_type": "stream",
     "text": [
      "end\n"
     ]
    },
    {
     "name": "stderr",
     "output_type": "stream",
     "text": [
      "HPO Processing: 100%|██████████| 651/651 [1:11:01<00:00,  6.55s/it]\n"
     ]
    },
    {
     "name": "stdout",
     "output_type": "stream",
     "text": [
      "end\n"
     ]
    },
    {
     "name": "stderr",
     "output_type": "stream",
     "text": [
      "HPO Processing: 100%|██████████| 651/651 [1:11:02<00:00,  6.55s/it]\n"
     ]
    },
    {
     "name": "stdout",
     "output_type": "stream",
     "text": [
      "end\n"
     ]
    },
    {
     "name": "stderr",
     "output_type": "stream",
     "text": [
      "HPO Processing: 100%|██████████| 651/651 [1:11:02<00:00,  6.55s/it]\n"
     ]
    },
    {
     "name": "stdout",
     "output_type": "stream",
     "text": [
      "end\n"
     ]
    },
    {
     "name": "stderr",
     "output_type": "stream",
     "text": [
      "HPO Processing: 100%|██████████| 651/651 [1:11:14<00:00,  6.57s/it]\n"
     ]
    },
    {
     "name": "stdout",
     "output_type": "stream",
     "text": [
      "end\n"
     ]
    },
    {
     "name": "stderr",
     "output_type": "stream",
     "text": [
      "HPO Processing: 100%|██████████| 651/651 [1:11:29<00:00,  6.59s/it]\n"
     ]
    },
    {
     "name": "stdout",
     "output_type": "stream",
     "text": [
      "end\n"
     ]
    },
    {
     "name": "stderr",
     "output_type": "stream",
     "text": [
      "HPO Processing: 100%|██████████| 651/651 [1:11:36<00:00,  6.60s/it]\n"
     ]
    },
    {
     "name": "stdout",
     "output_type": "stream",
     "text": [
      "end\n"
     ]
    },
    {
     "name": "stderr",
     "output_type": "stream",
     "text": [
      "HPO Processing: 100%|██████████| 651/651 [1:11:37<00:00,  6.60s/it]\n"
     ]
    },
    {
     "name": "stdout",
     "output_type": "stream",
     "text": [
      "end\n"
     ]
    },
    {
     "name": "stderr",
     "output_type": "stream",
     "text": [
      "HPO Processing: 100%|██████████| 651/651 [1:11:44<00:00,  6.61s/it]\n"
     ]
    },
    {
     "name": "stdout",
     "output_type": "stream",
     "text": [
      "end\n"
     ]
    },
    {
     "name": "stderr",
     "output_type": "stream",
     "text": [
      "HPO Processing: 100%|██████████| 651/651 [1:11:45<00:00,  6.61s/it]\n"
     ]
    },
    {
     "name": "stdout",
     "output_type": "stream",
     "text": [
      "end\n"
     ]
    },
    {
     "name": "stderr",
     "output_type": "stream",
     "text": [
      "HPO Processing: 100%|██████████| 651/651 [1:11:45<00:00,  6.61s/it]\n"
     ]
    },
    {
     "name": "stdout",
     "output_type": "stream",
     "text": [
      "end\n"
     ]
    },
    {
     "name": "stderr",
     "output_type": "stream",
     "text": [
      "HPO Processing: 100%|██████████| 651/651 [1:11:49<00:00,  6.62s/it]\n"
     ]
    },
    {
     "name": "stdout",
     "output_type": "stream",
     "text": [
      "end\n"
     ]
    },
    {
     "name": "stderr",
     "output_type": "stream",
     "text": [
      "HPO Processing: 100%|██████████| 651/651 [1:11:48<00:00,  6.62s/it]\n"
     ]
    },
    {
     "name": "stdout",
     "output_type": "stream",
     "text": [
      "end\n"
     ]
    },
    {
     "name": "stderr",
     "output_type": "stream",
     "text": [
      "HPO Processing: 100%|██████████| 651/651 [1:12:11<00:00,  6.65s/it]\n"
     ]
    },
    {
     "name": "stdout",
     "output_type": "stream",
     "text": [
      "end\n"
     ]
    },
    {
     "name": "stderr",
     "output_type": "stream",
     "text": [
      "HPO Processing: 100%|██████████| 651/651 [1:12:15<00:00,  6.66s/it]\n"
     ]
    },
    {
     "name": "stdout",
     "output_type": "stream",
     "text": [
      "end\n"
     ]
    },
    {
     "name": "stderr",
     "output_type": "stream",
     "text": [
      "HPO Processing: 100%|██████████| 651/651 [1:12:33<00:00,  6.69s/it]\n"
     ]
    },
    {
     "name": "stdout",
     "output_type": "stream",
     "text": [
      "end\n"
     ]
    },
    {
     "name": "stderr",
     "output_type": "stream",
     "text": [
      "HPO Processing: 100%|██████████| 651/651 [1:12:56<00:00,  6.72s/it]\n"
     ]
    },
    {
     "name": "stdout",
     "output_type": "stream",
     "text": [
      "end\n"
     ]
    }
   ],
   "source": [
    "from concurrent.futures import ProcessPoolExecutor\n",
    "\n",
    "# Parameters\n",
    "num_groups = 30  # Number of groups to divide the task into\n",
    "max_workers = 30  # Number of threads/processes to use\n",
    "_ = Ontology(\"./HPO_2025_3_3/\")\n",
    "hpo_len = len(Ontology.to_dataframe())\n",
    "\n",
    "# Define the total range\n",
    "total_range = hpo_len  # Assuming hpo_len is the total length of the range\n",
    "\n",
    "# Calculate the size of each group\n",
    "group_size = total_range // num_groups\n",
    "\n",
    "# Function to run Initial.initial_sim for a given start and end\n",
    "def run_initial_sim(start, end):\n",
    "    # Initialize Ontology and PhenoDP_Initial inside the worker process\n",
    "    ontology = Ontology(\"./HPO_2025_3_3/\")\n",
    "    initial = PhenoDP_Initial(ontology)\n",
    "    return initial.initial_sim(start=start, end=end)\n",
    "\n",
    "# Split the range into groups\n",
    "ranges = [(i * group_size, (i + 1) * group_size) for i in range(num_groups)]\n",
    "\n",
    "# Use ProcessPoolExecutor to parallelize the execution\n",
    "with ProcessPoolExecutor(max_workers=max_workers) as executor:\n",
    "    # Submit tasks for each group\n",
    "    futures = [executor.submit(run_initial_sim, start, end) for start, end in ranges]\n",
    "    \n",
    "    # Collect results as they complete\n",
    "    results = [future.result() for future in futures]\n",
    "\n",
    "# Combine results from all groups\n",
    "hp2d_sim_dict = []\n",
    "processed_list = []\n",
    "for result in results:\n",
    "    hp2d_sim_dict.extend(result[0])  # Merge dictionaries\n",
    "    processed_list.extend(result[1])  # Extend lists"
   ]
  },
  {
   "cell_type": "code",
   "execution_count": 3,
   "id": "e27bcb51",
   "metadata": {},
   "outputs": [
    {
     "name": "stdout",
     "output_type": "stream",
     "text": [
      "generate disease dict...\n",
      "related hpo num: 9211\n",
      "generate disease ic dict... \n",
      "calculating hp weights\n"
     ]
    }
   ],
   "source": [
    "Initial = PhenoDP_Initial(Ontology)"
   ]
  },
  {
   "cell_type": "code",
   "execution_count": 4,
   "id": "95749547",
   "metadata": {},
   "outputs": [],
   "source": [
    "df = pd.DataFrame(hp2d_sim_dict, index=processed_list, columns=[str(t) for t in Initial.disease_list])\n",
    "JC_sim_dict = df.to_dict(orient='index')"
   ]
  },
  {
   "cell_type": "code",
   "execution_count": 5,
   "id": "7b907467",
   "metadata": {},
   "outputs": [],
   "source": [
    "with open('./JC_sim_dict_test.pkl', 'wb') as f:\n",
    "    pickle.dump(JC_sim_dict, f)"
   ]
  }
 ],
 "metadata": {
  "kernelspec": {
   "display_name": "Python HT2VEC",
   "language": "python",
   "name": "ht2vec"
  },
  "language_info": {
   "codemirror_mode": {
    "name": "ipython",
    "version": 3
   },
   "file_extension": ".py",
   "mimetype": "text/x-python",
   "name": "python",
   "nbconvert_exporter": "python",
   "pygments_lexer": "ipython3",
   "version": "3.8.17"
  }
 },
 "nbformat": 4,
 "nbformat_minor": 5
}
