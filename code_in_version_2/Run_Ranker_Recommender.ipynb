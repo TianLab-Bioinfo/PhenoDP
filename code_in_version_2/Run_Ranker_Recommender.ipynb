{
 "cells": [
  {
   "cell_type": "markdown",
   "id": "5d5630ff",
   "metadata": {},
   "source": [
    "\n",
    "# 💡 Compatibility Notice for Ranker and Recommender Systems\n",
    "## 🔧 Current Configuration\n",
    "The Ranker and Recommender systems were developed and tested under the following environment:\n",
    "- **Torch**: 1.9.0+cu111\n",
    "- **Torchaudio**: 0.9.0\n",
    "- **Torchvision**: 0.10.0+cu111\n",
    "\n",
    "## ⚠️ Potential Issues with Upgraded Torch Versions\n",
    "To leverage more advanced and powerful large language models, it is inevitable that the version of Torch will need to be updated. However, it is important to note that the Ranker and Recommender systems were specifically designed and optimized for Torch 1.9.0. Upgrading to a higher version of Torch may introduce compatibility issues and could potentially result in errors.\n",
    "\n",
    "Therefore, we use PyTorch 1.9.0 in the following experimental environment. When users employ the Summarizer, we recommend that they use an additional Python environment with a more advanced version of PyTorch."
   ]
  },
  {
   "cell_type": "code",
   "execution_count": 1,
   "id": "f50d7ed6",
   "metadata": {},
   "outputs": [
    {
     "name": "stderr",
     "output_type": "stream",
     "text": [
      "/root/anaconda3/envs/HT2VEC/envs/PhenoDP/lib/python3.7/site-packages/tqdm/auto.py:21: TqdmWarning: IProgress not found. Please update jupyter and ipywidgets. See https://ipywidgets.readthedocs.io/en/stable/user_install.html\n",
      "  from .autonotebook import tqdm as notebook_tqdm\n"
     ]
    }
   ],
   "source": [
    "# Standard Libraries\n",
    "import re\n",
    "import pickle\n",
    "from tqdm import tqdm\n",
    "\n",
    "# Data Handling\n",
    "import pandas as pd\n",
    "import numpy as np\n",
    "\n",
    "# PyTorch\n",
    "import torch\n",
    "import torch.nn.functional as F\n",
    "\n",
    "# HPO Ontology\n",
    "from pyhpo import Ontology\n",
    "\n",
    "# Custom Modules\n",
    "from PhenoDP_Preprocess import *\n",
    "from PhenoDP import *\n",
    "from PCLHPOEncoder import *"
   ]
  },
  {
   "cell_type": "code",
   "execution_count": 2,
   "id": "e2689b50",
   "metadata": {},
   "outputs": [],
   "source": [
    "\n",
    "def calculate_coefficient_of_variation(df, top_n=3):\n",
    "    \"\"\"\n",
    "    Computes the mean, standard deviation, and coefficient of variation (CV) for the 'Total_Similarity' column \n",
    "    of the top n rows in a given DataFrame.\n",
    "\n",
    "    Parameters:\n",
    "    df (pd.DataFrame): A DataFrame containing the 'Total_Similarity' column.\n",
    "    top_n (int): The number of top rows to consider for the calculation. Default is 3.\n",
    "\n",
    "    Returns:\n",
    "    mean (float): The mean value of the 'Total_Similarity' column for the top n rows.\n",
    "    std (float): The standard deviation of the 'Total_Similarity' column for the top n rows.\n",
    "    cv (float): The coefficient of variation (CV) expressed as a percentage.\n",
    "    \"\"\"\n",
    "    # Extract the top n rows of the 'Total_Similarity' column\n",
    "    data = df.head(top_n)['Total_Similarity']\n",
    "    \n",
    "    # Calculate mean, standard deviation, and coefficient of variation\n",
    "    mean = data.mean()\n",
    "    std = data.std()\n",
    "    cv = (std / mean) * 100\n",
    "    \n",
    "    return cv\n",
    "\n",
    "def Get_Definition(hpo_list):\n",
    "    definition_list = []\n",
    "    for t in hpo_list:\n",
    "        definition = Ontology.get_hpo_object(t).definition\n",
    "        match = re.search(r'\"(.*?)\"', definition)\n",
    "        if match:\n",
    "            definition_list.append(match.group(1))\n",
    "    return ' '.join(definition_list)"
   ]
  },
  {
   "cell_type": "code",
   "execution_count": 3,
   "id": "d9c2654e",
   "metadata": {},
   "outputs": [
    {
     "data": {
      "text/plain": [
       "<All keys matched successfully>"
      ]
     },
     "execution_count": 3,
     "metadata": {},
     "output_type": "execute_result"
    }
   ],
   "source": [
    "Ontology('./HPO_2025_3_3/')\n",
    "\n",
    "with open('./JC_sim_dict_test.pkl', 'rb') as f:\n",
    "    hp2d_sim_dict = pickle.load(f)\n",
    "    \n",
    "with open('./node_embedding_dict_test.plk', 'rb') as f:\n",
    "    node_embedding = pickle.load(f)\n",
    "\n",
    "input_dim = 256\n",
    "num_heads = 8\n",
    "num_layers = 3\n",
    "hidden_dim = 512\n",
    "output_dim = 1\n",
    "max_seq_length = 128\n",
    "recommender = PCL_HPOEncoder(input_dim, num_heads, num_layers, hidden_dim, output_dim, max_seq_length)\n",
    "recommender.load_state_dict(torch.load('./transformer_encoder_infoNCE_test.pth'))\n"
   ]
  },
  {
   "cell_type": "code",
   "execution_count": 4,
   "id": "90ad5a7b",
   "metadata": {},
   "outputs": [],
   "source": [
    "Patient_hps = ['HP:0000670', 'HP:0004322', 'HP:0000992', 'HP:0001290', 'HP:0000407', 'HP:0000252', 'HP:0000490']"
   ]
  },
  {
   "cell_type": "code",
   "execution_count": 5,
   "id": "f2558d50",
   "metadata": {},
   "outputs": [],
   "source": [
    "Input_text = Get_Definition(Patient_hps)"
   ]
  },
  {
   "cell_type": "code",
   "execution_count": 6,
   "id": "e9120e1c",
   "metadata": {},
   "outputs": [
    {
     "name": "stdout",
     "output_type": "stream",
     "text": [
      "generate disease dict...\n",
      "related hpo num: 9211\n",
      "generate disease ic dict... \n",
      "calculating hp weights\n",
      "PCL_HPOEncoder is a pre-trained model\n"
     ]
    }
   ],
   "source": [
    "pre_model = PhenoDP_Initial(Ontology)\n",
    "phenodp = PhenoDP(pre_model=pre_model, hp2d_sim_dict=hp2d_sim_dict, node_embedding=node_embedding, PCL_HPOEncoder=recommender)"
   ]
  },
  {
   "cell_type": "code",
   "execution_count": 7,
   "id": "0fc4e41d",
   "metadata": {},
   "outputs": [
    {
     "name": "stderr",
     "output_type": "stream",
     "text": [
      "Find Candidate Diseases: 100%|██████████| 2789/2789 [00:00<00:00, 24668.42it/s]\n",
      "Calculating Phi Scores: 100%|██████████| 200/200 [00:00<00:00, 512.98it/s]\n",
      "Calculating Embedding Similarity: 100%|██████████| 200/200 [00:01<00:00, 125.20it/s]\n"
     ]
    },
    {
     "data": {
      "text/plain": [
       "3.202152889291407"
      ]
     },
     "execution_count": 7,
     "metadata": {},
     "output_type": "execute_result"
    }
   ],
   "source": [
    "df = phenodp.run_Ranker(Patient_hps)\n",
    "calculate_coefficient_of_variation(df, top_n=3)"
   ]
  },
  {
   "cell_type": "code",
   "execution_count": 8,
   "id": "f5c92957",
   "metadata": {},
   "outputs": [
    {
     "data": {
      "text/html": [
       "<div>\n",
       "<style scoped>\n",
       "    .dataframe tbody tr th:only-of-type {\n",
       "        vertical-align: middle;\n",
       "    }\n",
       "\n",
       "    .dataframe tbody tr th {\n",
       "        vertical-align: top;\n",
       "    }\n",
       "\n",
       "    .dataframe thead th {\n",
       "        text-align: right;\n",
       "    }\n",
       "</style>\n",
       "<table border=\"1\" class=\"dataframe\">\n",
       "  <thead>\n",
       "    <tr style=\"text-align: right;\">\n",
       "      <th></th>\n",
       "      <th>Disease</th>\n",
       "      <th>Total_Similarity</th>\n",
       "    </tr>\n",
       "  </thead>\n",
       "  <tbody>\n",
       "    <tr>\n",
       "      <th>0</th>\n",
       "      <td>216400</td>\n",
       "      <td>0.753126</td>\n",
       "    </tr>\n",
       "    <tr>\n",
       "      <th>1</th>\n",
       "      <td>133540</td>\n",
       "      <td>0.720296</td>\n",
       "    </tr>\n",
       "    <tr>\n",
       "      <th>2</th>\n",
       "      <td>278760</td>\n",
       "      <td>0.708106</td>\n",
       "    </tr>\n",
       "    <tr>\n",
       "      <th>3</th>\n",
       "      <td>618342</td>\n",
       "      <td>0.705713</td>\n",
       "    </tr>\n",
       "    <tr>\n",
       "      <th>4</th>\n",
       "      <td>268850</td>\n",
       "      <td>0.698422</td>\n",
       "    </tr>\n",
       "    <tr>\n",
       "      <th>...</th>\n",
       "      <td>...</td>\n",
       "      <td>...</td>\n",
       "    </tr>\n",
       "    <tr>\n",
       "      <th>195</th>\n",
       "      <td>194050</td>\n",
       "      <td>0.567014</td>\n",
       "    </tr>\n",
       "    <tr>\n",
       "      <th>196</th>\n",
       "      <td>300990</td>\n",
       "      <td>0.565087</td>\n",
       "    </tr>\n",
       "    <tr>\n",
       "      <th>197</th>\n",
       "      <td>268400</td>\n",
       "      <td>0.551475</td>\n",
       "    </tr>\n",
       "    <tr>\n",
       "      <th>198</th>\n",
       "      <td>256550</td>\n",
       "      <td>0.545349</td>\n",
       "    </tr>\n",
       "    <tr>\n",
       "      <th>199</th>\n",
       "      <td>612780</td>\n",
       "      <td>0.538059</td>\n",
       "    </tr>\n",
       "  </tbody>\n",
       "</table>\n",
       "<p>200 rows × 2 columns</p>\n",
       "</div>"
      ],
      "text/plain": [
       "     Disease  Total_Similarity\n",
       "0     216400          0.753126\n",
       "1     133540          0.720296\n",
       "2     278760          0.708106\n",
       "3     618342          0.705713\n",
       "4     268850          0.698422\n",
       "..       ...               ...\n",
       "195   194050          0.567014\n",
       "196   300990          0.565087\n",
       "197   268400          0.551475\n",
       "198   256550          0.545349\n",
       "199   612780          0.538059\n",
       "\n",
       "[200 rows x 2 columns]"
      ]
     },
     "execution_count": 8,
     "metadata": {},
     "output_type": "execute_result"
    }
   ],
   "source": [
    "df"
   ]
  },
  {
   "cell_type": "code",
   "execution_count": 9,
   "id": "093d65ac",
   "metadata": {},
   "outputs": [
    {
     "name": "stdout",
     "output_type": "stream",
     "text": [
      "using default setting...\n"
     ]
    },
    {
     "name": "stderr",
     "output_type": "stream",
     "text": [
      "Calculating NCE Loss: 100%|██████████| 20/20 [00:00<00:00, 130.03it/s]\n"
     ]
    },
    {
     "data": {
      "text/html": [
       "<div>\n",
       "<style scoped>\n",
       "    .dataframe tbody tr th:only-of-type {\n",
       "        vertical-align: middle;\n",
       "    }\n",
       "\n",
       "    .dataframe tbody tr th {\n",
       "        vertical-align: top;\n",
       "    }\n",
       "\n",
       "    .dataframe thead th {\n",
       "        text-align: right;\n",
       "    }\n",
       "</style>\n",
       "<table border=\"1\" class=\"dataframe\">\n",
       "  <thead>\n",
       "    <tr style=\"text-align: right;\">\n",
       "      <th></th>\n",
       "      <th>hp</th>\n",
       "      <th>importance</th>\n",
       "    </tr>\n",
       "  </thead>\n",
       "  <tbody>\n",
       "    <tr>\n",
       "      <th>0</th>\n",
       "      <td>HP:0002119</td>\n",
       "      <td>1.599746</td>\n",
       "    </tr>\n",
       "    <tr>\n",
       "      <th>1</th>\n",
       "      <td>HP:0001105</td>\n",
       "      <td>1.291994</td>\n",
       "    </tr>\n",
       "    <tr>\n",
       "      <th>2</th>\n",
       "      <td>HP:0000518</td>\n",
       "      <td>1.171731</td>\n",
       "    </tr>\n",
       "    <tr>\n",
       "      <th>3</th>\n",
       "      <td>HP:0005301</td>\n",
       "      <td>1.149699</td>\n",
       "    </tr>\n",
       "    <tr>\n",
       "      <th>4</th>\n",
       "      <td>HP:0000135</td>\n",
       "      <td>1.033585</td>\n",
       "    </tr>\n",
       "    <tr>\n",
       "      <th>5</th>\n",
       "      <td>HP:0003273</td>\n",
       "      <td>1.016881</td>\n",
       "    </tr>\n",
       "    <tr>\n",
       "      <th>6</th>\n",
       "      <td>HP:0000448</td>\n",
       "      <td>0.977473</td>\n",
       "    </tr>\n",
       "    <tr>\n",
       "      <th>7</th>\n",
       "      <td>HP:0001260</td>\n",
       "      <td>0.883704</td>\n",
       "    </tr>\n",
       "    <tr>\n",
       "      <th>8</th>\n",
       "      <td>HP:0000858</td>\n",
       "      <td>0.804751</td>\n",
       "    </tr>\n",
       "    <tr>\n",
       "      <th>9</th>\n",
       "      <td>HP:0007814</td>\n",
       "      <td>0.778095</td>\n",
       "    </tr>\n",
       "    <tr>\n",
       "      <th>10</th>\n",
       "      <td>HP:0001252</td>\n",
       "      <td>0.682768</td>\n",
       "    </tr>\n",
       "    <tr>\n",
       "      <th>11</th>\n",
       "      <td>HP:0001288</td>\n",
       "      <td>0.664881</td>\n",
       "    </tr>\n",
       "    <tr>\n",
       "      <th>12</th>\n",
       "      <td>HP:0008850</td>\n",
       "      <td>0.641978</td>\n",
       "    </tr>\n",
       "    <tr>\n",
       "      <th>13</th>\n",
       "      <td>HP:0001272</td>\n",
       "      <td>0.598839</td>\n",
       "    </tr>\n",
       "    <tr>\n",
       "      <th>14</th>\n",
       "      <td>HP:0000726</td>\n",
       "      <td>0.597935</td>\n",
       "    </tr>\n",
       "    <tr>\n",
       "      <th>15</th>\n",
       "      <td>HP:0001263</td>\n",
       "      <td>0.595292</td>\n",
       "    </tr>\n",
       "    <tr>\n",
       "      <th>16</th>\n",
       "      <td>HP:0006297</td>\n",
       "      <td>0.554212</td>\n",
       "    </tr>\n",
       "    <tr>\n",
       "      <th>17</th>\n",
       "      <td>HP:0003357</td>\n",
       "      <td>0.517886</td>\n",
       "    </tr>\n",
       "    <tr>\n",
       "      <th>18</th>\n",
       "      <td>HP:0011461</td>\n",
       "      <td>0.507744</td>\n",
       "    </tr>\n",
       "    <tr>\n",
       "      <th>19</th>\n",
       "      <td>HP:0034392</td>\n",
       "      <td>0.448055</td>\n",
       "    </tr>\n",
       "  </tbody>\n",
       "</table>\n",
       "</div>"
      ],
      "text/plain": [
       "            hp  importance\n",
       "0   HP:0002119    1.599746\n",
       "1   HP:0001105    1.291994\n",
       "2   HP:0000518    1.171731\n",
       "3   HP:0005301    1.149699\n",
       "4   HP:0000135    1.033585\n",
       "5   HP:0003273    1.016881\n",
       "6   HP:0000448    0.977473\n",
       "7   HP:0001260    0.883704\n",
       "8   HP:0000858    0.804751\n",
       "9   HP:0007814    0.778095\n",
       "10  HP:0001252    0.682768\n",
       "11  HP:0001288    0.664881\n",
       "12  HP:0008850    0.641978\n",
       "13  HP:0001272    0.598839\n",
       "14  HP:0000726    0.597935\n",
       "15  HP:0001263    0.595292\n",
       "16  HP:0006297    0.554212\n",
       "17  HP:0003357    0.517886\n",
       "18  HP:0011461    0.507744\n",
       "19  HP:0034392    0.448055"
      ]
     },
     "execution_count": 9,
     "metadata": {},
     "output_type": "execute_result"
    }
   ],
   "source": [
    "phenodp.run_Recommender(Patient_hps, target_disease=216400 , candidate_diseases=[216400, 278760, 133540])"
   ]
  },
  {
   "cell_type": "code",
   "execution_count": 10,
   "id": "121539db",
   "metadata": {},
   "outputs": [],
   "source": [
    "def generate_diagnosis_prompt(Patient_hps, df, Top_n=3, Top_Recom=2):\n",
    "    \"\"\"\n",
    "    Generate a prompt for explaining potential symptoms to differentiate between candidate diseases.\n",
    "\n",
    "    Args:\n",
    "        Patient_hps (list): List of patient's observed HPO terms.\n",
    "        df (pd.DataFrame): DataFrame containing candidate diseases and their details.\n",
    "        Top_n (int): Number of top candidate diseases to consider. Default is 3.\n",
    "        Top_Recom (int): Number of top recommended symptoms for each disease. Default is 2.\n",
    "\n",
    "    Returns:\n",
    "        str: A formatted prompt for disease differentiation.\n",
    "    \"\"\"\n",
    "    # Get observed symptoms\n",
    "    observered_syn = Get_Definition(Patient_hps)\n",
    "    \n",
    "    # Get top candidate diseases\n",
    "    Condidate_diseases = df.head(Top_n)['Disease'].values\n",
    "    \n",
    "    # Initialize lists for diseases and recommendations\n",
    "    diseases_list = []\n",
    "    Recom_list = []\n",
    "    txt_inputs = []\n",
    "    \n",
    "    # Process each candidate disease\n",
    "    for index, t in enumerate(Condidate_diseases):\n",
    "        # Get recommended symptoms for the disease\n",
    "        recom = phenodp.run_Recommender(Patient_hps, target_disease=t, candidate_diseases=Condidate_diseases)\n",
    "        Recom_list.append([Ontology.get_hpo_object(t).name for t in recom.head(Top_Recom).hp.values])\n",
    "        \n",
    "        # Get disease details and append to diseases_list\n",
    "        diseases_list.extend([str(index + 1) + '. [OMIM:' + str(t) + '] ' + j.name for j in Ontology.omim_diseases if j.id == t])\n",
    "        \n",
    "        # Format disease and symptoms for txt_inputs\n",
    "        txt_inputs.append(diseases_list[-1] + ' : ' + ', '.join(Recom_list[-1]))\n",
    "    \n",
    "    # Format diseases_list and txt_inputs as strings\n",
    "    diseases_list_str = \"\\n\".join(diseases_list)\n",
    "    txt_inputs_str = \"\\n\".join(txt_inputs)\n",
    "    \n",
    "    # Generate the prompt\n",
    "    prompt = f\"\"\"\n",
    "Assume you are an experienced clinical physician. Below is a patient’s symptom description using HPO (Human Phenotype Ontology) terms, along with three candidate diagnoses. To further differentiate between these diagnoses, the physician has provided potential symptoms that the patient does not currently exhibit but could help clarify or confirm the diagnosis. Your task is to explain why these potential symptoms are critical for distinguishing between the three diseases.  \n",
    "\n",
    "**Patient’s Symptom Description**:  \n",
    "{observered_syn}  \n",
    "\n",
    "**Three Most Likely Disease Diagnoses**:  \n",
    "{diseases_list_str}  \n",
    "\n",
    "**Potential Symptoms for Further Differentiation**:  \n",
    "{txt_inputs_str}  \n",
    "\n",
    "**Instructions**:  \n",
    "1. **Explain Potential Symptoms**: Provide a clear and concise rationale for why the listed potential symptoms are critical for distinguishing between the three diseases. Focus on how these symptoms are specific to or more prevalent in one disease compared to the others.  \n",
    "2. **Do Not Diagnose**: Do not make any new diagnoses or suggest additional diseases. Your response should focus solely on explaining the potential symptoms for differentiation.  \n",
    "3. **Length and Style**: The report should be approximately 200–300 words in length, written in a professional and authentic tone that mimics a human expert.  \n",
    "4. **No References**: Do not include any references in the report.   \n",
    "\"\"\"\n",
    "    return prompt\n"
   ]
  },
  {
   "cell_type": "code",
   "execution_count": 11,
   "id": "17973f09",
   "metadata": {},
   "outputs": [
    {
     "name": "stdout",
     "output_type": "stream",
     "text": [
      "using default setting...\n"
     ]
    },
    {
     "name": "stderr",
     "output_type": "stream",
     "text": [
      "Calculating NCE Loss: 100%|██████████| 20/20 [00:00<00:00, 128.05it/s]"
     ]
    },
    {
     "name": "stdout",
     "output_type": "stream",
     "text": [
      "using default setting...\n"
     ]
    },
    {
     "name": "stderr",
     "output_type": "stream",
     "text": [
      "\n",
      "Calculating NCE Loss: 100%|██████████| 16/16 [00:00<00:00, 133.53it/s]\n"
     ]
    },
    {
     "name": "stdout",
     "output_type": "stream",
     "text": [
      "using default setting...\n"
     ]
    },
    {
     "name": "stderr",
     "output_type": "stream",
     "text": [
      "Calculating NCE Loss: 100%|██████████| 21/21 [00:00<00:00, 141.12it/s]\n"
     ]
    },
    {
     "name": "stdout",
     "output_type": "stream",
     "text": [
      "using default setting...\n"
     ]
    },
    {
     "name": "stderr",
     "output_type": "stream",
     "text": [
      "Calculating NCE Loss: 100%|██████████| 38/38 [00:00<00:00, 147.06it/s]\n"
     ]
    },
    {
     "name": "stdout",
     "output_type": "stream",
     "text": [
      "using default setting...\n"
     ]
    },
    {
     "name": "stderr",
     "output_type": "stream",
     "text": [
      "Calculating NCE Loss: 100%|██████████| 23/23 [00:00<00:00, 146.28it/s]\n"
     ]
    },
    {
     "name": "stdout",
     "output_type": "stream",
     "text": [
      "\n",
      "Assume you are an experienced clinical physician. Below is a patient’s symptom description using HPO (Human Phenotype Ontology) terms, along with three candidate diagnoses. To further differentiate between these diagnoses, the physician has provided potential symptoms that the patient does not currently exhibit but could help clarify or confirm the diagnosis. Your task is to explain why these potential symptoms are critical for distinguishing between the three diseases.  \n",
      "\n",
      "**Patient’s Symptom Description**:  \n",
      "Caries is a multifactorial bacterial infection affecting the structure of the tooth. This term has been used to describe the presence of more than expected dental caries. A height below that which is expected according to age and gender norms. Although there is no universally accepted definition of short stature, many refer to \\ An increased sensitivity of the skin to light. Photosensitivity may result in a rash upon exposure to the sun (which is known as photodermatosis). Photosensitivity can be diagnosed by phototests in which light is shone on small areas of skin. Generalized muscular hypotonia (abnormally low muscle tone). A type of hearing impairment in one or both ears related to an abnormal functionality of the cochlear nerve. Head circumference below 2 standard deviations below the mean for age and gender. An eye that is more deeply recessed into the plane of the face than is typical.  \n",
      "\n",
      "**Three Most Likely Disease Diagnoses**:  \n",
      "1. [OMIM:216400] Cockayne syndrome, type A\n",
      "2. [OMIM:133540] Cockayne syndrome, type B\n",
      "3. [OMIM:278760] Xeroderma pigmentosum, complementation group F\n",
      "4. [OMIM:618342] Intellectual developmental disorder with abnormal behavior, microcephaly, and short stature\n",
      "5. [OMIM:268850] Richieri-Costa/guion-Almeida syndrome  \n",
      "\n",
      "**Potential Symptoms for Further Differentiation**:  \n",
      "1. [OMIM:216400] Cockayne syndrome, type A : Ventriculomegaly, Cataract, Hip contracture\n",
      "2. [OMIM:133540] Cockayne syndrome, type B : Microcornea, Subcortical white matter calcifications, Developmental cataract\n",
      "3. [OMIM:278760] Xeroderma pigmentosum, complementation group F : Seborrheic keratosis, Keratoacanthoma, Squamous cell carcinoma\n",
      "4. [OMIM:618342] Intellectual developmental disorder with abnormal behavior, microcephaly, and short stature : Muscle spasm, Highly arched eyebrow, Retrognathia\n",
      "5. [OMIM:268850] Richieri-Costa/guion-Almeida syndrome : Esotropia, Spina bifida occulta, Cleft upper lip  \n",
      "\n",
      "**Instructions**:  \n",
      "1. **Explain Potential Symptoms**: Provide a clear and concise rationale for why the listed potential symptoms are critical for distinguishing between the three diseases. Focus on how these symptoms are specific to or more prevalent in one disease compared to the others.  \n",
      "2. **Do Not Diagnose**: Do not make any new diagnoses or suggest additional diseases. Your response should focus solely on explaining the potential symptoms for differentiation.  \n",
      "3. **Length and Style**: The report should be approximately 200–300 words in length, written in a professional and authentic tone that mimics a human expert.  \n",
      "4. **No References**: Do not include any references in the report.   \n",
      "\n"
     ]
    }
   ],
   "source": [
    "# 假设 Patient_hps 和 df 已经定义\n",
    "prompt = generate_diagnosis_prompt(Patient_hps, df, Top_n=5, Top_Recom=3)\n",
    "print(prompt)\n",
    "\n",
    "# 保存为txt文件\n",
    "with open('./Case_Report_Prompt.txt', 'w', encoding='utf-8') as f:\n",
    "    f.write(prompt)"
   ]
  },
  {
   "cell_type": "markdown",
   "id": "4793b4d6",
   "metadata": {},
   "source": [
    "\n",
    "# **Notebook Demonstration**\n",
    "In this <kbd>Jupyter Notebook</kbd>, we've demonstrated how to use the <mark>rank</mark> and <mark>recommender</mark>. We combined the results of two components to generate a prompt (with <ins>prompt</ins>). This prompt can be input into the <u>summarizer</u> to obtain the case report."
   ]
  },
  {
   "cell_type": "code",
   "execution_count": null,
   "id": "4c005837",
   "metadata": {},
   "outputs": [],
   "source": []
  }
 ],
 "metadata": {
  "kernelspec": {
   "display_name": "Python (PhenoDP)",
   "language": "python",
   "name": "phenodp"
  },
  "language_info": {
   "codemirror_mode": {
    "name": "ipython",
    "version": 3
   },
   "file_extension": ".py",
   "mimetype": "text/x-python",
   "name": "python",
   "nbconvert_exporter": "python",
   "pygments_lexer": "ipython3",
   "version": "3.7.3"
  }
 },
 "nbformat": 4,
 "nbformat_minor": 5
}
