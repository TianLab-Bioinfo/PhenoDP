{
 "cells": [
  {
   "cell_type": "code",
   "execution_count": 1,
   "metadata": {},
   "outputs": [],
   "source": [
    "import obonet\n",
    "import torch\n",
    "import pickle\n",
    "from tqdm import tqdm\n",
    "from pyhpo import Ontology\n",
    "from transformers import AutoModelForCausalLM, AutoTokenizer\n",
    "from phenodp.encoders import PSD_HPOEncoder, GCN"
   ]
  },
  {
   "cell_type": "code",
   "execution_count": 4,
   "metadata": {},
   "outputs": [],
   "source": [
    "def get_average_embedding(text, tokenizer, model, device):\n",
    "    \"\"\"\n",
    "    Compute the average embedding of a given text using the pre-trained model.\n",
    "\n",
    "    Args:\n",
    "        text (str): The input text to encode.\n",
    "\n",
    "    Returns:\n",
    "        np.ndarray: The average embedding of the text.\n",
    "\n",
    "    Raises:\n",
    "        ValueError: If NaN values are detected in the embedding.\n",
    "    \"\"\"\n",
    "    # Convert the text into model inputs\n",
    "    inputs = tokenizer(text, return_tensors=\"pt\").to(device)\n",
    "    \n",
    "    # Obtain the hidden states from the model\n",
    "    with torch.no_grad():\n",
    "        outputs = model(**inputs, output_hidden_states=True)\n",
    "    \n",
    "    # Extract the hidden states from the last layer\n",
    "    last_hidden_states = outputs.hidden_states[-1]\n",
    "    \n",
    "    # Compute the average of the hidden states to obtain the text representation\n",
    "    # Convert bfloat16 to float32 before converting to numpy to avoid unsupported ScalarType error\n",
    "    average_encoding = last_hidden_states.mean(dim=1).squeeze().to(torch.float32).cpu().numpy()\n",
    "    \n",
    "    \n",
    "    return average_encoding"
   ]
  },
  {
   "cell_type": "code",
   "execution_count": 3,
   "metadata": {},
   "outputs": [
    {
     "data": {
      "application/vnd.jupyter.widget-view+json": {
       "model_id": "b9eb1fbe21f440f78fbaaa38945a9988",
       "version_major": 2,
       "version_minor": 0
      },
      "text/plain": [
       "Loading checkpoint shards:   0%|          | 0/4 [00:00<?, ?it/s]"
      ]
     },
     "metadata": {},
     "output_type": "display_data"
    }
   ],
   "source": [
    "device = \"cuda\" if torch.cuda.is_available() else \"cpu\"\n",
    "\n",
    "model_path = '../data/model/Bio-Medical-3B-CoT-Finetuned'\n",
    "\n",
    "model = AutoModelForCausalLM.from_pretrained(\n",
    "    model_path,\n",
    "    torch_dtype=\"auto\",\n",
    "    device_map=device\n",
    ")\n",
    "tokenizer = AutoTokenizer.from_pretrained(model_path)"
   ]
  },
  {
   "cell_type": "code",
   "execution_count": 5,
   "metadata": {},
   "outputs": [
    {
     "name": "stderr",
     "output_type": "stream",
     "text": [
      "Processing nodes: 100%|██████████| 19177/19177 [17:02<00:00, 18.76it/s]\n"
     ]
    }
   ],
   "source": [
    "ontology = Ontology(data_folder='../data/hpo-2025-05-06')\n",
    "\n",
    "url = '../data/hpo-2025-05-06/hp.obo'  \n",
    "graph = obonet.read_obo(url)\n",
    "feature_dimension = 2048\n",
    "\n",
    "# Process each node in the graph to compute and store its embedding\n",
    "for node in tqdm(graph.nodes(), desc=\"Processing nodes\"):\n",
    "    try:\n",
    "        embedding = get_average_embedding(ontology.get_hpo_object(node).name, tokenizer, model, device)\n",
    "        # Store the embedding in the node's features\n",
    "        graph.nodes[node]['feature'] = embedding\n",
    "    except ValueError as e:\n",
    "        # If NaN is detected, raise an error and terminate the program\n",
    "        print(f\"Error processing node {node}: {e}\")\n",
    "        raise"
   ]
  },
  {
   "cell_type": "code",
   "execution_count": 6,
   "metadata": {},
   "outputs": [
    {
     "name": "stderr",
     "output_type": "stream",
     "text": [
      "/remote-home/share/data3/ly/PhenoDP/phenodp/encoders.py:107: UserWarning: Creating a tensor from a list of numpy.ndarrays is extremely slow. Please consider converting the list to a single numpy.ndarray with numpy.array() before converting to a tensor. (Triggered internally at ../torch/csrc/utils/tensor_new.cpp:274.)\n",
      "  dgl_graph.ndata['feat'] = torch.tensor(features, dtype=torch.float32)\n"
     ]
    },
    {
     "name": "stdout",
     "output_type": "stream",
     "text": [
      "Epoch 0, Loss: 4.326616287231445\n",
      "Epoch 10, Loss: 3.6091842651367188\n",
      "Epoch 20, Loss: 3.4174458980560303\n",
      "Epoch 30, Loss: 3.3009395599365234\n",
      "Epoch 40, Loss: 3.3029990196228027\n",
      "Epoch 50, Loss: 3.2532284259796143\n",
      "Epoch 60, Loss: 3.219243288040161\n",
      "Epoch 70, Loss: 3.1401946544647217\n",
      "Epoch 80, Loss: 3.155456066131592\n",
      "Epoch 90, Loss: 3.1003711223602295\n",
      "Epoch 100, Loss: 3.041008234024048\n",
      "Epoch 110, Loss: 2.9589552879333496\n",
      "Epoch 120, Loss: 2.9611613750457764\n",
      "Epoch 130, Loss: 2.86667799949646\n",
      "Epoch 140, Loss: 2.8205506801605225\n",
      "Epoch 150, Loss: 2.7890706062316895\n",
      "Epoch 160, Loss: 2.6870105266571045\n",
      "Epoch 170, Loss: 2.6204681396484375\n",
      "Epoch 180, Loss: 2.6074070930480957\n",
      "Epoch 190, Loss: 2.491335868835449\n",
      "Epoch 200, Loss: 2.4607696533203125\n",
      "Epoch 210, Loss: 2.4158196449279785\n",
      "Epoch 220, Loss: 2.3929336071014404\n",
      "Epoch 230, Loss: 2.329793930053711\n",
      "Epoch 240, Loss: 2.2623910903930664\n",
      "Epoch 250, Loss: 2.2221603393554688\n",
      "Epoch 260, Loss: 2.182469606399536\n",
      "Epoch 270, Loss: 2.101799726486206\n",
      "Epoch 280, Loss: 2.0919029712677\n",
      "Epoch 290, Loss: 1.9990509748458862\n",
      "Epoch 300, Loss: 2.0305211544036865\n",
      "Epoch 310, Loss: 1.983834981918335\n",
      "Epoch 320, Loss: 1.9015697240829468\n",
      "Epoch 330, Loss: 1.9055678844451904\n",
      "Epoch 340, Loss: 1.8787226676940918\n",
      "Epoch 350, Loss: 1.8641929626464844\n",
      "Epoch 360, Loss: 1.8186490535736084\n",
      "Epoch 370, Loss: 1.789358139038086\n",
      "Epoch 380, Loss: 1.717451572418213\n",
      "Epoch 390, Loss: 1.7185837030410767\n",
      "Epoch 400, Loss: 1.7344598770141602\n",
      "Epoch 410, Loss: 1.6884679794311523\n",
      "Epoch 420, Loss: 1.7182750701904297\n",
      "Epoch 430, Loss: 1.661426305770874\n",
      "Epoch 440, Loss: 1.651991605758667\n",
      "Epoch 450, Loss: 1.5901389122009277\n",
      "Epoch 460, Loss: 1.5861949920654297\n",
      "Epoch 470, Loss: 1.5901316404342651\n",
      "Epoch 480, Loss: 1.590179204940796\n",
      "Epoch 490, Loss: 1.5620306730270386\n"
     ]
    }
   ],
   "source": [
    "dgl_graph = PSD_HPOEncoder.nx_to_dgl(graph)\n",
    "feature_dimension = 2048\n",
    "in_feats = feature_dimension\n",
    "h_feats = 256\n",
    "out_feats = feature_dimension\n",
    "\n",
    "# DGL graph does not implement the API for GPU, so we use CPU for computation\n",
    "device = torch.device(\"cpu\")\n",
    "model = GCN(in_feats, h_feats, out_feats).to(device)\n",
    "\n",
    "PSD_HPOEncoder.train_model(model, dgl_graph, epochs=500, lr=0.001, node_mask_percentage=0.2, edge_mask_percentage=0.2)"
   ]
  },
  {
   "cell_type": "code",
   "execution_count": 7,
   "metadata": {},
   "outputs": [],
   "source": [
    "model.eval()\n",
    "with torch.no_grad():\n",
    "    outputs, latent = model(dgl_graph, dgl_graph.ndata['feat'])\n",
    "node_embedding_dict = {node_id: latent[idx].numpy() for idx, node_id in enumerate(list(graph.nodes))}"
   ]
  },
  {
   "cell_type": "code",
   "execution_count": 8,
   "metadata": {},
   "outputs": [],
   "source": [
    "with open('../data/node_embedding_dict.pkl', 'wb') as f:\n",
    "    pickle.dump(node_embedding_dict, f)"
   ]
  },
  {
   "cell_type": "code",
   "execution_count": null,
   "metadata": {},
   "outputs": [],
   "source": []
  }
 ],
 "metadata": {
  "kernelspec": {
   "display_name": "phenodp",
   "language": "python",
   "name": "python3"
  },
  "language_info": {
   "codemirror_mode": {
    "name": "ipython",
    "version": 3
   },
   "file_extension": ".py",
   "mimetype": "text/x-python",
   "name": "python",
   "nbconvert_exporter": "python",
   "pygments_lexer": "ipython3",
   "version": "3.10.18"
  }
 },
 "nbformat": 4,
 "nbformat_minor": 2
}
