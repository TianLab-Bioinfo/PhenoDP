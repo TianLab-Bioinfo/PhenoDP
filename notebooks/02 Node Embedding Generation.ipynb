{
 "cells": [
  {
   "cell_type": "code",
   "execution_count": 17,
   "metadata": {},
   "outputs": [],
   "source": [
    "import obonet\n",
    "import torch\n",
    "import pickle\n",
    "from tqdm import tqdm\n",
    "from transformers import AutoModelForCausalLM, AutoTokenizer\n",
    "from phenodp.encoders import PSD_HPOEncoder, GCN"
   ]
  },
  {
   "cell_type": "code",
   "execution_count": null,
   "metadata": {},
   "outputs": [],
   "source": [
    "def get_average_embedding(text, tokenizer, model, device):\n",
    "    \"\"\"\n",
    "    Compute the average embedding of a given text using the pre-trained model.\n",
    "\n",
    "    Args:\n",
    "        text (str): The input text to encode.\n",
    "\n",
    "    Returns:\n",
    "        np.ndarray: The average embedding of the text.\n",
    "\n",
    "    Raises:\n",
    "        ValueError: If NaN values are detected in the embedding.\n",
    "    \"\"\"\n",
    "    # Convert the text into model inputs\n",
    "    inputs = tokenizer(text, return_tensors=\"pt\").to(device)\n",
    "    \n",
    "    # Obtain the hidden states from the model\n",
    "    with torch.no_grad():\n",
    "        outputs = model(**inputs, output_hidden_states=True)\n",
    "    \n",
    "    # Extract the hidden states from the last layer\n",
    "    last_hidden_states = outputs.hidden_states[-1]\n",
    "    \n",
    "    # Compute the average of the hidden states to obtain the text representation\n",
    "    # Convert bfloat16 to float32 before converting to numpy to avoid unsupported ScalarType error\n",
    "    average_encoding = last_hidden_states.mean(dim=1).squeeze().to(torch.float32).cpu().numpy()\n",
    "    \n",
    "    \n",
    "    return average_encoding"
   ]
  },
  {
   "cell_type": "code",
   "execution_count": null,
   "metadata": {},
   "outputs": [],
   "source": [
    "device = \"cuda\" if torch.cuda.is_available() else \"cpu\"\n",
    "\n",
    "model_path = '../data/model/Bio-Medical-3B-CoT-Finetuned'\n",
    "\n",
    "model = AutoModelForCausalLM.from_pretrained(\n",
    "    model_path,\n",
    "    torch_dtype=\"auto\",\n",
    "    device_map=device\n",
    ")\n",
    "tokenizer = AutoTokenizer.from_pretrained(model_path)"
   ]
  },
  {
   "cell_type": "code",
   "execution_count": null,
   "metadata": {},
   "outputs": [],
   "source": [
    "url = '../data/hpo-2025-05-06/hp.obo'  \n",
    "graph = obonet.read_obo(url)\n",
    "feature_dimension = 2048\n",
    "\n",
    "# Process each node in the graph to compute and store its embedding\n",
    "for node in tqdm(graph.nodes(), desc=\"Processing nodes\"):\n",
    "    try:\n",
    "        # Retrieve the HPO term object for the node\n",
    "        hpo_term = graph.nodes[node].get('name', 'Unknown Term')\n",
    "        # Compute the embedding for the node's name\n",
    "        embedding = get_average_embedding(hpo_term, tokenizer, model, device)\n",
    "        # Store the embedding in the node's features\n",
    "        graph.nodes[node]['feature'] = embedding\n",
    "    except ValueError as e:\n",
    "        # If NaN is detected, raise an error and terminate the program\n",
    "        print(f\"Error processing node {node}: {e}\")\n",
    "        raise"
   ]
  },
  {
   "cell_type": "code",
   "execution_count": null,
   "metadata": {},
   "outputs": [],
   "source": [
    "dgl_graph = PSD_HPOEncoder.nx_to_dgl(graph)\n",
    "feature_dimension = 2048\n",
    "in_feats = feature_dimension\n",
    "h_feats = 256\n",
    "out_feats = feature_dimension\n",
    "\n",
    "# DGL graph does not implement the API for GPU, so we use CPU for computation\n",
    "device = torch.device(\"cpu\")\n",
    "model = GCN(in_feats, h_feats, out_feats).to(device)\n",
    "\n",
    "\n",
    "PSD_HPOEncoder.train_model(model, dgl_graph, epochs=500, lr=0.001, node_mask_percentage=0.2, edge_mask_percentage=0.2)"
   ]
  },
  {
   "cell_type": "code",
   "execution_count": 19,
   "metadata": {},
   "outputs": [],
   "source": [
    "model.eval()\n",
    "with torch.no_grad():\n",
    "    outputs, latent = model(dgl_graph, dgl_graph.ndata['feat'])\n",
    "node_embedding_dict = {node_id: latent[idx].numpy() for idx, node_id in enumerate(list(graph.nodes))}"
   ]
  },
  {
   "cell_type": "code",
   "execution_count": 20,
   "metadata": {},
   "outputs": [],
   "source": [
    "with open('../data/node_embedding_dict.pkl', 'wb') as f:\n",
    "    pickle.dump(node_embedding_dict, f)"
   ]
  }
 ],
 "metadata": {
  "kernelspec": {
   "display_name": "phenodp",
   "language": "python",
   "name": "python3"
  },
  "language_info": {
   "codemirror_mode": {
    "name": "ipython",
    "version": 3
   },
   "file_extension": ".py",
   "mimetype": "text/x-python",
   "name": "python",
   "nbconvert_exporter": "python",
   "pygments_lexer": "ipython3",
   "version": "3.10.18"
  }
 },
 "nbformat": 4,
 "nbformat_minor": 2
}
