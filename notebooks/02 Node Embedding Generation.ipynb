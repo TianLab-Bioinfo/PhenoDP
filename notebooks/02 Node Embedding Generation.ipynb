{
 "cells": [
  {
   "cell_type": "code",
   "execution_count": 1,
   "metadata": {},
   "outputs": [],
   "source": [
    "import obonet\n",
    "import torch\n",
    "import pickle\n",
    "from tqdm import tqdm\n",
    "from transformers import AutoModelForCausalLM, AutoTokenizer\n",
    "from phenodp.encoders import PSD_HPOEncoder, GCN"
   ]
  },
  {
   "cell_type": "code",
   "execution_count": 2,
   "metadata": {},
   "outputs": [],
   "source": [
    "def get_average_embedding(text, tokenizer, model, device):\n",
    "    \"\"\"\n",
    "    Compute the average embedding of a given text using the pre-trained model.\n",
    "\n",
    "    Args:\n",
    "        text (str): The input text to encode.\n",
    "\n",
    "    Returns:\n",
    "        np.ndarray: The average embedding of the text.\n",
    "\n",
    "    Raises:\n",
    "        ValueError: If NaN values are detected in the embedding.\n",
    "    \"\"\"\n",
    "    # Convert the text into model inputs\n",
    "    inputs = tokenizer(text, return_tensors=\"pt\").to(device)\n",
    "    \n",
    "    # Obtain the hidden states from the model\n",
    "    with torch.no_grad():\n",
    "        outputs = model(**inputs, output_hidden_states=True)\n",
    "    \n",
    "    # Extract the hidden states from the last layer\n",
    "    last_hidden_states = outputs.hidden_states[-1]\n",
    "    \n",
    "    # Compute the average of the hidden states to obtain the text representation\n",
    "    # Convert bfloat16 to float32 before converting to numpy to avoid unsupported ScalarType error\n",
    "    average_encoding = last_hidden_states.mean(dim=1).squeeze().to(torch.float32).cpu().numpy()\n",
    "    \n",
    "    \n",
    "    return average_encoding"
   ]
  },
  {
   "cell_type": "code",
   "execution_count": 3,
   "metadata": {},
   "outputs": [
    {
     "data": {
      "application/vnd.jupyter.widget-view+json": {
       "model_id": "06e26ea7f0c649bab86e08c32dedd43b",
       "version_major": 2,
       "version_minor": 0
      },
      "text/plain": [
       "Loading checkpoint shards:   0%|          | 0/4 [00:00<?, ?it/s]"
      ]
     },
     "metadata": {},
     "output_type": "display_data"
    }
   ],
   "source": [
    "device = \"cuda\" if torch.cuda.is_available() else \"cpu\"\n",
    "\n",
    "model_path = '../data/model/Bio-Medical-3B-CoT-Finetuned'\n",
    "\n",
    "model = AutoModelForCausalLM.from_pretrained(\n",
    "    model_path,\n",
    "    torch_dtype=\"auto\",\n",
    "    device_map=device\n",
    ")\n",
    "tokenizer = AutoTokenizer.from_pretrained(model_path)"
   ]
  },
  {
   "cell_type": "code",
   "execution_count": 4,
   "metadata": {},
   "outputs": [
    {
     "name": "stderr",
     "output_type": "stream",
     "text": [
      "Processing nodes: 100%|██████████| 19177/19177 [28:43<00:00, 11.12it/s]\n"
     ]
    }
   ],
   "source": [
    "url = '../data/hpo-2025-05-06/hp.obo'  \n",
    "graph = obonet.read_obo(url)\n",
    "feature_dimension = 2048\n",
    "\n",
    "# Process each node in the graph to compute and store its embedding\n",
    "for node in tqdm(graph.nodes(), desc=\"Processing nodes\"):\n",
    "    try:\n",
    "        # Retrieve the HPO term object for the node\n",
    "        hpo_term = graph.nodes[node].get('name', 'Unknown Term')\n",
    "        # Compute the embedding for the node's name\n",
    "        embedding = get_average_embedding(hpo_term, tokenizer, model, device)\n",
    "        # Store the embedding in the node's features\n",
    "        graph.nodes[node]['feature'] = embedding\n",
    "    except ValueError as e:\n",
    "        # If NaN is detected, raise an error and terminate the program\n",
    "        print(f\"Error processing node {node}: {e}\")\n",
    "        raise"
   ]
  },
  {
   "cell_type": "code",
   "execution_count": 5,
   "metadata": {},
   "outputs": [
    {
     "name": "stderr",
     "output_type": "stream",
     "text": [
      "/remote-home/share/data3/ly/PhenoDP/phenodp/encoders.py:119: UserWarning: Creating a tensor from a list of numpy.ndarrays is extremely slow. Please consider converting the list to a single numpy.ndarray with numpy.array() before converting to a tensor. (Triggered internally at ../torch/csrc/utils/tensor_new.cpp:274.)\n",
      "  dgl_graph.ndata['feat'] = torch.tensor(features, dtype=torch.float32)\n"
     ]
    },
    {
     "name": "stdout",
     "output_type": "stream",
     "text": [
      "Epoch 0, Loss: 4.382920742034912\n",
      "Epoch 10, Loss: 3.642106056213379\n",
      "Epoch 20, Loss: 3.432603120803833\n",
      "Epoch 30, Loss: 3.311546564102173\n",
      "Epoch 40, Loss: 3.289074420928955\n",
      "Epoch 50, Loss: 3.2476754188537598\n",
      "Epoch 60, Loss: 3.2304956912994385\n",
      "Epoch 70, Loss: 3.117399215698242\n",
      "Epoch 80, Loss: 3.140692710876465\n",
      "Epoch 90, Loss: 3.0696816444396973\n",
      "Epoch 100, Loss: 2.9765782356262207\n",
      "Epoch 110, Loss: 2.9778101444244385\n",
      "Epoch 120, Loss: 2.969238519668579\n",
      "Epoch 130, Loss: 2.8587207794189453\n",
      "Epoch 140, Loss: 2.804210901260376\n",
      "Epoch 150, Loss: 2.733131170272827\n",
      "Epoch 160, Loss: 2.6965548992156982\n",
      "Epoch 170, Loss: 2.591127872467041\n",
      "Epoch 180, Loss: 2.546566963195801\n",
      "Epoch 190, Loss: 2.526063919067383\n",
      "Epoch 200, Loss: 2.4742660522460938\n",
      "Epoch 210, Loss: 2.3950393199920654\n",
      "Epoch 220, Loss: 2.388521671295166\n",
      "Epoch 230, Loss: 2.298631429672241\n",
      "Epoch 240, Loss: 2.2302441596984863\n",
      "Epoch 250, Loss: 2.2321877479553223\n",
      "Epoch 260, Loss: 2.1530818939208984\n",
      "Epoch 270, Loss: 2.139406442642212\n",
      "Epoch 280, Loss: 2.114439010620117\n",
      "Epoch 290, Loss: 2.0917975902557373\n",
      "Epoch 300, Loss: 2.0200436115264893\n",
      "Epoch 310, Loss: 1.9849426746368408\n",
      "Epoch 320, Loss: 1.9439070224761963\n",
      "Epoch 330, Loss: 1.8947471380233765\n",
      "Epoch 340, Loss: 1.8546086549758911\n",
      "Epoch 350, Loss: 1.880063533782959\n",
      "Epoch 360, Loss: 1.8105170726776123\n",
      "Epoch 370, Loss: 1.786299467086792\n",
      "Epoch 380, Loss: 1.7534998655319214\n",
      "Epoch 390, Loss: 1.7314642667770386\n",
      "Epoch 400, Loss: 1.7163373231887817\n",
      "Epoch 410, Loss: 1.6954517364501953\n",
      "Epoch 420, Loss: 1.6690433025360107\n",
      "Epoch 430, Loss: 1.6236112117767334\n",
      "Epoch 440, Loss: 1.6368452310562134\n",
      "Epoch 450, Loss: 1.632611870765686\n",
      "Epoch 460, Loss: 1.622151255607605\n",
      "Epoch 470, Loss: 1.6278443336486816\n",
      "Epoch 480, Loss: 1.5836951732635498\n",
      "Epoch 490, Loss: 1.548127293586731\n"
     ]
    }
   ],
   "source": [
    "dgl_graph = PSD_HPOEncoder.nx_to_dgl(graph)\n",
    "feature_dimension = 2048\n",
    "in_feats = feature_dimension\n",
    "h_feats = 256\n",
    "out_feats = feature_dimension\n",
    "\n",
    "# DGL graph does not implement the API for GPU, so we use CPU for computation\n",
    "device = torch.device(\"cpu\")\n",
    "model = GCN(in_feats, h_feats, out_feats).to(device)\n",
    "\n",
    "\n",
    "PSD_HPOEncoder.train_model(model, dgl_graph, epochs=500, lr=0.001, node_mask_percentage=0.2, edge_mask_percentage=0.2)"
   ]
  },
  {
   "cell_type": "code",
   "execution_count": 6,
   "metadata": {},
   "outputs": [],
   "source": [
    "model.eval()\n",
    "with torch.no_grad():\n",
    "    outputs, latent = model(dgl_graph, dgl_graph.ndata['feat'])\n",
    "node_embedding_dict = {node_id: latent[idx].numpy() for idx, node_id in enumerate(list(graph.nodes))}"
   ]
  },
  {
   "cell_type": "code",
   "execution_count": 7,
   "metadata": {},
   "outputs": [],
   "source": [
    "with open('../data/node_embedding_dict.pkl', 'wb') as f:\n",
    "    pickle.dump(node_embedding_dict, f)"
   ]
  }
 ],
 "metadata": {
  "kernelspec": {
   "display_name": "phenodp",
   "language": "python",
   "name": "python3"
  },
  "language_info": {
   "codemirror_mode": {
    "name": "ipython",
    "version": 3
   },
   "file_extension": ".py",
   "mimetype": "text/x-python",
   "name": "python",
   "nbconvert_exporter": "python",
   "pygments_lexer": "ipython3",
   "version": "3.10.18"
  }
 },
 "nbformat": 4,
 "nbformat_minor": 2
}
