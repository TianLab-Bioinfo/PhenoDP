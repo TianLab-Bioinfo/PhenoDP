{
 "cells": [
  {
   "cell_type": "code",
   "execution_count": 1,
   "metadata": {},
   "outputs": [],
   "source": [
    "import re\n",
    "import torch\n",
    "import pandas as pd\n",
    "from pyhpo import Ontology\n",
    "\n",
    "from phenodp import PhenoDP, PhenoDP_Initial\n",
    "from phenodp.encoders import PCL_HPOEncoder\n",
    "from phenodp.utils import load_similarity_matrix, load_node_embeddings"
   ]
  },
  {
   "cell_type": "code",
   "execution_count": 2,
   "metadata": {},
   "outputs": [],
   "source": [
    "ontology = Ontology(data_folder='../data/hpo-2025-05-06')"
   ]
  },
  {
   "cell_type": "code",
   "execution_count": 3,
   "metadata": {},
   "outputs": [
    {
     "name": "stderr",
     "output_type": "stream",
     "text": [
      "/root/anaconda3/envs/phenodp/lib/python3.10/site-packages/torch/nn/modules/transformer.py:306: UserWarning: enable_nested_tensor is True, but self.use_nested_tensor is False because encoder_layer.self_attn.batch_first was not True(use batch_first for better inference performance)\n",
      "  warnings.warn(f\"enable_nested_tensor is True, but self.use_nested_tensor is False because {why_not_sparsity_fast_path}\")\n"
     ]
    },
    {
     "name": "stdout",
     "output_type": "stream",
     "text": [
      "generate disease dict...\n",
      "related hpo num: 9216\n",
      "generate disease ic dict... \n",
      "calculating hp weights\n",
      "PCL_HPOEncoder is a pre-trained model\n"
     ]
    }
   ],
   "source": [
    "# Initialize the PhenoDP model\n",
    "recommender = PCL_HPOEncoder(input_dim=256, num_heads=8, num_layers=3, hidden_dim=512, output_dim=1, max_seq_length=128)\n",
    "pre_model = PhenoDP_Initial(ontology, ic_type='omim')\n",
    "hp2d_sim_dict = load_similarity_matrix('../data/JC_sim_dict.pkl')\n",
    "node_embedding = load_node_embeddings('../data/node_embedding_dict.pkl')\n",
    "recommender.load_state_dict(torch.load('../data/transformer_encoder_infoNCE.pth'))\n",
    "phenodp = PhenoDP(pre_model, hp2d_sim_dict, node_embedding, recommender)"
   ]
  },
  {
   "cell_type": "code",
   "execution_count": 4,
   "metadata": {},
   "outputs": [],
   "source": [
    "def calculate_coefficient_of_variation(results, top_n=3):\n",
    "    \"\"\"\n",
    "    Computes the mean, standard deviation, and coefficient of variation (CV) for the 'Total_Similarity' column \n",
    "    of the top n rows in a given DataFrame.\n",
    "\n",
    "    Parameters:\n",
    "    results (pd.DataFrame): A DataFrame containing the 'Total_Similarity' column.\n",
    "    top_n (int): The number of top rows to consider for the calculation. Default is 3.\n",
    "\n",
    "    Returns:\n",
    "    mean (float): The mean value of the 'Total_Similarity' column for the top n rows.\n",
    "    std (float): The standard deviation of the 'Total_Similarity' column for the top n rows.\n",
    "    cv (float): The coefficient of variation (CV) expressed as a percentage.\n",
    "    \"\"\"\n",
    "    # Extract the top n rows of the 'Total_Similarity' column\n",
    "    data = results.head(top_n)['Total_Similarity']\n",
    "    \n",
    "    # Calculate mean, standard deviation, and coefficient of variation\n",
    "    mean = data.mean()\n",
    "    std = data.std()\n",
    "    cv = (std / mean) * 100\n",
    "    \n",
    "    return cv\n",
    "\n",
    "def Get_Definition(hpo_list):\n",
    "    definition_list = []\n",
    "    for t in hpo_list:\n",
    "        definition = Ontology.get_hpo_object(t).definition\n",
    "        match = re.search(r'\"(.*?)\"', definition)\n",
    "        if match:\n",
    "            definition_list.append(match.group(1))\n",
    "    return ' '.join(definition_list)\n",
    "\n",
    "def generate_diagnosis_prompt(Patient_hps, results, Top_n=3, Top_Recom=2):\n",
    "    \"\"\"\n",
    "    Generate a prompt for explaining potential symptoms to differentiate between candidate diseases.\n",
    "\n",
    "    Args:\n",
    "        Patient_hps (list): List of patient's observed HPO terms.\n",
    "        results (pd.DataFrame): DataFrame containing candidate diseases and their details.\n",
    "        Top_n (int): Number of top candidate diseases to consider. Default is 3.\n",
    "        Top_Recom (int): Number of top recommended symptoms for each disease. Default is 2.\n",
    "\n",
    "    Returns:\n",
    "        str: A formatted prompt for disease differentiation.\n",
    "    \"\"\"\n",
    "    # Get observed symptoms\n",
    "    observered_syn = Get_Definition(Patient_hps)\n",
    "    \n",
    "    # Get top candidate diseases\n",
    "    Condidate_diseases = results.head(Top_n)['Disease'].values\n",
    "    \n",
    "    # Initialize lists for diseases and recommendations\n",
    "    diseases_list = []\n",
    "    Recom_list = []\n",
    "    txt_inputs = []\n",
    "    \n",
    "    # Process each candidate disease\n",
    "    for index, t in enumerate(Condidate_diseases):\n",
    "        # Get recommended symptoms for the disease\n",
    "        recom = phenodp.run_Recommender(Patient_hps, target_disease=t, candidate_diseases=Condidate_diseases)\n",
    "        Recom_list.append([Ontology.get_hpo_object(t).name for t in recom.head(Top_Recom).hp.values])\n",
    "        \n",
    "        # Get disease details and append to diseases_list\n",
    "        diseases_list.extend([str(index + 1) + '. [OMIM:' + str(t) + '] ' + j.name for j in Ontology.omim_diseases if j.id == t])\n",
    "        \n",
    "        # Format disease and symptoms for txt_inputs\n",
    "        txt_inputs.append(diseases_list[-1] + ' : ' + ', '.join(Recom_list[-1]))\n",
    "    \n",
    "    # Format diseases_list and txt_inputs as strings\n",
    "    diseases_list_str = \"\\n\".join(diseases_list)\n",
    "    txt_inputs_str = \"\\n\".join(txt_inputs)\n",
    "    \n",
    "    # Generate the prompt\n",
    "    prompt = f\"\"\"\n",
    "Assume you are an experienced clinical physician. Below is a patient’s symptom description using HPO (Human Phenotype Ontology) terms, along with three candidate diagnoses. To further differentiate between these diagnoses, the physician has provided potential symptoms that the patient does not currently exhibit but could help clarify or confirm the diagnosis. Your task is to explain why these potential symptoms are critical for distinguishing between the three diseases.  \n",
    "\n",
    "**Patient’s Symptom Description**:  \n",
    "{observered_syn}  \n",
    "\n",
    "**Three Most Likely Disease Diagnoses**:  \n",
    "{diseases_list_str}  \n",
    "\n",
    "**Potential Symptoms for Further Differentiation**:  \n",
    "{txt_inputs_str}  \n",
    "\n",
    "**Instructions**:  \n",
    "1. **Explain Potential Symptoms**: Provide a clear and concise rationale for why the listed potential symptoms are critical for distinguishing between the three diseases. Focus on how these symptoms are specific to or more prevalent in one disease compared to the others.  \n",
    "2. **Do Not Diagnose**: Do not make any new diagnoses or suggest additional diseases. Your response should focus solely on explaining the potential symptoms for differentiation.  \n",
    "3. **Length and Style**: The report should be approximately 200–300 words in length, written in a professional and authentic tone that mimics a human expert.  \n",
    "4. **No References**: Do not include any references in the report.   \n",
    "\"\"\"\n",
    "    return prompt"
   ]
  },
  {
   "cell_type": "markdown",
   "metadata": {},
   "source": [
    "### Ranker"
   ]
  },
  {
   "cell_type": "code",
   "execution_count": 5,
   "metadata": {},
   "outputs": [],
   "source": [
    "patient_data = pd.read_pickle('../data/dataset_real-world1.pkl')\n",
    "Patient_hps = patient_data[0][1]"
   ]
  },
  {
   "cell_type": "code",
   "execution_count": 6,
   "metadata": {},
   "outputs": [
    {
     "name": "stderr",
     "output_type": "stream",
     "text": [
      "Find Candidate Diseases: 100%|██████████| 2581/2581 [00:00<00:00, 18147.72it/s]\n",
      "Calculating Phi Scores: 100%|██████████| 200/200 [00:00<00:00, 570.85it/s]\n",
      "Calculating Embedding Similarity: 100%|██████████| 200/200 [00:07<00:00, 27.45it/s]\n"
     ]
    },
    {
     "data": {
      "text/html": [
       "<div>\n",
       "<style scoped>\n",
       "    .dataframe tbody tr th:only-of-type {\n",
       "        vertical-align: middle;\n",
       "    }\n",
       "\n",
       "    .dataframe tbody tr th {\n",
       "        vertical-align: top;\n",
       "    }\n",
       "\n",
       "    .dataframe thead th {\n",
       "        text-align: right;\n",
       "    }\n",
       "</style>\n",
       "<table border=\"1\" class=\"dataframe\">\n",
       "  <thead>\n",
       "    <tr style=\"text-align: right;\">\n",
       "      <th></th>\n",
       "      <th>Disease</th>\n",
       "      <th>Total_Similarity</th>\n",
       "    </tr>\n",
       "  </thead>\n",
       "  <tbody>\n",
       "    <tr>\n",
       "      <th>0</th>\n",
       "      <td>616395</td>\n",
       "      <td>0.733203</td>\n",
       "    </tr>\n",
       "    <tr>\n",
       "      <th>1</th>\n",
       "      <td>619488</td>\n",
       "      <td>0.590312</td>\n",
       "    </tr>\n",
       "    <tr>\n",
       "      <th>2</th>\n",
       "      <td>608013</td>\n",
       "      <td>0.565359</td>\n",
       "    </tr>\n",
       "    <tr>\n",
       "      <th>3</th>\n",
       "      <td>619991</td>\n",
       "      <td>0.560130</td>\n",
       "    </tr>\n",
       "    <tr>\n",
       "      <th>4</th>\n",
       "      <td>608104</td>\n",
       "      <td>0.553133</td>\n",
       "    </tr>\n",
       "    <tr>\n",
       "      <th>...</th>\n",
       "      <td>...</td>\n",
       "      <td>...</td>\n",
       "    </tr>\n",
       "    <tr>\n",
       "      <th>195</th>\n",
       "      <td>251100</td>\n",
       "      <td>0.456102</td>\n",
       "    </tr>\n",
       "    <tr>\n",
       "      <th>196</th>\n",
       "      <td>608670</td>\n",
       "      <td>0.451051</td>\n",
       "    </tr>\n",
       "    <tr>\n",
       "      <th>197</th>\n",
       "      <td>612474</td>\n",
       "      <td>0.448265</td>\n",
       "    </tr>\n",
       "    <tr>\n",
       "      <th>198</th>\n",
       "      <td>601812</td>\n",
       "      <td>0.442209</td>\n",
       "    </tr>\n",
       "    <tr>\n",
       "      <th>199</th>\n",
       "      <td>242510</td>\n",
       "      <td>0.434160</td>\n",
       "    </tr>\n",
       "  </tbody>\n",
       "</table>\n",
       "<p>200 rows × 2 columns</p>\n",
       "</div>"
      ],
      "text/plain": [
       "     Disease  Total_Similarity\n",
       "0     616395          0.733203\n",
       "1     619488          0.590312\n",
       "2     608013          0.565359\n",
       "3     619991          0.560130\n",
       "4     608104          0.553133\n",
       "..       ...               ...\n",
       "195   251100          0.456102\n",
       "196   608670          0.451051\n",
       "197   612474          0.448265\n",
       "198   601812          0.442209\n",
       "199   242510          0.434160\n",
       "\n",
       "[200 rows x 2 columns]"
      ]
     },
     "execution_count": 6,
     "metadata": {},
     "output_type": "execute_result"
    }
   ],
   "source": [
    "results = phenodp.run_Ranker(Patient_hps)\n",
    "results"
   ]
  },
  {
   "cell_type": "code",
   "execution_count": 7,
   "metadata": {},
   "outputs": [
    {
     "data": {
      "text/plain": [
       "np.float64(14.383970851360875)"
      ]
     },
     "execution_count": 7,
     "metadata": {},
     "output_type": "execute_result"
    }
   ],
   "source": [
    "calculate_coefficient_of_variation(results, top_n=3)"
   ]
  },
  {
   "cell_type": "markdown",
   "metadata": {},
   "source": [
    "### Recommender"
   ]
  },
  {
   "cell_type": "code",
   "execution_count": 8,
   "metadata": {},
   "outputs": [
    {
     "data": {
      "text/plain": [
       "array([616395, 619488, 608013])"
      ]
     },
     "execution_count": 8,
     "metadata": {},
     "output_type": "execute_result"
    }
   ],
   "source": [
    "candidates_d = results.head()['Disease'].values[:3]\n",
    "candidates_d"
   ]
  },
  {
   "cell_type": "code",
   "execution_count": 9,
   "metadata": {},
   "outputs": [
    {
     "name": "stdout",
     "output_type": "stream",
     "text": [
      "using default setting...\n"
     ]
    },
    {
     "name": "stderr",
     "output_type": "stream",
     "text": [
      "Calculating NCE Loss: 100%|██████████| 20/20 [00:00<00:00, 128.97it/s]\n"
     ]
    },
    {
     "data": {
      "text/html": [
       "<div>\n",
       "<style scoped>\n",
       "    .dataframe tbody tr th:only-of-type {\n",
       "        vertical-align: middle;\n",
       "    }\n",
       "\n",
       "    .dataframe tbody tr th {\n",
       "        vertical-align: top;\n",
       "    }\n",
       "\n",
       "    .dataframe thead th {\n",
       "        text-align: right;\n",
       "    }\n",
       "</style>\n",
       "<table border=\"1\" class=\"dataframe\">\n",
       "  <thead>\n",
       "    <tr style=\"text-align: right;\">\n",
       "      <th></th>\n",
       "      <th>hp</th>\n",
       "      <th>importance</th>\n",
       "    </tr>\n",
       "  </thead>\n",
       "  <tbody>\n",
       "    <tr>\n",
       "      <th>0</th>\n",
       "      <td>HP:0009886</td>\n",
       "      <td>1.542683</td>\n",
       "    </tr>\n",
       "    <tr>\n",
       "      <th>1</th>\n",
       "      <td>HP:0003261</td>\n",
       "      <td>1.493406</td>\n",
       "    </tr>\n",
       "    <tr>\n",
       "      <th>2</th>\n",
       "      <td>HP:0002188</td>\n",
       "      <td>1.304774</td>\n",
       "    </tr>\n",
       "    <tr>\n",
       "      <th>3</th>\n",
       "      <td>HP:0000518</td>\n",
       "      <td>0.755919</td>\n",
       "    </tr>\n",
       "    <tr>\n",
       "      <th>4</th>\n",
       "      <td>HP:0000519</td>\n",
       "      <td>0.746630</td>\n",
       "    </tr>\n",
       "    <tr>\n",
       "      <th>5</th>\n",
       "      <td>HP:0002719</td>\n",
       "      <td>0.695610</td>\n",
       "    </tr>\n",
       "    <tr>\n",
       "      <th>6</th>\n",
       "      <td>HP:0008069</td>\n",
       "      <td>0.653429</td>\n",
       "    </tr>\n",
       "    <tr>\n",
       "      <th>7</th>\n",
       "      <td>HP:0001263</td>\n",
       "      <td>0.644845</td>\n",
       "    </tr>\n",
       "    <tr>\n",
       "      <th>8</th>\n",
       "      <td>HP:0003577</td>\n",
       "      <td>0.639668</td>\n",
       "    </tr>\n",
       "    <tr>\n",
       "      <th>9</th>\n",
       "      <td>HP:0001249</td>\n",
       "      <td>0.632255</td>\n",
       "    </tr>\n",
       "    <tr>\n",
       "      <th>10</th>\n",
       "      <td>HP:0002245</td>\n",
       "      <td>0.628800</td>\n",
       "    </tr>\n",
       "    <tr>\n",
       "      <th>11</th>\n",
       "      <td>HP:0000992</td>\n",
       "      <td>0.605580</td>\n",
       "    </tr>\n",
       "    <tr>\n",
       "      <th>12</th>\n",
       "      <td>HP:0004322</td>\n",
       "      <td>0.596583</td>\n",
       "    </tr>\n",
       "    <tr>\n",
       "      <th>13</th>\n",
       "      <td>HP:0001276</td>\n",
       "      <td>0.588589</td>\n",
       "    </tr>\n",
       "    <tr>\n",
       "      <th>14</th>\n",
       "      <td>HP:0033134</td>\n",
       "      <td>0.570311</td>\n",
       "    </tr>\n",
       "    <tr>\n",
       "      <th>15</th>\n",
       "      <td>HP:0000670</td>\n",
       "      <td>0.555781</td>\n",
       "    </tr>\n",
       "    <tr>\n",
       "      <th>16</th>\n",
       "      <td>HP:0011968</td>\n",
       "      <td>0.553342</td>\n",
       "    </tr>\n",
       "    <tr>\n",
       "      <th>17</th>\n",
       "      <td>HP:0002299</td>\n",
       "      <td>0.548209</td>\n",
       "    </tr>\n",
       "    <tr>\n",
       "      <th>18</th>\n",
       "      <td>HP:0000365</td>\n",
       "      <td>0.515615</td>\n",
       "    </tr>\n",
       "    <tr>\n",
       "      <th>19</th>\n",
       "      <td>HP:0045055</td>\n",
       "      <td>0.489695</td>\n",
       "    </tr>\n",
       "  </tbody>\n",
       "</table>\n",
       "</div>"
      ],
      "text/plain": [
       "            hp  importance\n",
       "0   HP:0009886    1.542683\n",
       "1   HP:0003261    1.493406\n",
       "2   HP:0002188    1.304774\n",
       "3   HP:0000518    0.755919\n",
       "4   HP:0000519    0.746630\n",
       "5   HP:0002719    0.695610\n",
       "6   HP:0008069    0.653429\n",
       "7   HP:0001263    0.644845\n",
       "8   HP:0003577    0.639668\n",
       "9   HP:0001249    0.632255\n",
       "10  HP:0002245    0.628800\n",
       "11  HP:0000992    0.605580\n",
       "12  HP:0004322    0.596583\n",
       "13  HP:0001276    0.588589\n",
       "14  HP:0033134    0.570311\n",
       "15  HP:0000670    0.555781\n",
       "16  HP:0011968    0.553342\n",
       "17  HP:0002299    0.548209\n",
       "18  HP:0000365    0.515615\n",
       "19  HP:0045055    0.489695"
      ]
     },
     "execution_count": 9,
     "metadata": {},
     "output_type": "execute_result"
    }
   ],
   "source": [
    "phenodp.run_Recommender(\n",
    "    given_hps=Patient_hps,\n",
    "    target_disease=candidates_d[0],\n",
    "    candidate_diseases=candidates_d\n",
    ")"
   ]
  },
  {
   "cell_type": "code",
   "execution_count": 10,
   "metadata": {},
   "outputs": [
    {
     "name": "stdout",
     "output_type": "stream",
     "text": [
      "=== 测试修复后的推荐器 ===\n",
      "using default setting...\n"
     ]
    },
    {
     "name": "stderr",
     "output_type": "stream",
     "text": [
      "Calculating NCE Loss: 100%|██████████| 20/20 [00:00<00:00, 135.47it/s]"
     ]
    },
    {
     "name": "stdout",
     "output_type": "stream",
     "text": [
      "修复后的推荐结果 (前10个):\n",
      "           hp  importance\n",
      "0  HP:0009886    1.542683\n",
      "1  HP:0003261    1.493406\n",
      "2  HP:0002188    1.304774\n",
      "3  HP:0000518    0.755919\n",
      "4  HP:0000519    0.746630\n",
      "5  HP:0002719    0.695610\n",
      "6  HP:0008069    0.653429\n",
      "7  HP:0001263    0.644845\n",
      "8  HP:0003577    0.639668\n",
      "9  HP:0001249    0.632255\n",
      "\n",
      "Importance值统计:\n",
      "最小值: 0.489695\n",
      "最大值: 1.542683\n",
      "平均值: 0.738086\n",
      "标准差: 0.307619\n",
      "唯一值数量: 20\n",
      "✅ importance值现在有足够的差异了!\n"
     ]
    },
    {
     "name": "stderr",
     "output_type": "stream",
     "text": [
      "\n"
     ]
    }
   ],
   "source": [
    "# 测试修复后的推荐器\n",
    "print(\"=== 测试修复后的推荐器 ===\")\n",
    "\n",
    "# 再次运行推荐器\n",
    "recommendations_fixed = phenodp.run_Recommender(\n",
    "    given_hps=Patient_hps,\n",
    "    target_disease=candidates_d[0],\n",
    "    candidate_diseases=candidates_d\n",
    ")\n",
    "\n",
    "print(\"修复后的推荐结果 (前10个):\")\n",
    "print(recommendations_fixed.head(10))\n",
    "\n",
    "# 检查importance值的分布\n",
    "importance_values = recommendations_fixed['importance'].values\n",
    "print(f\"\\nImportance值统计:\")\n",
    "print(f\"最小值: {importance_values.min():.6f}\")\n",
    "print(f\"最大值: {importance_values.max():.6f}\")\n",
    "print(f\"平均值: {importance_values.mean():.6f}\")\n",
    "print(f\"标准差: {importance_values.std():.6f}\")\n",
    "print(f\"唯一值数量: {len(set(importance_values))}\")\n",
    "\n",
    "if len(set(importance_values)) == 1:\n",
    "    print(\"❌ 所有importance值仍然相同!\")\n",
    "elif len(set(importance_values)) < 5:\n",
    "    print(f\"⚠️  只有{len(set(importance_values))}个不同的importance值，可能还有其他问题\")\n",
    "else:\n",
    "    print(\"✅ importance值现在有足够的差异了!\")\n"
   ]
  },
  {
   "cell_type": "markdown",
   "metadata": {},
   "source": [
    "### Summarizer"
   ]
  },
  {
   "cell_type": "code",
   "execution_count": 11,
   "metadata": {},
   "outputs": [
    {
     "name": "stdout",
     "output_type": "stream",
     "text": [
      "using default setting...\n"
     ]
    },
    {
     "name": "stderr",
     "output_type": "stream",
     "text": [
      "Calculating NCE Loss: 100%|██████████| 20/20 [00:00<00:00, 144.36it/s]"
     ]
    },
    {
     "name": "stdout",
     "output_type": "stream",
     "text": [
      "using default setting...\n"
     ]
    },
    {
     "name": "stderr",
     "output_type": "stream",
     "text": [
      "\n",
      "Calculating NCE Loss: 100%|██████████| 104/104 [00:00<00:00, 141.69it/s]\n"
     ]
    },
    {
     "name": "stdout",
     "output_type": "stream",
     "text": [
      "using default setting...\n"
     ]
    },
    {
     "name": "stderr",
     "output_type": "stream",
     "text": [
      "Calculating NCE Loss: 100%|██████████| 37/37 [00:00<00:00, 92.04it/s] \n"
     ]
    },
    {
     "name": "stdout",
     "output_type": "stream",
     "text": [
      "using default setting...\n"
     ]
    },
    {
     "name": "stderr",
     "output_type": "stream",
     "text": [
      "Calculating NCE Loss: 100%|██████████| 88/88 [00:00<00:00, 153.32it/s]\n"
     ]
    },
    {
     "name": "stdout",
     "output_type": "stream",
     "text": [
      "using default setting...\n"
     ]
    },
    {
     "name": "stderr",
     "output_type": "stream",
     "text": [
      "Calculating NCE Loss: 100%|██████████| 25/25 [00:00<00:00, 152.73it/s]"
     ]
    },
    {
     "name": "stdout",
     "output_type": "stream",
     "text": [
      "\n",
      "Assume you are an experienced clinical physician. Below is a patient’s symptom description using HPO (Human Phenotype Ontology) terms, along with three candidate diagnoses. To further differentiate between these diagnoses, the physician has provided potential symptoms that the patient does not currently exhibit but could help clarify or confirm the diagnosis. Your task is to explain why these potential symptoms are critical for distinguishing between the three diseases.  \n",
      "\n",
      "**Patient’s Symptom Description**:  \n",
      "Premature rupture of membranes (PROM) is a condition which occurs in pregnancy when the amniotic sac ruptures more than an hour before the onset of labor. An outward turning (eversion) or rotation of the eyelid margin. A foot where the longitudinal arch of the foot is in contact with the ground or floor when the individual is standing; or, in a patient lying supine, a foot where the arch is in contact with the surface of a flat board pressed against the sole of the foot by the examiner with a pressure similar to that expected from weight bearing; or, the height of the arch is reduced. A tooth present at birth or erupting within the first month of life. An abnormal restriction of fetal growth with fetal weight below the tenth percentile for gestational age. A reduction in the level of performance of the kidneys in areas of function comprising the concentration of urine, removal of wastes, the maintenance of electrolyte balance, homeostasis of blood pressure, and calcium metabolism. Upper insertion of the ear to the scalp below an imaginary horizontal line drawn between the inner canthi of the eye and extending posteriorly to the ear. Inflammation of any part of the lung parenchyma. Interpupillary distance less than 2 SD below the mean (alternatively, the appearance of an decreased interpupillary distance or closely spaced eyes). A decreased concentration of protein in the blood. The term collodion baby applies to newborns who appear to have an extra layer of skin (known as a collodion membrane) that has a collodion-like quality. It is a descriptive term, not a specific diagnosis or disorder (as such, it is a syndrome). Affected babies are born in a collodion membrane, a shiny waxy outer layer to the skin. This is shed 10-14 days after birth, revealing the main symptom of the disease, extensive scaling of the skin caused by hyperkeratosis. With increasing age, the scaling tends to be concentrated around joints in areas such as the groin, the armpits, the inside of the elbow and the neck. The scales often tile the skin and may resemble fish scales. Wedge-shaped, or triangular head, with the apex of the triangle at the midline of the forehead and the base of the triangle at the occiput. A turning outward of the lip or lips, that is, eversion of the lips. A reduced number of lymphocytes in the blood. Abnormal decrease of absolute number of neutrophils in the blood, per microlitre, compared to a reference range for a given sex and age-group. An abnormally decreased phosphate concentration in the blood. Failure to thrive (FTT) refers to a child whose physical growth is substantially below the norm. Forceful ejection of the contents of the stomach through the mouth by means of a series of involuntary spasmic contractions. Simultaneous enlargement of the liver and spleen. Pyloric stenosis, also known as infantile hypertrophic pyloric stenosis, is an uncommon condition in infants characterized by abnormal thickening of the pylorus muscles in the stomach leading to gastric outlet obstruction. Clinically infants are well at birth. Then, at 3 to 6 weeks of age, the infants present with projectile vomiting, potentially leading to dehydration and weight loss. An abnormality of the skin characterized the presence of excessive amounts of dry surface scales on the skin resulting from an abnormality of keratinization. A reduction in the number of circulating thrombocytes. Reduction in the concentration of albumin in the blood. An abnormally decreased calcium concentration in the blood. An ichthyosiform abnormality of the skin with congenital onset. Absence of both testes from the scrotum owing to failure of the testis or testes to descend through the inguinal canal to the scrotum. A developmental anomaly characterized by abnormal smallness of one or both eyes.  \n",
      "\n",
      "**Three Most Likely Disease Diagnoses**:  \n",
      "1. [OMIM:616395] Trichothiodystrophy 3, photosensitive\n",
      "2. [OMIM:619488] DEGCAGS syndrome\n",
      "3. [OMIM:608013] Gaucher disease, perinatal lethal\n",
      "4. [OMIM:619991] Liver disease, severe congenital\n",
      "5. [OMIM:608104] Congenital disorder of glycosylation, type Ih  \n",
      "\n",
      "**Potential Symptoms for Further Differentiation**:  \n",
      "1. [OMIM:616395] Trichothiodystrophy 3, photosensitive : Trichorrhexis nodosa, Increased circulating IgA concentration, Delayed CNS myelination\n",
      "2. [OMIM:619488] DEGCAGS syndrome : Abnormal electroretinogram, Preaxial hand polydactyly, Toe syndactyly\n",
      "3. [OMIM:608013] Gaucher disease, perinatal lethal : Pulmonary hypoplasia, Desquamation of skin soon after birth, Opisthotonus\n",
      "4. [OMIM:619991] Liver disease, severe congenital : Delayed CNS myelination, Plagiocephaly, Biliary hyperplasia\n",
      "5. [OMIM:608104] Congenital disorder of glycosylation, type Ih : Type I transferrin isoform profile, Camptodactyly, Perimembranous ventricular septal defect  \n",
      "\n",
      "**Instructions**:  \n",
      "1. **Explain Potential Symptoms**: Provide a clear and concise rationale for why the listed potential symptoms are critical for distinguishing between the three diseases. Focus on how these symptoms are specific to or more prevalent in one disease compared to the others.  \n",
      "2. **Do Not Diagnose**: Do not make any new diagnoses or suggest additional diseases. Your response should focus solely on explaining the potential symptoms for differentiation.  \n",
      "3. **Length and Style**: The report should be approximately 200–300 words in length, written in a professional and authentic tone that mimics a human expert.  \n",
      "4. **No References**: Do not include any references in the report.   \n",
      "\n"
     ]
    },
    {
     "name": "stderr",
     "output_type": "stream",
     "text": [
      "\n"
     ]
    }
   ],
   "source": [
    "prompt = generate_diagnosis_prompt(Patient_hps, results, Top_n=5, Top_Recom=3)\n",
    "print(prompt)"
   ]
  },
  {
   "cell_type": "code",
   "execution_count": 12,
   "metadata": {},
   "outputs": [],
   "source": [
    "with open('../data/case_report_prompt.txt', 'w', encoding='utf-8') as f:\n",
    "    f.write(prompt)"
   ]
  }
 ],
 "metadata": {
  "kernelspec": {
   "display_name": "phenodp",
   "language": "python",
   "name": "python3"
  },
  "language_info": {
   "codemirror_mode": {
    "name": "ipython",
    "version": 3
   },
   "file_extension": ".py",
   "mimetype": "text/x-python",
   "name": "python",
   "nbconvert_exporter": "python",
   "pygments_lexer": "ipython3",
   "version": "3.10.18"
  }
 },
 "nbformat": 4,
 "nbformat_minor": 2
}
