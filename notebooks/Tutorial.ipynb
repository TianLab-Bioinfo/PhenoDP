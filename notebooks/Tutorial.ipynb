{
 "cells": [
  {
   "cell_type": "code",
   "execution_count": null,
   "metadata": {},
   "outputs": [],
   "source": [
    "import re\n",
    "import torch\n",
    "from pyhpo import Ontology\n",
    "\n",
    "from phenodp import PhenoDP, PhenoDP_Initial\n",
    "from phenodp.encoders import PCL_HPOEncoder\n",
    "from phenodp.utils import load_similarity_matrix, load_node_embeddings"
   ]
  },
  {
   "cell_type": "code",
   "execution_count": 2,
   "metadata": {},
   "outputs": [],
   "source": [
    "ontology = Ontology(data_folder='../data/hpo-2025-05-06')"
   ]
  },
  {
   "cell_type": "code",
   "execution_count": null,
   "metadata": {},
   "outputs": [],
   "source": [
    "# Initialize the PhenoDP model\n",
    "recommender = PCL_HPOEncoder(input_dim=256, num_heads=8, num_layers=3, hidden_dim=512, output_dim=1, max_seq_length=128)\n",
    "pre_model = PhenoDP_Initial(ontology, ic_type='omim')\n",
    "hp2d_sim_dict = load_similarity_matrix('../data/JC_sim_dict.pkl')\n",
    "node_embedding = load_node_embeddings('../data/node_embedding_dict.pkl')\n",
    "recommender.load_state_dict(torch.load('../data/transformer_encoder_infoNCE.pth'))\n",
    "phenodp = PhenoDP(pre_model, hp2d_sim_dict, node_embedding, recommender)"
   ]
  },
  {
   "cell_type": "code",
   "execution_count": null,
   "metadata": {},
   "outputs": [],
   "source": [
    "Patient_hps = ['HP:0000670', 'HP:0004322', 'HP:0000992', 'HP:0001290', 'HP:0000407', 'HP:0000252', 'HP:0000490']"
   ]
  },
  {
   "cell_type": "code",
   "execution_count": 4,
   "metadata": {},
   "outputs": [],
   "source": [
    "def calculate_coefficient_of_variation(results, top_n=3):\n",
    "    \"\"\"\n",
    "    Computes the mean, standard deviation, and coefficient of variation (CV) for the 'Total_Similarity' column \n",
    "    of the top n rows in a given DataFrame.\n",
    "\n",
    "    Parameters:\n",
    "    results (pd.DataFrame): A DataFrame containing the 'Total_Similarity' column.\n",
    "    top_n (int): The number of top rows to consider for the calculation. Default is 3.\n",
    "\n",
    "    Returns:\n",
    "    mean (float): The mean value of the 'Total_Similarity' column for the top n rows.\n",
    "    std (float): The standard deviation of the 'Total_Similarity' column for the top n rows.\n",
    "    cv (float): The coefficient of variation (CV) expressed as a percentage.\n",
    "    \"\"\"\n",
    "    # Extract the top n rows of the 'Total_Similarity' column\n",
    "    data = results.head(top_n)['Total_Similarity']\n",
    "    \n",
    "    # Calculate mean, standard deviation, and coefficient of variation\n",
    "    mean = data.mean()\n",
    "    std = data.std()\n",
    "    cv = (std / mean) * 100\n",
    "    \n",
    "    return cv\n",
    "\n",
    "def Get_Definition(hpo_list):\n",
    "    definition_list = []\n",
    "    for t in hpo_list:\n",
    "        definition = Ontology.get_hpo_object(t).definition\n",
    "        match = re.search(r'\"(.*?)\"', definition)\n",
    "        if match:\n",
    "            definition_list.append(match.group(1))\n",
    "    return ' '.join(definition_list)\n",
    "\n",
    "def generate_diagnosis_prompt(Patient_hps, results, Top_n=3, Top_Recom=2):\n",
    "    \"\"\"\n",
    "    Generate a prompt for explaining potential symptoms to differentiate between candidate diseases.\n",
    "\n",
    "    Args:\n",
    "        Patient_hps (list): List of patient's observed HPO terms.\n",
    "        results (pd.DataFrame): DataFrame containing candidate diseases and their details.\n",
    "        Top_n (int): Number of top candidate diseases to consider. Default is 3.\n",
    "        Top_Recom (int): Number of top recommended symptoms for each disease. Default is 2.\n",
    "\n",
    "    Returns:\n",
    "        str: A formatted prompt for disease differentiation.\n",
    "    \"\"\"\n",
    "    # Get observed symptoms\n",
    "    observered_syn = Get_Definition(Patient_hps)\n",
    "    \n",
    "    # Get top candidate diseases\n",
    "    Condidate_diseases = results.head(Top_n)['Disease'].values\n",
    "    \n",
    "    # Initialize lists for diseases and recommendations\n",
    "    diseases_list = []\n",
    "    Recom_list = []\n",
    "    txt_inputs = []\n",
    "    \n",
    "    # Process each candidate disease\n",
    "    for index, t in enumerate(Condidate_diseases):\n",
    "        # Get recommended symptoms for the disease\n",
    "        recom = phenodp.run_Recommender(Patient_hps, target_disease=t, candidate_diseases=Condidate_diseases)\n",
    "        Recom_list.append([Ontology.get_hpo_object(t).name for t in recom.head(Top_Recom).hp.values])\n",
    "        \n",
    "        # Get disease details and append to diseases_list\n",
    "        diseases_list.extend([str(index + 1) + '. [OMIM:' + str(t) + '] ' + j.name for j in Ontology.omim_diseases if j.id == t])\n",
    "        \n",
    "        # Format disease and symptoms for txt_inputs\n",
    "        txt_inputs.append(diseases_list[-1] + ' : ' + ', '.join(Recom_list[-1]))\n",
    "    \n",
    "    # Format diseases_list and txt_inputs as strings\n",
    "    diseases_list_str = \"\\n\".join(diseases_list)\n",
    "    txt_inputs_str = \"\\n\".join(txt_inputs)\n",
    "    \n",
    "    # Generate the prompt\n",
    "    prompt = f\"\"\"\n",
    "Assume you are an experienced clinical physician. Below is a patient’s symptom description using HPO (Human Phenotype Ontology) terms, along with three candidate diagnoses. To further differentiate between these diagnoses, the physician has provided potential symptoms that the patient does not currently exhibit but could help clarify or confirm the diagnosis. Your task is to explain why these potential symptoms are critical for distinguishing between the three diseases.  \n",
    "\n",
    "**Patient’s Symptom Description**:  \n",
    "{observered_syn}  \n",
    "\n",
    "**Three Most Likely Disease Diagnoses**:  \n",
    "{diseases_list_str}  \n",
    "\n",
    "**Potential Symptoms for Further Differentiation**:  \n",
    "{txt_inputs_str}  \n",
    "\n",
    "**Instructions**:  \n",
    "1. **Explain Potential Symptoms**: Provide a clear and concise rationale for why the listed potential symptoms are critical for distinguishing between the three diseases. Focus on how these symptoms are specific to or more prevalent in one disease compared to the others.  \n",
    "2. **Do Not Diagnose**: Do not make any new diagnoses or suggest additional diseases. Your response should focus solely on explaining the potential symptoms for differentiation.  \n",
    "3. **Length and Style**: The report should be approximately 200–300 words in length, written in a professional and authentic tone that mimics a human expert.  \n",
    "4. **No References**: Do not include any references in the report.   \n",
    "\"\"\"\n",
    "    return prompt"
   ]
  },
  {
   "cell_type": "markdown",
   "metadata": {},
   "source": [
    "### Ranker"
   ]
  },
  {
   "cell_type": "code",
   "execution_count": null,
   "metadata": {},
   "outputs": [],
   "source": [
    "results = phenodp.run_Ranker(Patient_hps)\n",
    "calculate_coefficient_of_variation(results, top_n=3)"
   ]
  },
  {
   "cell_type": "markdown",
   "metadata": {},
   "source": [
    "### Recommender"
   ]
  },
  {
   "cell_type": "code",
   "execution_count": null,
   "metadata": {},
   "outputs": [],
   "source": [
    "recommendations = phenodp.run_Recommender(\n",
    "    given_hps=Patient_hps,\n",
    "    target_disease=216400,\n",
    "    candidate_diseases=[216400, 278760, 133540]\n",
    ")\n",
    "recommendations"
   ]
  },
  {
   "cell_type": "markdown",
   "metadata": {},
   "source": [
    "### Summarizer"
   ]
  },
  {
   "cell_type": "code",
   "execution_count": null,
   "metadata": {},
   "outputs": [],
   "source": [
    "prompt = generate_diagnosis_prompt(Patient_hps, results, Top_n=5, Top_Recom=3)\n",
    "print(prompt)\n",
    "\n",
    "# 保存为txt文件\n",
    "with open('../data/case_report_prompt.txt', 'w', encoding='utf-8') as f:\n",
    "    f.write(prompt)"
   ]
  }
 ],
 "metadata": {
  "kernelspec": {
   "display_name": "phenodp",
   "language": "python",
   "name": "python3"
  },
  "language_info": {
   "codemirror_mode": {
    "name": "ipython",
    "version": 3
   },
   "file_extension": ".py",
   "mimetype": "text/x-python",
   "name": "python",
   "nbconvert_exporter": "python",
   "pygments_lexer": "ipython3",
   "version": "3.10.18"
  }
 },
 "nbformat": 4,
 "nbformat_minor": 2
}
