{
 "cells": [
  {
   "cell_type": "code",
   "execution_count": 1,
   "metadata": {},
   "outputs": [],
   "source": [
    "import torch\n",
    "from torch import optim\n",
    "import torch.nn.functional as F\n",
    "\n",
    "import pickle\n",
    "from pyhpo import Ontology\n",
    "from phenodp.encoders import PCL_HPOEncoder, get_training_sample, info_nce_loss"
   ]
  },
  {
   "cell_type": "code",
   "execution_count": 2,
   "metadata": {},
   "outputs": [],
   "source": [
    "ontology = Ontology(data_folder='../data/hpo-2025-05-06')\n",
    "\n",
    "with open('../data/node_embedding_dict.pkl', 'rb') as f:\n",
    "    node_embedding = pickle.load(f)"
   ]
  },
  {
   "cell_type": "code",
   "execution_count": 3,
   "metadata": {},
   "outputs": [],
   "source": [
    "disease_dict = dict()\n",
    "disease_list = list(ontology.omim_diseases)\n",
    "hps_list = (node_embedding.keys())\n",
    "for d in disease_list:\n",
    "    disease_dict[d.id] = [ontology.get_hpo_object(t).id for t in list(d.hpo) if ontology.get_hpo_object(t).id in hps_list]\n",
    "\n",
    "d_count = []\n",
    "disease_db = []\n",
    "for i in list(disease_dict.keys()):\n",
    "    if len(disease_dict[i]) >= 5:\n",
    "        disease_db.append(i)\n"
   ]
  },
  {
   "cell_type": "code",
   "execution_count": 4,
   "metadata": {},
   "outputs": [
    {
     "name": "stderr",
     "output_type": "stream",
     "text": [
      "/root/anaconda3/envs/phenodp/lib/python3.10/site-packages/torch/nn/modules/transformer.py:306: UserWarning: enable_nested_tensor is True, but self.use_nested_tensor is False because encoder_layer.self_attn.batch_first was not True(use batch_first for better inference performance)\n",
      "  warnings.warn(f\"enable_nested_tensor is True, but self.use_nested_tensor is False because {why_not_sparsity_fast_path}\")\n"
     ]
    }
   ],
   "source": [
    "input_dim = 256\n",
    "num_heads = 8\n",
    "num_layers = 3\n",
    "hidden_dim = 512\n",
    "output_dim = 1\n",
    "max_seq_length = 128\n",
    "\n",
    "model = PCL_HPOEncoder(input_dim=input_dim, num_heads=num_heads, num_layers=num_layers, hidden_dim=hidden_dim, output_dim=output_dim, max_seq_length=max_seq_length)\n",
    "optimizer = optim.Adam(model.parameters(), lr=1e-3)"
   ]
  },
  {
   "cell_type": "code",
   "execution_count": 5,
   "metadata": {},
   "outputs": [
    {
     "name": "stdout",
     "output_type": "stream",
     "text": [
      "Epoch 1/10, Loss: 4.6339\n",
      "Epoch 2/10, Loss: 4.1799\n",
      "Epoch 3/10, Loss: 3.9024\n",
      "Epoch 4/10, Loss: 3.6616\n",
      "Epoch 5/10, Loss: 3.4464\n",
      "Epoch 6/10, Loss: 3.2853\n",
      "Epoch 7/10, Loss: 3.1323\n",
      "Epoch 8/10, Loss: 2.9392\n",
      "Epoch 9/10, Loss: 2.7817\n",
      "Epoch 10/10, Loss: 2.6304\n"
     ]
    }
   ],
   "source": [
    "# Training configuration\n",
    "n_samples = 2000\n",
    "max_seq_length = 128\n",
    "num_epochs = 10\n",
    "batch_size = 100\n",
    "device = 'cuda' if torch.cuda.is_available() else 'cpu'\n",
    "\n",
    "# Move model to device and set to training mode\n",
    "model.to(device)\n",
    "model.train()\n",
    "\n",
    "# Prepare training data\n",
    "inputs_list, mask_list = get_training_sample(disease_db, disease_dict, node_embedding, n_samples)\n",
    "inputs1 = inputs_list[0].to(device)\n",
    "inputs2 = inputs_list[1].to(device)\n",
    "masks1 = mask_list[0].to(device)\n",
    "masks2 = mask_list[1].to(device)\n",
    "\n",
    "# Calculate number of batches\n",
    "num_batches = n_samples // batch_size + (1 if n_samples % batch_size != 0 else 0)\n",
    "\n",
    "# Training loop\n",
    "for epoch in range(num_epochs):\n",
    "    model.train()\n",
    "    total_loss = 0.0\n",
    "    total_steps = 0\n",
    "    \n",
    "    for batch_idx in range(num_batches):\n",
    "        # Get batch indices\n",
    "        start_idx = batch_idx * batch_size\n",
    "        end_idx = min(start_idx + batch_size, n_samples)\n",
    "        \n",
    "        # Prepare batch data\n",
    "        inputs1_batch = inputs1[start_idx:end_idx]\n",
    "        inputs2_batch = inputs2[start_idx:end_idx]\n",
    "        mask1_batch = masks1[start_idx:end_idx].float()\n",
    "        mask2_batch = masks2[start_idx:end_idx].float()\n",
    "        \n",
    "        # Forward pass\n",
    "        cls_embedding1, emb1 = model(inputs1_batch, mask1_batch)\n",
    "        cls_embedding2, emb2 = model(inputs2_batch, mask2_batch)\n",
    "        \n",
    "        # Compute loss\n",
    "        loss = info_nce_loss(cls_embedding1, cls_embedding2)\n",
    "        \n",
    "        # Backward pass and optimization\n",
    "        optimizer.zero_grad()\n",
    "        loss.backward()\n",
    "        optimizer.step()\n",
    "        \n",
    "        # Track loss\n",
    "        total_loss += loss.item()\n",
    "        total_steps += 1\n",
    "    \n",
    "    # Print epoch results\n",
    "    avg_loss = total_loss / total_steps\n",
    "    print(f'Epoch {epoch + 1}/{num_epochs}, Loss: {avg_loss:.4f}')\n",
    "\n"
   ]
  },
  {
   "cell_type": "code",
   "execution_count": 6,
   "metadata": {},
   "outputs": [],
   "source": [
    "# Save model\n",
    "model.to('cpu')\n",
    "torch.save(model.state_dict(), '../data/transformer_encoder_infoNCE.pth')"
   ]
  }
 ],
 "metadata": {
  "kernelspec": {
   "display_name": "phenodp",
   "language": "python",
   "name": "python3"
  },
  "language_info": {
   "codemirror_mode": {
    "name": "ipython",
    "version": 3
   },
   "file_extension": ".py",
   "mimetype": "text/x-python",
   "name": "python",
   "nbconvert_exporter": "python",
   "pygments_lexer": "ipython3",
   "version": "3.10.18"
  }
 },
 "nbformat": 4,
 "nbformat_minor": 2
}
