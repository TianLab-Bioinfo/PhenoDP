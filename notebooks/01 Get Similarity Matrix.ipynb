{
 "cells": [
  {
   "cell_type": "code",
   "execution_count": null,
   "metadata": {},
   "outputs": [],
   "source": [
    "import pickle\n",
    "import pandas as pd\n",
    "from pyhpo import Ontology\n",
    "from concurrent.futures import ProcessPoolExecutor\n",
    "\n",
    "from phenodp import PhenoDP_Initial\n",
    "\n",
    "ontology = Ontology(data_folder='../data/hpo-2025-05-06')\n",
    "\n",
    "pre_model = PhenoDP_Initial(ontology)\n",
    "hpo_len = len(pre_model.hpo_list)\n",
    "\n",
    "num_groups = 30  # Number of groups to divide the task into\n",
    "max_workers = 30  # Number of threads/processes to use\n",
    "\n",
    "group_size = hpo_len // num_groups\n",
    "\n",
    "def run_initial_sim(start, end):\n",
    "    return pre_model.initial_sim(start=start, end=end)\n",
    "\n",
    "ranges = [(i * group_size, (i + 1) * group_size) for i in range(num_groups)]\n",
    "\n",
    "with ProcessPoolExecutor(max_workers=max_workers) as executor:\n",
    "    futures = [executor.submit(run_initial_sim, start, end) for start, end in ranges]\n",
    "    \n",
    "    results = [future.result() for future in futures]\n",
    "\n",
    "hp2d_sim_dict = []\n",
    "processed_list = []\n",
    "\n",
    "for result in results:\n",
    "    hp2d_sim_dict.extend(result[0])  # Merge dictionaries\n",
    "    processed_list.extend(result[1])  # Extend lists"
   ]
  },
  {
   "cell_type": "code",
   "execution_count": 3,
   "metadata": {},
   "outputs": [],
   "source": [
    "df = pd.DataFrame(hp2d_sim_dict, index=processed_list, columns=[str(t) for t in pre_model.disease_list])\n",
    "JC_sim_dict = df.to_dict(orient='index')\n",
    "\n",
    "with open('../data/JC_sim_dict.pkl', 'wb') as f:\n",
    "    pickle.dump(JC_sim_dict, f)"
   ]
  }
 ],
 "metadata": {
  "kernelspec": {
   "display_name": "phenodp",
   "language": "python",
   "name": "python3"
  },
  "language_info": {
   "codemirror_mode": {
    "name": "ipython",
    "version": 3
   },
   "file_extension": ".py",
   "mimetype": "text/x-python",
   "name": "python",
   "nbconvert_exporter": "python",
   "pygments_lexer": "ipython3",
   "version": "3.10.18"
  }
 },
 "nbformat": 4,
 "nbformat_minor": 2
}
