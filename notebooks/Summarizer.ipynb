{
 "cells": [
  {
   "cell_type": "markdown",
   "id": "c1410b0c",
   "metadata": {},
   "source": [
    "\n",
    "# 📢 Code Showcase: How to Use the Latest Version of the Summarizer\n",
    "\n",
    "In this sharing on GitHub, we will demonstrate how to use the latest version of our summarizer. This new version of the summarizer employs the output of DeepSeek-R1-671B as the target for distillation. Specifically, we use the disease entries from OMIM or Orphanet, along with their HPO annotation definitions, and input them into DeepSeek-R1-671B to generate synthetic simulated cases. For the detailed process, please refer to our manuscript.\n",
    "\n",
    "Next, we will showcase two practical functions of the summarizer:\n",
    "1. **Symptom Summary Generation**: Input the patient's HPO terms, and the summarizer will quickly generate a summary report of the patient's symptoms.\n",
    "2. **Structured Clinical Report Generation**: Demonstrate how the summarizer receives the results from the ranker and the recommender, and then generates a structured clinical report.\n",
    "\n",
    "The creator of this notebook: Baole Wen (2025.03.29)"
   ]
  },
  {
   "cell_type": "code",
   "execution_count": 1,
   "id": "6fd88bee",
   "metadata": {},
   "outputs": [],
   "source": [
    "import re\n",
    "import torch\n",
    "from transformers import pipeline\n",
    "from transformers import AutoModelForCausalLM, AutoTokenizer\n",
    "\n",
    "from pyhpo import Ontology\n",
    "\n",
    "ontology = Ontology(data_folder='../data/hpo-2025-05-06')"
   ]
  },
  {
   "cell_type": "code",
   "execution_count": 2,
   "id": "bf3515bd",
   "metadata": {},
   "outputs": [],
   "source": [
    "def Get_Definition(hpo_list):\n",
    "    definition_list = []\n",
    "    for t in hpo_list:\n",
    "        definition = Ontology.get_hpo_object(t).definition\n",
    "        match = re.search(r'\"(.*?)\"', definition)\n",
    "        if match:\n",
    "            definition_list.append(match.group(1))\n",
    "    return ' '.join(definition_list)"
   ]
  },
  {
   "cell_type": "markdown",
   "id": "3a9c5c9a",
   "metadata": {},
   "source": [
    "# HPO Terms Detected in a Patient\n",
    "\n",
    "1. **HP:0000006** - Autosomal dominant inheritance  \n",
    "2. **HP:0003593** - Infantile onset  \n",
    "3. **HP:0025104** - Capillary malformation  \n",
    "4. **HP:0001009** - Telangiectasia  \n",
    "5. **HP:0003829** - Typified by incomplete penetrance  \n",
    "6. **HP:0030713** - Vein of Galen aneurysmal malformation  \n"
   ]
  },
  {
   "cell_type": "code",
   "execution_count": 3,
   "id": "04668fe1",
   "metadata": {},
   "outputs": [],
   "source": [
    "Patient_hps = ([\"HP:0000006\", \"HP:0003593\", \"HP:0025104\", \"HP:0001009\", \"HP:0003829\", \"HP:0030713\"])"
   ]
  },
  {
   "cell_type": "code",
   "execution_count": 4,
   "id": "8a821c6d",
   "metadata": {},
   "outputs": [],
   "source": [
    "Input_text = Get_Definition(Patient_hps)"
   ]
  },
  {
   "cell_type": "code",
   "execution_count": 5,
   "id": "e913902f",
   "metadata": {},
   "outputs": [
    {
     "data": {
      "application/vnd.jupyter.widget-view+json": {
       "model_id": "f904e8aaf46642e1b09e3a3bcf093a58",
       "version_major": 2,
       "version_minor": 0
      },
      "text/plain": [
       "Loading checkpoint shards:   0%|          | 0/4 [00:00<?, ?it/s]"
      ]
     },
     "metadata": {},
     "output_type": "display_data"
    }
   ],
   "source": [
    "model_path = '../data/model/Bio-Medical-3B-CoT-Finetuned'\n",
    "\n",
    "model = AutoModelForCausalLM.from_pretrained(\n",
    "    model_path,\n",
    "    torch_dtype=\"auto\",\n",
    "    device_map=\"auto\"\n",
    ")\n",
    "tokenizer = AutoTokenizer.from_pretrained(model_path)\n"
   ]
  },
  {
   "cell_type": "code",
   "execution_count": 6,
   "id": "7194af82",
   "metadata": {},
   "outputs": [
    {
     "name": "stderr",
     "output_type": "stream",
     "text": [
      "Device set to use cuda:1\n"
     ]
    }
   ],
   "source": [
    "summaries = []\n",
    "\n",
    "max_input_tokens = 2048\n",
    "\n",
    "hpo_def = Input_text\n",
    "\n",
    "prompt = f\"\"\"\n",
    "I will provide you with the definitions of some HPO (Human Phenotype Ontology) terms exhibited by a patient. Based on these definitions, please generate a concise, clinically focused summary of the patient's symptoms in one paragraph, approximately 100-300 words in length. Ensure the summary is highly readable, with smooth transitions between ideas, logical coherence, and accurate representation of the clinical features. Emphasize clarity, fluency, and clinical relevance to create a realistic and precise description of the patient's presentation.\\nText:\\n{hpo_def}\n",
    "\"\"\"\n",
    "  \n",
    "tokenized_text = tokenizer(prompt, return_tensors=\"pt\").input_ids[0]\n",
    "truncated_tokenized_text = tokenized_text[:max_input_tokens]\n",
    "    \n",
    "truncated_text = tokenizer.decode(truncated_tokenized_text)  + '<think>:\\n'\n",
    "\n",
    "summarizer = pipeline(\n",
    "    \"text-generation\",  \n",
    "    model=model,  \n",
    "    tokenizer=tokenizer\n",
    ")\n",
    "response = summarizer(\n",
    "    truncated_text,\n",
    "    max_new_tokens= max_input_tokens + 1024,\n",
    "    top_p=0.95,\n",
    "    top_k=50,\n",
    "    do_sample=True\n",
    ")\n",
    "\n",
    "summary = response[0]['generated_text'].split('<think>:')\n",
    "summaries.append(summary)\n",
    "torch.cuda.empty_cache()\n"
   ]
  },
  {
   "cell_type": "markdown",
   "id": "89b31639",
   "metadata": {},
   "source": [
    "## Input prompt"
   ]
  },
  {
   "cell_type": "code",
   "execution_count": 7,
   "id": "33bb1be1",
   "metadata": {},
   "outputs": [
    {
     "name": "stdout",
     "output_type": "stream",
     "text": [
      "\n",
      "I will provide you with the definitions of some HPO (Human Phenotype Ontology) terms exhibited by a patient. Based on these definitions, please generate a concise, clinically focused summary of the patient's symptoms in one paragraph, approximately 100-300 words in length. Ensure the summary is highly readable, with smooth transitions between ideas, logical coherence, and accurate representation of the clinical features. Emphasize clarity, fluency, and clinical relevance to create a realistic and precise description of the patient's presentation.\n",
      "Text:\n",
      "A mode of inheritance that is observed for traits related to a gene encoded on one of the autosomes (i.e., the human chromosomes 1-22) in which a trait manifests in heterozygotes. In the context of medical genetics, an autosomal dominant disorder is caused when a single copy of the mutant allele is present. Males and females are affected equally, and can both transmit the disorder with a risk of 50% for each child of inheriting the mutant allele. Onset of signs or symptoms of disease between 28 days to one year of life. A capillary malformation is a flat, sharply defined vascular stain of the skin. It may cover a large surface area or it may be scattered and appear as little islands of color. In a capillary maformation, the predominant vessels are small, slow-flow vessels (i.e., arterioles and postcapillary venules). Telangiectasias refer to small dilated blood vessels located near the surface of the skin or mucous membranes, measuring between 0.5 and 1 millimeter in diameter. Telangiectasia are located especially on the tongue, lips, palate, fingers, face, conjunctiva, trunk, nail beds, and fingertips. Description of conditions in which not all individuals with a given genotype exhibit the disease. Penetrance is the proportion that develop disease given a lifespan of 80 years. Vein of Galen aneurysmal malformation is a choroidal type of arteriovenous malformation that develops between 6 and 11 weeks of gestation. It results from 1 or more arteriovenous fistulas shunting blood toward the prosencephalic vein of Markowski, the embryonic precursor of the vein of Galen. This abnormal shunt leads to progressive dilation of the vein and prevents its involution and subsequent development into the vein of Galen.\n",
      "\n"
     ]
    }
   ],
   "source": [
    "print(summaries[0][0])"
   ]
  },
  {
   "cell_type": "markdown",
   "id": "6ad75d2c",
   "metadata": {},
   "source": [
    "## Output"
   ]
  },
  {
   "cell_type": "code",
   "execution_count": 8,
   "id": "4195d46f",
   "metadata": {},
   "outputs": [
    {
     "name": "stdout",
     "output_type": "stream",
     "text": [
      "\n",
      "Okay, let me start by reading through the provided HPO terms carefully. The first term mentions autosomal dominant inheritance. So the condition is passed down from one parent, and there's a 50% chance each child inherits it. I should note that males and females are equally affected. \n",
      "\n",
      "Next, onset between 28 days to one year—so symptoms started within the first year. Then there's a capillary malformation and telangiectasias. Capillaries are small blood vessels, and telangiectasias are dilated ones. Both are described in different areas like tongue, lips, etc. Also, there's mention of incomplete penetrance, meaning not everyone with the mutation shows symptoms.\n",
      "\n",
      "The Vein of Galen aneurysmal malformation is a key point. It's an arteriovenous malformation affecting the vein of Galen during fetal development, leading to blood shunting issues. These malformations typically present early, around 6-11 weeks, but symptoms might manifest later when complications arise.\n",
      "\n",
      "Putting this together, the patient likely has an autosomal dominant disorder presenting in infancy with both cutaneous manifestations (capillary malformations and telangiectasias) and a congenital vascular anomaly (Vein of Galen aneurysm). The combination suggests a genetic syndrome where mutations affect both ectodermal structures and vascular development. The incomplete penetrance means family members might show variable expression. The summary needs to link these elements smoothly: start with the genetic aspect, then symptoms, followed by the specific malformations, and conclude with implications for family counseling. Make sure to highlight clinical relevance and avoid jargon while keeping it concise.</think> \n",
      "\n",
      "The patient presents with clinical features suggestive of an autosomal dominant genetic disorder with variable expressivity and prenatal onset. Symptoms emerged in early infancy, with capillary malformations characterized by flattened, sharply defined vascular stains on the skin, including erythematous patches, often involving the trunk, extremities, and oral mucosa. Notably, multiple telangiectasias were observed across various anatomical sites, such as the tongue, lips, and nail beds, demonstrating characteristic small-to-medium vessel dilatation. A significant vascular anomaly—vein of Galen aneurysmal malformation—was identified at birth, indicative of an embryonal defect involving abnormal shunting of blood flow towards the prosencephalic vein of Markowski. This structural defect likely contributed to hemodynamic instability and potential complications due to chronic venous congestion. The constellation of findings aligns with a syndromic diagnosis, where biallelic pathogenic variants in a single gene disrupt both ectodermal differentiation (e.g., keratinocyte proliferation in capillary malformations) and vascular morphogenesis (e.g., vein of Galen dysplasia). The presence of incomplete penetrance implies that not all carriers may manifest overt disease, necessitating molecular testing to clarify recurrence risks and guide familial screening. Early recognition of this multisystem phenotype underscores the importance of multidisciplinary care to address cosmetic concerns, vascular-related morbidity, and potential complications associated with persistent shunts. Clinical vigilance for emerging features (e.g., neurodevelopmental delays, recurrent infections) is warranted given the complex interplay of systemic anomalies. This presentation highlights the intersection of congenital vascular defects, dermatological manifestations, and inherited predisposition, requiring coordinated management by pediatric, genetic, and vascular specialists.\n"
     ]
    }
   ],
   "source": [
    "print(summaries[0][1])"
   ]
  },
  {
   "cell_type": "markdown",
   "id": "05834bb0",
   "metadata": {},
   "source": [
    "### Case Demonstration\n",
    "In the following case, we first used the prompt text generated in the example tutorials of the **Rank** and **Recommender**. This prompt text integrates the patient's input symptom information as well as the results from the Rank and Recommender. "
   ]
  },
  {
   "cell_type": "code",
   "execution_count": 9,
   "id": "716595a2",
   "metadata": {},
   "outputs": [
    {
     "name": "stdout",
     "output_type": "stream",
     "text": [
      "\n",
      "Assume you are an experienced clinical physician. Below is a patient’s symptom description using HPO (Human Phenotype Ontology) terms, along with three candidate diagnoses. To further differentiate between these diagnoses, the physician has provided potential symptoms that the patient does not currently exhibit but could help clarify or confirm the diagnosis. Your task is to explain why these potential symptoms are critical for distinguishing between the three diseases.  \n",
      "\n",
      "**Patient’s Symptom Description**:  \n",
      "Caries is a multifactorial bacterial infection affecting the structure of the tooth. This term has been used to describe the presence of more than expected dental caries. A height below that which is expected according to age and gender norms. Although there is no universally accepted definition of short stature, many refer to \\ An increased sensitivity of the skin to light. Photosensitivity may result in a rash upon exposure to the sun (which is known as photodermatosis). Photosensitivity can be diagnosed by phototests in which light is shone on small areas of skin. Generalized muscular hypotonia (abnormally low muscle tone). A type of hearing impairment in one or both ears related to an abnormal functionality of the cochlear nerve. Head circumference below 2 standard deviations below the mean for age and gender. An eye that is more deeply recessed into the plane of the face than is typical.  \n",
      "\n",
      "**Three Most Likely Disease Diagnoses**:  \n",
      "1. [OMIM:216400] Cockayne syndrome, type A\n",
      "2. [OMIM:133540] Cockayne syndrome, type B\n",
      "3. [OMIM:278760] Xeroderma pigmentosum, complementation group F\n",
      "4. [OMIM:618342] Intellectual developmental disorder with abnormal behavior, microcephaly, and short stature\n",
      "5. [OMIM:268850] Richieri-Costa/guion-Almeida syndrome  \n",
      "\n",
      "**Potential Symptoms for Further Differentiation**:  \n",
      "1. [OMIM:216400] Cockayne syndrome, type A : Hypogonadism, Prominent nose, Cataract\n",
      "2. [OMIM:133540] Cockayne syndrome, type B : Triangular face, Prominent nasal bridge, Microcornea\n",
      "3. [OMIM:278760] Xeroderma pigmentosum, complementation group F : Hearing impairment, Astigmatism, Dementia\n",
      "4. [OMIM:618342] Intellectual developmental disorder with abnormal behavior, microcephaly, and short stature : Thick lower lip vermilion, Open mouth, High palate\n",
      "5. [OMIM:268850] Richieri-Costa/guion-Almeida syndrome : Cleft palate, Cleft upper lip, Brachycephaly  \n",
      "\n",
      "**Instructions**:  \n",
      "1. **Explain Potential Symptoms**: Provide a clear and concise rationale for why the listed potential symptoms are critical for distinguishing between the three diseases. Focus on how these symptoms are specific to or more prevalent in one disease compared to the others.  \n",
      "2. **Do Not Diagnose**: Do not make any new diagnoses or suggest additional diseases. Your response should focus solely on explaining the potential symptoms for differentiation.  \n",
      "3. **Length and Style**: The report should be approximately 200–300 words in length, written in a professional and authentic tone that mimics a human expert.  \n",
      "4. **No References**: Do not include any references in the report.   \n",
      "\n"
     ]
    }
   ],
   "source": [
    "with open('../data/case_report_prompt.txt', 'r', encoding='utf-8') as file:\n",
    "    content = file.read()\n",
    "    print(content)\n"
   ]
  },
  {
   "cell_type": "code",
   "execution_count": 10,
   "id": "2ffc07a5",
   "metadata": {},
   "outputs": [
    {
     "name": "stderr",
     "output_type": "stream",
     "text": [
      "Device set to use cuda:1\n"
     ]
    }
   ],
   "source": [
    "summaries = []\n",
    "\n",
    "max_input_tokens = 4096\n",
    "\n",
    "hpo_def = Input_text\n",
    "\n",
    "prompt = content\n",
    "  \n",
    "tokenized_text = tokenizer(prompt, return_tensors=\"pt\").input_ids[0]\n",
    "truncated_tokenized_text = tokenized_text[:max_input_tokens]\n",
    "    \n",
    "truncated_text = tokenizer.decode(truncated_tokenized_text)  + '<think>:\\n'\n",
    "\n",
    "summarizer = pipeline(\n",
    "    \"text-generation\",  \n",
    "    model=model,  \n",
    "    tokenizer=tokenizer\n",
    ")\n",
    "response = summarizer(\n",
    "    truncated_text,\n",
    "    max_new_tokens= max_input_tokens + 4096,\n",
    "    top_p=0.95,\n",
    "    top_k=50,\n",
    "    do_sample=True\n",
    ")\n",
    "\n",
    "summary = response[0]['generated_text'].split('<think>:')\n",
    "summaries.append(summary)\n",
    "torch.cuda.empty_cache()\n"
   ]
  },
  {
   "cell_type": "markdown",
   "id": "f73009da",
   "metadata": {},
   "source": [
    "# Input"
   ]
  },
  {
   "cell_type": "code",
   "execution_count": 11,
   "id": "9ac326af",
   "metadata": {},
   "outputs": [
    {
     "name": "stdout",
     "output_type": "stream",
     "text": [
      "\n",
      "Assume you are an experienced clinical physician. Below is a patient’s symptom description using HPO (Human Phenotype Ontology) terms, along with three candidate diagnoses. To further differentiate between these diagnoses, the physician has provided potential symptoms that the patient does not currently exhibit but could help clarify or confirm the diagnosis. Your task is to explain why these potential symptoms are critical for distinguishing between the three diseases.  \n",
      "\n",
      "**Patient’s Symptom Description**:  \n",
      "Caries is a multifactorial bacterial infection affecting the structure of the tooth. This term has been used to describe the presence of more than expected dental caries. A height below that which is expected according to age and gender norms. Although there is no universally accepted definition of short stature, many refer to \\ An increased sensitivity of the skin to light. Photosensitivity may result in a rash upon exposure to the sun (which is known as photodermatosis). Photosensitivity can be diagnosed by phototests in which light is shone on small areas of skin. Generalized muscular hypotonia (abnormally low muscle tone). A type of hearing impairment in one or both ears related to an abnormal functionality of the cochlear nerve. Head circumference below 2 standard deviations below the mean for age and gender. An eye that is more deeply recessed into the plane of the face than is typical.  \n",
      "\n",
      "**Three Most Likely Disease Diagnoses**:  \n",
      "1. [OMIM:216400] Cockayne syndrome, type A\n",
      "2. [OMIM:133540] Cockayne syndrome, type B\n",
      "3. [OMIM:278760] Xeroderma pigmentosum, complementation group F\n",
      "4. [OMIM:618342] Intellectual developmental disorder with abnormal behavior, microcephaly, and short stature\n",
      "5. [OMIM:268850] Richieri-Costa/guion-Almeida syndrome  \n",
      "\n",
      "**Potential Symptoms for Further Differentiation**:  \n",
      "1. [OMIM:216400] Cockayne syndrome, type A : Hypogonadism, Prominent nose, Cataract\n",
      "2. [OMIM:133540] Cockayne syndrome, type B : Triangular face, Prominent nasal bridge, Microcornea\n",
      "3. [OMIM:278760] Xeroderma pigmentosum, complementation group F : Hearing impairment, Astigmatism, Dementia\n",
      "4. [OMIM:618342] Intellectual developmental disorder with abnormal behavior, microcephaly, and short stature : Thick lower lip vermilion, Open mouth, High palate\n",
      "5. [OMIM:268850] Richieri-Costa/guion-Almeida syndrome : Cleft palate, Cleft upper lip, Brachycephaly  \n",
      "\n",
      "**Instructions**:  \n",
      "1. **Explain Potential Symptoms**: Provide a clear and concise rationale for why the listed potential symptoms are critical for distinguishing between the three diseases. Focus on how these symptoms are specific to or more prevalent in one disease compared to the others.  \n",
      "2. **Do Not Diagnose**: Do not make any new diagnoses or suggest additional diseases. Your response should focus solely on explaining the potential symptoms for differentiation.  \n",
      "3. **Length and Style**: The report should be approximately 200–300 words in length, written in a professional and authentic tone that mimics a human expert.  \n",
      "4. **No References**: Do not include any references in the report.   \n",
      "\n"
     ]
    }
   ],
   "source": [
    "print(summaries[0][0])"
   ]
  },
  {
   "cell_type": "markdown",
   "id": "8d5598c8",
   "metadata": {},
   "source": [
    "# Output"
   ]
  },
  {
   "cell_type": "code",
   "execution_count": 12,
   "id": "57b025af",
   "metadata": {},
   "outputs": [
    {
     "name": "stdout",
     "output_type": "stream",
     "text": [
      "\n",
      "Okay, let's tackle this query step by step. The user has presented a patient with several symptoms described using HPO terms and three likely diagnoses. They want me to explain why certain potential symptoms are crucial for differentiating between these diagnoses.\n",
      "\n",
      "First, I need to understand each condition's key features. Let's list them out:\n",
      "\n",
      "1. **Cockayne Syndrome Type A (OMIM:216400)**: Autosomal recessive, severe photosensitivity, growth failure, cataracts.\n",
      "   - Key symptoms: Photophobia, skin photosensitivity, growth retardation (short stature), intellectual disability, cataracts.\n",
      "\n",
      "2. **Cockayne Syndrome Type B (OMIM:133540)**: Also autosomal recessive, similar to Type A but milder.\n",
      "   - Key symptoms: More prominent facial features like triangular face, prominent nasal bridge, microcornea.\n",
      "\n",
      "3. **Xeroderma Pigmentosum CGF (OMIM:278760)**: DNA repair defect leading to sun damage.\n",
      "   - Key symptoms: Sun-induced dermatitis, skin cancers, hearing loss, cognitive decline (dementia).\n",
      "\n",
      "4. **Intellectual Development Disorder w/ Abnormal Behavior, Microcephaly, Short Stature (OMIM:618342)**: Intellectual disability, microcephaly, growth issues.\n",
      "   - Features: Thick lower lip, open mouth, high-arched palate.\n",
      "\n",
      "5. **Richieri-Costa/Guion-Almeida Syndrome (OMIM:268850)**: Craniofacial abnormalities.\n",
      "   - Features: Cleft lip/palate, brachycephaly.\n",
      "\n",
      "Now, the potential symptoms given for differentiation are:\n",
      "\n",
      "1. Cockayne A: Hypogonadism, Prominent nose, Cataract\n",
      "2. Cockayne B: Triangular face, Prominent nasal bridge, Microcornea\n",
      "3. XP CGF: Hearing impairment, Astigmatism, Dementia\n",
      "4. ID/DD: Thick lower lip, Open mouth, High palate\n",
      "5. RCGA: Cleft upper lip, Cleft palate, Brachycephaly\n",
      "\n",
      "I need to show how these symptoms align with each condition.\n",
      "\n",
      "Starting with Cockayne Syndrome types: Both have photosensitivity, growth issues, cataracts. But Cockayne B has more pronounced craniofacial changes (triangular face, nasal bridge) whereas Type A might have different facial features. However, the mention here is \"Prominent nose\" in Type A, so maybe they don't overlap much.\n",
      "\n",
      "XP CGF: Hearing loss (astigmatism is another word for visual impairment? Wait, astigmatism is refractive error, while hearing loss is auditory. So XP has both. But the user lists hearing impairment and astigmatism as separate. Maybe XP can have both?) Also, dementia points towards XP.\n",
      "\n",
      "ID/DD: Thick lower lip, open mouth, high palate. That sounds like Pierre Robin sequence, but also seen in some genetic syndromes. Could overlap with RCGA if it's craniofacial, but RCGA has clefts, not open mouth. Hmm.\n",
      "\n",
      "RCGA: Cleft lip/palate, brachycephaly. These are distinct from the other conditions. So if the patient has those, it would point to RCGA.\n",
      "\n",
      "Putting it all together: The key is to link the facial features and systemic symptoms to each condition. For example, if the patient has a triangular face, prominent nasal bridge, microcornea – that's Cockayne B. If they have thin upper lip, open mouth, high palate – that's RCGA. Hearing loss and dementia would be XP. Hypogonadism and cataracts are Cockayne A. Thick lower lip and other features of ID/DD. \n",
      "\n",
      "So, the potential symptoms are critical because they highlight unique combinations of craniofacial, neurological, and sensory abnormalities that distinguish one syndrome from another. Each symptom set correlates with the pathophysiology of the respective disorders. For instance, XP's hearing loss and dementia are classic, while Cockayne's cataracts and growth issues are hallmark. The facial dysmorphism in Cockayne B vs. A helps differentiate. RCGA's clefts are distinctive. ID/DD has its own signs but may overlap with others depending on the specific features.</think> The potential symptoms critical for distinguishing between the three diseases lie in their characteristic phenotypic features, which align uniquely with the underlying etiologies:\n",
      "\n",
      "1. **Cockayne Syndrome Type A (OMIM:216400)**:  \n",
      "   - **Hypogonadism**, **prominent nose**, and **cataracts** are hallmark features. These indicate a severe autosomal recessive disorder characterized by progressive photosensitivity, endocrine dysfunction, and early-onset aging-like complications. The combination of midface hypoplasia (prominent nose) and lens opacities suggests a distinct molecular mechanism, distinguishing it from Cockayne Type B.  \n",
      "   - *Differentiation*: Unlike Cockayne Type B, which exhibits more pronounced craniofacial anomalies (e.g., triangular face, nasal bridge prominence), Type A lacks such prominent facial features and focuses instead on midface and ocular manifestations.\n",
      "\n",
      "2. **Cockayne Syndrome Type B (OMIM:133540)**:  \n",
      "   - **Triangular face**, **prominent nasal bridge**, and **microcornea** define this variant. It manifests similarly to Type A but with less severe cataracts and fewer non-cutaneous manifestations. The facial dysmorphism aligns precisely with this subtype.  \n",
      "   - *Differentiation*: While sharing growth retardation and photosensitivity with Type A, the more striking craniofacial traits (e.g., triangular face) and lens involvement (microcornea) are diagnostic of Type B.\n",
      "\n",
      "3. **Xeroderma Pigmentosum Complementation Group F (OMIM:278760)**:  \n",
      "   - **Hearing impairment** (astigmatism as a refractory error), **cognitive decline** (dementia), and **photosensitivity** characterize this condition. Its association with neurodegeneration, cutaneous cancer risk, and sensorineural deficits distinguishes it from the other disorders.  \n",
      "   - *Differentiation*: While XP typically involves sun-sensitizing skin lesions, this subgroup combines profound hearing loss with progressive neurological deterioration, signaling a unique pathway of DNA repair defects.\n",
      "\n",
      "4. **Intellectual Development Disorder (DD)/Microcephaly/Short Stature (OMIM:618342)**:  \n",
      "   - **Thick lower lip**, **open mouth**, and **high-arched palate** are distinctive. These craniofacial anomalies are associated with global developmental delays and structural brain anomalies.  \n",
      "   - *Differentiation*: Unlike Cockayne or XP, this DD/DDG entity lacks photosensitivity and neurodevelopmental regression; instead, it reflects a congenital neurogenetic syndrome impacting skull and oral development.\n",
      "\n",
      "5. **Richieri-Costa/Guion-Almeida Syndrome (OMIM:268850)**:  \n",
      "   - **Cleft upper/lower lip/palate** and **brachycephaly** define this rare craniofacial syndrome. Its etiology lies in connective tissue defects causing soft tissue malformations.  \n",
      "   - *Differentiation*: The presence of clefting and brachycephaly sharply delineates this disorder from the remaining conditions, which either lack significant craniofacial anomalies or focus on sensory deficits (e.g., XP) or metabolic derangements (Cockayne).\n",
      "\n",
      "These clinical clues—particularly facial gestalt, sensory impairments, and systemic manifestations—are critical for excluding overlapping phenotypes and establishing the definitive diagnosis. Each condition's unique constellation of findings ensures targeted evaluation, including genetic testing and functional assessments, to tailor management strategies.\n"
     ]
    }
   ],
   "source": [
    "print(summaries[0][1])"
   ]
  },
  {
   "cell_type": "markdown",
   "id": "274288b3",
   "metadata": {},
   "source": [
    "# Chain of thought"
   ]
  },
  {
   "cell_type": "code",
   "execution_count": 13,
   "id": "9b861117",
   "metadata": {},
   "outputs": [
    {
     "name": "stdout",
     "output_type": "stream",
     "text": [
      "\n",
      "Okay, let's tackle this query step by step. The user has presented a patient with several symptoms described using HPO terms and three likely diagnoses. They want me to explain why certain potential symptoms are crucial for differentiating between these diagnoses.\n",
      "\n",
      "First, I need to understand each condition's key features. Let's list them out:\n",
      "\n",
      "1. **Cockayne Syndrome Type A (OMIM:216400)**: Autosomal recessive, severe photosensitivity, growth failure, cataracts.\n",
      "   - Key symptoms: Photophobia, skin photosensitivity, growth retardation (short stature), intellectual disability, cataracts.\n",
      "\n",
      "2. **Cockayne Syndrome Type B (OMIM:133540)**: Also autosomal recessive, similar to Type A but milder.\n",
      "   - Key symptoms: More prominent facial features like triangular face, prominent nasal bridge, microcornea.\n",
      "\n",
      "3. **Xeroderma Pigmentosum CGF (OMIM:278760)**: DNA repair defect leading to sun damage.\n",
      "   - Key symptoms: Sun-induced dermatitis, skin cancers, hearing loss, cognitive decline (dementia).\n",
      "\n",
      "4. **Intellectual Development Disorder w/ Abnormal Behavior, Microcephaly, Short Stature (OMIM:618342)**: Intellectual disability, microcephaly, growth issues.\n",
      "   - Features: Thick lower lip, open mouth, high-arched palate.\n",
      "\n",
      "5. **Richieri-Costa/Guion-Almeida Syndrome (OMIM:268850)**: Craniofacial abnormalities.\n",
      "   - Features: Cleft lip/palate, brachycephaly.\n",
      "\n",
      "Now, the potential symptoms given for differentiation are:\n",
      "\n",
      "1. Cockayne A: Hypogonadism, Prominent nose, Cataract\n",
      "2. Cockayne B: Triangular face, Prominent nasal bridge, Microcornea\n",
      "3. XP CGF: Hearing impairment, Astigmatism, Dementia\n",
      "4. ID/DD: Thick lower lip, Open mouth, High palate\n",
      "5. RCGA: Cleft upper lip, Cleft palate, Brachycephaly\n",
      "\n",
      "I need to show how these symptoms align with each condition.\n",
      "\n",
      "Starting with Cockayne Syndrome types: Both have photosensitivity, growth issues, cataracts. But Cockayne B has more pronounced craniofacial changes (triangular face, nasal bridge) whereas Type A might have different facial features. However, the mention here is \"Prominent nose\" in Type A, so maybe they don't overlap much.\n",
      "\n",
      "XP CGF: Hearing loss (astigmatism is another word for visual impairment? Wait, astigmatism is refractive error, while hearing loss is auditory. So XP has both. But the user lists hearing impairment and astigmatism as separate. Maybe XP can have both?) Also, dementia points towards XP.\n",
      "\n",
      "ID/DD: Thick lower lip, open mouth, high palate. That sounds like Pierre Robin sequence, but also seen in some genetic syndromes. Could overlap with RCGA if it's craniofacial, but RCGA has clefts, not open mouth. Hmm.\n",
      "\n",
      "RCGA: Cleft lip/palate, brachycephaly. These are distinct from the other conditions. So if the patient has those, it would point to RCGA.\n",
      "\n",
      "Putting it all together: The key is to link the facial features and systemic symptoms to each condition. For example, if the patient has a triangular face, prominent nasal bridge, microcornea – that's Cockayne B. If they have thin upper lip, open mouth, high palate – that's RCGA. Hearing loss and dementia would be XP. Hypogonadism and cataracts are Cockayne A. Thick lower lip and other features of ID/DD. \n",
      "\n",
      "So, the potential symptoms are critical because they highlight unique combinations of craniofacial, neurological, and sensory abnormalities that distinguish one syndrome from another. Each symptom set correlates with the pathophysiology of the respective disorders. For instance, XP's hearing loss and dementia are classic, while Cockayne's cataracts and growth issues are hallmark. The facial dysmorphism in Cockayne B vs. A helps differentiate. RCGA's clefts are distinctive. ID/DD has its own signs but may overlap with others depending on the specific features.\n"
     ]
    }
   ],
   "source": [
    "print(summaries[0][1].split('</think>')[0])"
   ]
  },
  {
   "cell_type": "markdown",
   "id": "eb9e2167",
   "metadata": {},
   "source": [
    "# Case Report"
   ]
  },
  {
   "cell_type": "code",
   "execution_count": 14,
   "id": "cee60f90",
   "metadata": {},
   "outputs": [
    {
     "name": "stdout",
     "output_type": "stream",
     "text": [
      " The potential symptoms critical for distinguishing between the three diseases lie in their characteristic phenotypic features, which align uniquely with the underlying etiologies:\n",
      "\n",
      "1. **Cockayne Syndrome Type A (OMIM:216400)**:  \n",
      "   - **Hypogonadism**, **prominent nose**, and **cataracts** are hallmark features. These indicate a severe autosomal recessive disorder characterized by progressive photosensitivity, endocrine dysfunction, and early-onset aging-like complications. The combination of midface hypoplasia (prominent nose) and lens opacities suggests a distinct molecular mechanism, distinguishing it from Cockayne Type B.  \n",
      "   - *Differentiation*: Unlike Cockayne Type B, which exhibits more pronounced craniofacial anomalies (e.g., triangular face, nasal bridge prominence), Type A lacks such prominent facial features and focuses instead on midface and ocular manifestations.\n",
      "\n",
      "2. **Cockayne Syndrome Type B (OMIM:133540)**:  \n",
      "   - **Triangular face**, **prominent nasal bridge**, and **microcornea** define this variant. It manifests similarly to Type A but with less severe cataracts and fewer non-cutaneous manifestations. The facial dysmorphism aligns precisely with this subtype.  \n",
      "   - *Differentiation*: While sharing growth retardation and photosensitivity with Type A, the more striking craniofacial traits (e.g., triangular face) and lens involvement (microcornea) are diagnostic of Type B.\n",
      "\n",
      "3. **Xeroderma Pigmentosum Complementation Group F (OMIM:278760)**:  \n",
      "   - **Hearing impairment** (astigmatism as a refractory error), **cognitive decline** (dementia), and **photosensitivity** characterize this condition. Its association with neurodegeneration, cutaneous cancer risk, and sensorineural deficits distinguishes it from the other disorders.  \n",
      "   - *Differentiation*: While XP typically involves sun-sensitizing skin lesions, this subgroup combines profound hearing loss with progressive neurological deterioration, signaling a unique pathway of DNA repair defects.\n",
      "\n",
      "4. **Intellectual Development Disorder (DD)/Microcephaly/Short Stature (OMIM:618342)**:  \n",
      "   - **Thick lower lip**, **open mouth**, and **high-arched palate** are distinctive. These craniofacial anomalies are associated with global developmental delays and structural brain anomalies.  \n",
      "   - *Differentiation*: Unlike Cockayne or XP, this DD/DDG entity lacks photosensitivity and neurodevelopmental regression; instead, it reflects a congenital neurogenetic syndrome impacting skull and oral development.\n",
      "\n",
      "5. **Richieri-Costa/Guion-Almeida Syndrome (OMIM:268850)**:  \n",
      "   - **Cleft upper/lower lip/palate** and **brachycephaly** define this rare craniofacial syndrome. Its etiology lies in connective tissue defects causing soft tissue malformations.  \n",
      "   - *Differentiation*: The presence of clefting and brachycephaly sharply delineates this disorder from the remaining conditions, which either lack significant craniofacial anomalies or focus on sensory deficits (e.g., XP) or metabolic derangements (Cockayne).\n",
      "\n",
      "These clinical clues—particularly facial gestalt, sensory impairments, and systemic manifestations—are critical for excluding overlapping phenotypes and establishing the definitive diagnosis. Each condition's unique constellation of findings ensures targeted evaluation, including genetic testing and functional assessments, to tailor management strategies.\n"
     ]
    }
   ],
   "source": [
    "print(summaries[0][1].split('</think>')[1])"
   ]
  }
 ],
 "metadata": {
  "kernelspec": {
   "display_name": "phenodp",
   "language": "python",
   "name": "python3"
  },
  "language_info": {
   "codemirror_mode": {
    "name": "ipython",
    "version": 3
   },
   "file_extension": ".py",
   "mimetype": "text/x-python",
   "name": "python",
   "nbconvert_exporter": "python",
   "pygments_lexer": "ipython3",
   "version": "3.10.18"
  }
 },
 "nbformat": 4,
 "nbformat_minor": 5
}
